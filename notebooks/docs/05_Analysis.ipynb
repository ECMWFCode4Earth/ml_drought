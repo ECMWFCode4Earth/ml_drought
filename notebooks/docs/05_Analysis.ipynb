{
 "cells": [
  {
   "cell_type": "code",
   "execution_count": 2,
   "metadata": {},
   "outputs": [
    {
     "name": "stderr",
     "output_type": "stream",
     "text": [
      "WARNING:py.warnings:/Users/tommylees/miniconda3/envs/crop/lib/python3.7/site-packages/xarray/core/options.py:50: FutureWarning: The enable_cftimeindex option is now a no-op and will be removed in a future version of xarray.\n",
      "  FutureWarning)\n",
      "\n",
      "DEBUG:matplotlib:CACHEDIR=/Users/tommylees/.matplotlib\n",
      "DEBUG:matplotlib.font_manager:Using fontManager instance from /Users/tommylees/.matplotlib/fontlist-v310.json\n",
      "DEBUG:matplotlib.pyplot:Loaded backend module://ipykernel.pylab.backend_inline version unknown.\n"
     ]
    },
    {
     "data": {
      "text/plain": [
       "['plot_shap_values',\n",
       " 'EventDetector',\n",
       " 'SPI',\n",
       " 'ZScoreIndex',\n",
       " 'PercentNormalIndex',\n",
       " 'DroughtSeverityIndex',\n",
       " 'ChinaZIndex',\n",
       " 'DecileIndex',\n",
       " 'AnomalyIndex']"
      ]
     },
     "execution_count": 2,
     "metadata": {},
     "output_type": "execute_result"
    },
    {
     "name": "stderr",
     "output_type": "stream",
     "text": [
      "DEBUG:matplotlib.pyplot:Loaded backend module://ipykernel.pylab.backend_inline version unknown.\n"
     ]
    }
   ],
   "source": [
    "from pathlib import Path\n",
    "import os\n",
    "\n",
    "if Path('.').absolute().parents[1].name == 'ml_drought':\n",
    "    os.chdir(Path('.').absolute().parents[1])\n",
    "\n",
    "from src import analysis\n",
    "analysis.__all__"
   ]
  },
  {
   "cell_type": "markdown",
   "metadata": {},
   "source": [
    "# Analysis\n",
    "\n",
    "## EventDetector\n",
    "\n",
    "## Indices\n",
    "\n",
    "## SHAP Values"
   ]
  }
 ],
 "metadata": {
  "kernelspec": {
   "display_name": "Python 3",
   "language": "python",
   "name": "python3"
  },
  "language_info": {
   "codemirror_mode": {
    "name": "ipython",
    "version": 3
   },
   "file_extension": ".py",
   "mimetype": "text/x-python",
   "name": "python",
   "nbconvert_exporter": "python",
   "pygments_lexer": "ipython3",
   "version": "3.7.0"
  }
 },
 "nbformat": 4,
 "nbformat_minor": 2
}
