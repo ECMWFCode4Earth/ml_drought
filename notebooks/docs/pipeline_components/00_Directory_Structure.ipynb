{
 "cells": [
  {
   "cell_type": "markdown",
   "metadata": {},
   "source": [
    "## The `data` directory\n",
    "\n",
    "The pipeline interacts with the `data` directory. It is important that this directory is in the correct format since all of the pipeline interacts with it. The pipeline is flexible in its applications and modelling decisions but it is **very opinionated** about the structure of this directory. We therefore, recommend that you don't manually move files around from this directory. Ideally, this repository should be located somewhere with sufficient storage (either an external hard drive or a remote server). This is because data volumes can grow very quickly when working with 3+ dimensional data `(time, latitude, longitude)`.\n",
    "\n",
    "<img src=\"img/data_dir_diagram.png\" style='background-color: #878787; border-radius: 25px; padding: 20px'>\n",
    "\n",
    "### `raw` data \n",
    "The raw data exported from external sources. The `Exporters` populate this directory.\n",
    "\n",
    "### `interim` data\n",
    "The data that has been preprocessed. A temporary directory `data/{dataset}_interim/` will be created with each raw file being preprocessed individually (chopping the region of interest (`subset`) for example), before then being combined as a final step into the `data/{dataset}_preprocessed/{dataset}_{subset}.nc` file.\n",
    "\n",
    "### `features` data\n",
    "The features directory contains data that has been through the engineer and therefore split into `train` and `test` directories. This is the data that will be read by the `DataLoader` in the models. It is still stored as netcdf (`.nc`) files here so that it can be easily read and checked. \n",
    "\n",
    "Because we are currently working with time series models, each directory (e.g. `data/features/{experiment}/train/2015_1/`) has one target timestep and target variable (`y.nc`), and then the regressors stored in `x.nc`. `y.nc` will be the target variable for January 2015 in this example (`.../2015_1`).\n",
    "\n",
    "### `models` data\n",
    "The models directory store the predictions of the models. While the models work with numpy arrays, in order to utilise the power of xarray and the spatial-temporal structure of hydro-meteorological variables, we write the predictions back to `.nc`. \n",
    "\n",
    "In this directory you will find predictions for the `x.nc`/`y.nc` data stored in the `data/features/{experiment}/test/{time}`. The data used for testing is created by the `Engineers` and therefore stored in the `.../test` directory."
   ]
  },
  {
   "cell_type": "code",
   "execution_count": null,
   "metadata": {},
   "outputs": [],
   "source": []
  }
 ],
 "metadata": {
  "kernelspec": {
   "display_name": "Python 3",
   "language": "python",
   "name": "python3"
  },
  "language_info": {
   "codemirror_mode": {
    "name": "ipython",
    "version": 3
   },
   "file_extension": ".py",
   "mimetype": "text/x-python",
   "name": "python",
   "nbconvert_exporter": "python",
   "pygments_lexer": "ipython3",
   "version": "3.7.0"
  }
 },
 "nbformat": 4,
 "nbformat_minor": 2
}
