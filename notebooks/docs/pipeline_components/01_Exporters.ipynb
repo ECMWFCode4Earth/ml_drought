{
 "cells": [
  {
   "cell_type": "code",
   "execution_count": 7,
   "metadata": {},
   "outputs": [
    {
     "data": {
      "text/plain": [
       "['ERA5Exporter',\n",
       " 'VHIExporter',\n",
       " 'ERA5ExporterPOS',\n",
       " 'CHIRPSExporter',\n",
       " 'S5Exporter',\n",
       " 'GLEAMExporter',\n",
       " 'SRTMExporter',\n",
       " 'ESACCIExporter']"
      ]
     },
     "execution_count": 7,
     "metadata": {},
     "output_type": "execute_result"
    }
   ],
   "source": [
    "from pathlib import Path\n",
    "import os\n",
    "\n",
    "if Path('.').absolute().parents[1].name == 'ml_drought':\n",
    "    os.chdir(Path('.').absolute().parents[1])\n",
    "\n",
    "from src import exporters\n",
    "\n",
    "exporters.__all__"
   ]
  },
  {
   "cell_type": "markdown",
   "metadata": {},
   "source": [
    "# Exporters\n",
    "\n",
    "The `Exporters` are responsible for downloading data from external sources and writing to the `data/raw` directory. \n",
    "\n",
    "These `Exporters` download data from a variety of web-based sources and are all open-sourced although some may need agreements. Please check carefully before publishing results with this pipeline.\n",
    "\n",
    "<img src=\"img/exporter_diagram.png\" style='background-color: #878787; border-radius: 25px; padding: 20px'>\n",
    "\n",
    "### Sources:\n",
    "- The `S5Exporter` and the `ERA5Exporter` work with the [`Climate Data Store` (CDS)](https://cds.climate.copernicus.eu/#!/home) to download data. \n",
    "- The `ERA5ExporterPOS` downloads data from the PlanetOS AWS data mirror which can be visualised [here](https://data.planetos.com/datasets/ecmwf_era5)\n",
    "- The `GLEAMExporter` downloads data from the [GLEAM FTP Server](https://www.gleam.eu/)\n",
    "- The `VHIExporter` downloads data from the [NOAA Vegetation Health FTP Server](https://www.star.nesdis.noaa.gov/smcd/emb/vci/VH/vh_ftp.php)\n",
    "- The `SRTMExporter` uses the [`elevation` package](https://github.com/bopen/elevation)\n",
    "\n",
    "NOTE: By default the data \n",
    "\n",
    "## Exporters API\n",
    "\n",
    "The exporters have a common `export` method which will download the data to the `data/raw` directory by default. If you wish to download the data elsewhere then you should provide an `pathlib.Path` path to the `Exporter`. \n",
    "\n",
    "**Be aware that data volumes are significant (can be upwards of 1TB if you use downloaded all data)**\n",
    "\n",
    "**NOTE: the area surrounding Kenya will be downloaded by default for the CDS Exporters. Otherwise data is global and is subset later**\n",
    "\n",
    "## Let's explore the `ERA5Exporter`"
   ]
  },
  {
   "cell_type": "code",
   "execution_count": 12,
   "metadata": {},
   "outputs": [
    {
     "data": {
      "text/plain": [
       "['_check_iterable',\n",
       " '_correct_input',\n",
       " '_export',\n",
       " '_filename_from_selection_request',\n",
       " '_print_api_request',\n",
       " 'client',\n",
       " 'create_area',\n",
       " 'create_selection_request',\n",
       " 'data_folder',\n",
       " 'dataset',\n",
       " 'export',\n",
       " 'get_dataset',\n",
       " 'get_era5_times',\n",
       " 'make_filename',\n",
       " 'raw_folder']"
      ]
     },
     "execution_count": 12,
     "metadata": {},
     "output_type": "execute_result"
    }
   ],
   "source": [
    "exporter = exporters.ERA5Exporter()\n",
    "\n",
    "[method for method in dir(exporter) if '__' not in method]"
   ]
  },
  {
   "cell_type": "code",
   "execution_count": 15,
   "metadata": {},
   "outputs": [
    {
     "name": "stdout",
     "output_type": "stream",
     "text": [
      "Help on method export in module src.exporters.cds:\n",
      "\n",
      "export(variable: str, dataset: Union[str, NoneType] = None, granularity: str = 'hourly', show_api_request: bool = True, selection_request: Union[Dict, NoneType] = None, break_up: bool = False, n_parallel_requests: int = 3) -> List[pathlib.Path] method of src.exporters.cds.ERA5Exporter instance\n",
      "    Export functionality to prepare the API request and to send it to\n",
      "    the cdsapi.client() object.\n",
      "    \n",
      "    Arguments:\n",
      "    ---------\n",
      "    variable: str\n",
      "        The variable to be exported\n",
      "    dataset: Optional[str], default = None\n",
      "        The dataset from which to pull the variable from. If None, this\n",
      "        is inferred from the dataset and its granularity\n",
      "    granularity: str: {'hourly', 'monthly'}, default = 'hourly'\n",
      "        The temporal resolution of the data to be pulled\n",
      "    show_api_request: bool = True\n",
      "        Whether to print the selection dictionary before making the API request\n",
      "    selection_request: Optional[Dict], default = None\n",
      "        Selection request arguments to be merged with the defaults. If both a key is\n",
      "        defined in both the selection_request and the defaults, the value in the\n",
      "        selection_request takes precedence.\n",
      "    break_up: bool, default = True\n",
      "        The best way to download the data is by making many small calls to the CDS\n",
      "        API. If true, the calls will be broken up into months\n",
      "    parallel: bool, default = True\n",
      "        Whether to download data in parallel\n",
      "    n_parallel_requests:\n",
      "        How many parallel requests to the CDSAPI to make\n",
      "    \n",
      "    Returns:\n",
      "    -------\n",
      "    output_files: List of pathlib.Paths\n",
      "        paths to the downloaded data\n",
      "\n"
     ]
    }
   ],
   "source": [
    "help(exporter.export)"
   ]
  },
  {
   "cell_type": "code",
   "execution_count": 18,
   "metadata": {},
   "outputs": [
    {
     "name": "stdout",
     "output_type": "stream",
     "text": [
      "------------------------\n",
      "Dataset: reanalysis-era5-single-levels-monthly-means\n",
      "Selection Request:\n",
      "{'area': '6.002/33.501/-5.202/42.283',\n",
      " 'format': 'netcdf',\n",
      " 'month': ['01'],\n",
      " 'product_type': 'monthly_averaged_reanalysis',\n",
      " 'time': ['00:00',\n",
      "          '01:00',\n",
      "          '02:00',\n",
      "          '03:00',\n",
      "          '04:00',\n",
      "          '05:00',\n",
      "          '06:00',\n",
      "          '07:00',\n",
      "          '08:00',\n",
      "          '09:00',\n",
      "          '10:00',\n",
      "          '11:00',\n",
      "          '12:00',\n",
      "          '13:00',\n",
      "          '14:00',\n",
      "          '15:00',\n",
      "          '16:00',\n",
      "          '17:00',\n",
      "          '18:00',\n",
      "          '19:00',\n",
      "          '20:00',\n",
      "          '21:00',\n",
      "          '22:00',\n",
      "          '23:00'],\n",
      " 'variable': ['total_precipitation'],\n",
      " 'year': ['2010']}\n",
      "------------------------\n",
      "Output Filename:\n",
      "data/raw/reanalysis-era5-single-levels-monthly-means/total_precipitation/2010/01.nc\n",
      "------------------------\n"
     ]
    },
    {
     "data": {
      "text/plain": [
       "[PosixPath('data/raw/reanalysis-era5-single-levels-monthly-means/total_precipitation/2010/01.nc')]"
      ]
     },
     "execution_count": 18,
     "metadata": {},
     "output_type": "execute_result"
    }
   ],
   "source": [
    "exporter.export(variable='total_precipitation', granularity='monthly', selection_request=dict(year=[2010], month=[1]))"
   ]
  },
  {
   "cell_type": "code",
   "execution_count": null,
   "metadata": {},
   "outputs": [],
   "source": [
    "### Let's look at the VHI Exporter"
   ]
  },
  {
   "cell_type": "code",
   "execution_count": 20,
   "metadata": {},
   "outputs": [
    {
     "data": {
      "text/plain": [
       "['_run_export',\n",
       " 'check_52_files',\n",
       " 'check_failures',\n",
       " 'chunks',\n",
       " 'data_folder',\n",
       " 'dataset',\n",
       " 'export',\n",
       " 'get_default_years',\n",
       " 'get_filepaths_for_year',\n",
       " 'get_ftp_filenames',\n",
       " 'get_missing_filepaths',\n",
       " 'output_folder',\n",
       " 'raw_folder',\n",
       " 'save_errors']"
      ]
     },
     "execution_count": 20,
     "metadata": {},
     "output_type": "execute_result"
    }
   ],
   "source": [
    "exporter = exporters.VHIExporter()\n",
    "\n",
    "[method for method in dir(exporter) if '__' not in method]"
   ]
  },
  {
   "cell_type": "code",
   "execution_count": 21,
   "metadata": {},
   "outputs": [
    {
     "name": "stdout",
     "output_type": "stream",
     "text": [
      "Help on method export in module src.exporters.vhi:\n",
      "\n",
      "export(years: Union[List, NoneType] = None, repeats: int = 5, num_processes: int = 100) -> List method of src.exporters.vhi.VHIExporter instance\n",
      "    Export VHI data from the ftp server.\n",
      "    By default write output to raw/vhi/{YEAR}/{filename}\n",
      "    \n",
      "    Arguments:\n",
      "    ---------\n",
      "    years : Optional[List] = None\n",
      "        list of years that you want to download. If None, all years will\n",
      "        be downloaded\n",
      "    repeats: int = 5\n",
      "        The number of times to retry downloads which failed\n",
      "    num_processes: int = 100\n",
      "        The number of processes to run. If 1, the download happens serially\n",
      "    \n",
      "    Returns:\n",
      "    -------\n",
      "    batches : List\n",
      "        list of lists containing batches of filenames downloaded\n",
      "\n"
     ]
    }
   ],
   "source": [
    "help(exporter.export)"
   ]
  },
  {
   "cell_type": "code",
   "execution_count": null,
   "metadata": {},
   "outputs": [
    {
     "name": "stdout",
     "output_type": "stream",
     "text": [
      "Successful Download! data/raw/vhi/2015/VHP.G04.C07.npp.P2015001.VH.nc\n",
      "Successful Download! data/raw/vhi/2015/VHP.G04.C07.npp.P2015002.VH.nc\n"
     ]
    }
   ],
   "source": [
    "exporter.export(years=[2015], num_processes=1)"
   ]
  },
  {
   "cell_type": "markdown",
   "metadata": {},
   "source": [
    "TODO:\n",
    "- Standardise the VHI api (num_processes -> n_parallel_processes)\n",
    "- Allow the .export functionto only download single / a few files"
   ]
  }
 ],
 "metadata": {
  "kernelspec": {
   "display_name": "Python 3",
   "language": "python",
   "name": "python3"
  },
  "language_info": {
   "codemirror_mode": {
    "name": "ipython",
    "version": 3
   },
   "file_extension": ".py",
   "mimetype": "text/x-python",
   "name": "python",
   "nbconvert_exporter": "python",
   "pygments_lexer": "ipython3",
   "version": "3.7.0"
  }
 },
 "nbformat": 4,
 "nbformat_minor": 2
}
