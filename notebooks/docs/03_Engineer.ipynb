{
 "cells": [
  {
   "cell_type": "code",
   "execution_count": 2,
   "metadata": {},
   "outputs": [],
   "source": [
    "from pathlib import Path\n",
    "import os\n",
    "\n",
    "if Path('.').absolute().parents[1].name == 'ml_drought':\n",
    "    os.chdir(Path('.').absolute().parents[1])\n",
    "\n",
    "from src import engineer"
   ]
  },
  {
   "cell_type": "markdown",
   "metadata": {},
   "source": [
    "# Engineer\n",
    "\n",
    "The Engineer is responsible for taking the `preprocessed` data from the `data/interim/*_preprocessed/` directories and writing to the `data/features` directory. \n",
    "\n",
    "In doing so the `Engineer` creates `train` and `test` data for different month-years. \n",
    "\n",
    "The label on the directory `data/features/{experiment}/{year}_{month}` (for example: `data/features/nowcast/2015_1`) refers to the `target` timestep. Therefore, our `y.nc` has the timestep `January 2015` in this example.\n",
    "\n",
    "<img src=\"img/engineer_diagram.png\" style='background-color: #878787; border-radius: 25px; padding: 20px'>\n",
    "\n",
    "We currently have tw"
   ]
  },
  {
   "cell_type": "code",
   "execution_count": 4,
   "metadata": {},
   "outputs": [
    {
     "data": {
      "text/plain": [
       "src.engineer.Engineer"
      ]
     },
     "execution_count": 4,
     "metadata": {},
     "output_type": "execute_result"
    }
   ],
   "source": [
    "engineer.OneMonthForecastEngineer"
   ]
  },
  {
   "cell_type": "code",
   "execution_count": null,
   "metadata": {},
   "outputs": [],
   "source": []
  }
 ],
 "metadata": {
  "kernelspec": {
   "display_name": "Python 3",
   "language": "python",
   "name": "python3"
  },
  "language_info": {
   "codemirror_mode": {
    "name": "ipython",
    "version": 3
   },
   "file_extension": ".py",
   "mimetype": "text/x-python",
   "name": "python",
   "nbconvert_exporter": "python",
   "pygments_lexer": "ipython3",
   "version": "3.7.0"
  }
 },
 "nbformat": 4,
 "nbformat_minor": 2
}
