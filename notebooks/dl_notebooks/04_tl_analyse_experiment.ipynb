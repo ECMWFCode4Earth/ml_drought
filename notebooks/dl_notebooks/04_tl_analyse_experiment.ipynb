{
 "cells": [
  {
   "cell_type": "markdown",
   "metadata": {},
   "source": [
    "# Analyse the different train/test period experiments"
   ]
  },
  {
   "cell_type": "code",
   "execution_count": 138,
   "metadata": {},
   "outputs": [],
   "source": [
    "# !pip install netcdf4"
   ]
  },
  {
   "cell_type": "code",
   "execution_count": 139,
   "metadata": {},
   "outputs": [],
   "source": [
    "# !conda install -c conda-forge shap==0.30"
   ]
  },
  {
   "cell_type": "code",
   "execution_count": 140,
   "metadata": {},
   "outputs": [],
   "source": [
    "# !conda update matplotlib"
   ]
  },
  {
   "cell_type": "code",
   "execution_count": 13,
   "metadata": {},
   "outputs": [
    {
     "name": "stdout",
     "output_type": "stream",
     "text": [
      "The autoreload extension is already loaded. To reload it, use:\n",
      "  %reload_ext autoreload\n",
      "/home/jovyan/ml_drought\n"
     ]
    }
   ],
   "source": [
    "from pathlib import Path\n",
    "import os\n",
    "import warnings\n",
    "from typing import Tuple, Optional, Union, Dict, List\n",
    "\n",
    "%load_ext autoreload\n",
    "%autoreload\n",
    "\n",
    "# ignore warnings for now ...\n",
    "warnings.filterwarnings('ignore')\n",
    "\n",
    "if Path('.').absolute().parents[1].name == 'ml_drought':\n",
    "    os.chdir(Path('.').absolute().parents[1])\n",
    "\n",
    "!pwd"
   ]
  },
  {
   "cell_type": "code",
   "execution_count": 3,
   "metadata": {},
   "outputs": [],
   "source": [
    "import xarray as xr\n",
    "import pandas as pd\n",
    "import numpy as np\n",
    "import matplotlib.pyplot as plt\n",
    "import pickle\n",
    "\n",
    "data_dir = Path('data/')\n",
    "\n",
    "assert data_dir.exists()"
   ]
  },
  {
   "cell_type": "code",
   "execution_count": 4,
   "metadata": {},
   "outputs": [],
   "source": [
    "import seaborn as sns\n",
    "from src.utils import drop_nans_and_flatten\n",
    "\n",
    "from src.analysis import read_train_data, read_test_data, read_pred_data\n",
    "from src.utils import get_ds_mask"
   ]
  },
  {
   "cell_type": "markdown",
   "metadata": {},
   "source": [
    "# Get all experiment files"
   ]
  },
  {
   "cell_type": "code",
   "execution_count": 86,
   "metadata": {},
   "outputs": [
    {
     "name": "stdout",
     "output_type": "stream",
     "text": [
      "No. Driving Data:  27\n",
      "No. Modelled Data: 27\n",
      "data/features/2020_02_18:161206_one_month_forecast_TRhigh_TEhigh_LEN51\n",
      "data/models/2020_02_18:161206_one_month_forecast_TRhigh_TEhigh_LEN51\n"
     ]
    }
   ],
   "source": [
    "features = [d for d in (data_dir / 'features/').glob('2020*TR*')]\n",
    "features.sort()\n",
    "models = [d for d in (data_dir / 'models/').glob('2020*TR*')]\n",
    "models.sort()\n",
    "\n",
    "print(f\"No. Driving Data:  {len(features)}\")\n",
    "print(f\"No. Modelled Data: {len(models)}\")\n",
    "\n",
    "print(features[0])\n",
    "print(models[0])"
   ]
  },
  {
   "cell_type": "code",
   "execution_count": 102,
   "metadata": {},
   "outputs": [],
   "source": [
    "# get parameters for experiments\n",
    "test_length = 12\n",
    "pred_timesteps = 3\n",
    "\n",
    "train_hilos = [m.name.split('_')[-3][2:] for m in models]\n",
    "test_hilos = [m.name.split('_')[-2][2:] for m in models]\n",
    "train_lengths = [int(m.name.split('_')[-1][3:]) for m in models]"
   ]
  },
  {
   "cell_type": "code",
   "execution_count": 110,
   "metadata": {},
   "outputs": [
    {
     "name": "stdout",
     "output_type": "stream",
     "text": [
      "[51, 102, 153, 51, 102, 153, 51, 102, 153, 51, 102, 153, 51, 102, 153, 51, 102, 153, 51, 102, 153, 51, 102, 153, 51, 102, 153]\n",
      "[51, 114, 154, 51, 114, 154, 51, 113, 153, 51, 114, 153, 51, 113, 154, 51, 110, 154, 51, 115, 155, 51, 112, 153, 51, 114, 156]\n",
      "[23, 12, 12, 12, 12, 12, 12, 12, 12, 12, 12, 12, 12, 12, 12, 12, 10, 12, 12, 12, 12, 12, 12, 12, 12, 10, 12]\n"
     ]
    }
   ],
   "source": [
    "from pandas.tseries.offsets import MonthEnd\n",
    "\n",
    "# GET TEST TIMES\n",
    "test_times = [\n",
    "    np.array([\n",
    "        pd.to_datetime('-'.join(d.name.split('preds_')[-1].replace('.nc', '').split('_'))) + MonthEnd(1)\n",
    "        for d in (model / 'ealstm').glob('*.nc')\n",
    "    ])\n",
    "    for model in models\n",
    "]\n",
    "\n",
    "test_times2 = [\n",
    "    np.array([\n",
    "        pd.to_datetime('-'.join(d.name.split('_'))) + MonthEnd(1)\n",
    "        for d in (feature / 'test').iterdir()\n",
    "    ])\n",
    "    for feature in features\n",
    "]\n",
    "\n",
    "# GET TRAIN TIMES\n",
    "train_times = [\n",
    "    np.array([\n",
    "        pd.to_datetime('-'.join(d.name.split('_'))) + MonthEnd(1)\n",
    "        for d in (feature / 'train').iterdir()\n",
    "    ])\n",
    "    for feature in features\n",
    "]\n",
    "\n",
    "# check no. test timesteps is \n",
    "assert all([test_length == len(tt) for tt in test_times2])\n",
    "\n",
    "# check no. train timesteps are equivalent\n",
    "assert all([np.isclose(train_lengths[i], len(train_times[i]), atol=15) for i in range(len(train_times))])\n",
    "\n",
    "print(train_lengths)\n",
    "print([len(train_times[i]) for i in range(len(train_times))])\n",
    "\n",
    "# TODO: why is the number of model preds.nc objects different?\n",
    "print([len(test_times[i]) for i in range(len(test_times))])"
   ]
  },
  {
   "cell_type": "markdown",
   "metadata": {},
   "source": [
    "## Rebuild experiment objects"
   ]
  },
  {
   "cell_type": "code",
   "execution_count": 114,
   "metadata": {},
   "outputs": [],
   "source": [
    "from scripts.experiments.experiment import Experiment"
   ]
  },
  {
   "cell_type": "code",
   "execution_count": 121,
   "metadata": {},
   "outputs": [],
   "source": [
    "sorted_timesteps = pd.date_range('2008-01-01', '2020-01-01', freq='M')\n",
    "all_experiments = []\n",
    "for (\n",
    "    train_hilo, test_hilo, test_length, train_timesteps, test_timesteps\n",
    ") in zip(train_hilos, test_hilos, test_lengths, train_times, test_times2):\n",
    "    e = Experiment(\n",
    "        train_length=12,\n",
    "        train_hilo=train_hilo,\n",
    "        test_hilo=test_hilo,\n",
    "        test_length=test_length,\n",
    "        sorted_timesteps=sorted_timesteps,\n",
    "        pred_timesteps = 3,\n",
    "    )\n",
    "    e.train_timesteps = train_timesteps\n",
    "    e.test_timesteps = test_timesteps\n",
    "    \n",
    "    all_experiments.append(e)"
   ]
  },
  {
   "cell_type": "code",
   "execution_count": 126,
   "metadata": {},
   "outputs": [
    {
     "name": "stdout",
     "output_type": "stream",
     "text": [
      "['__class__', '__delattr__', '__dict__', '__dir__', '__doc__', '__eq__', '__format__', '__ge__', '__getattribute__', '__gt__', '__hash__', '__init__', '__init_subclass__', '__le__', '__lt__', '__module__', '__ne__', '__new__', '__reduce__', '__reduce_ex__', '__repr__', '__setattr__', '__sizeof__', '__str__', '__subclasshook__', '__weakref__', '_calculate_hilo_dict', 'get_experiment_timesteps', 'get_test_timesteps_plus', 'plot_experiment_split', 'pred_timesteps', 'print_experiment_summary', 'replacement', 'reshuffle', 'sorted_timesteps', 'test_hilo', 'test_length', 'test_timesteps', 'train_hilo', 'train_length', 'train_timesteps']\n"
     ]
    },
    {
     "data": {
      "text/plain": [
       "<matplotlib.axes._subplots.AxesSubplot at 0x7fe674524790>"
      ]
     },
     "execution_count": 126,
     "metadata": {},
     "output_type": "execute_result"
    },
    {
     "data": {
      "image/png": "[encoded data removed]",
      "text/plain": [
       "<Figure size 432x288 with 2 Axes>"
      ]
     },
     "metadata": {
      "needs_background": "light"
     },
     "output_type": "display_data"
    }
   ],
   "source": [
    "print(dir(all_experiments[0]))\n",
    "\n",
    "all_experiments[0].plot_experiment_split()"
   ]
  },
  {
   "cell_type": "markdown",
   "metadata": {},
   "source": [
    "# Load in the data"
   ]
  },
  {
   "cell_type": "code",
   "execution_count": 135,
   "metadata": {},
   "outputs": [],
   "source": [
    "# Experiment names\n",
    "experiments = [d.name for d in models]\n",
    "true_data_experiments = [d.name for d in features]\n",
    "\n",
    "TARGET_VAR = 'boku_VCI'\n",
    "\n",
    "# check the experiments are aligned properly\n",
    "assert all(\n",
    "    [\n",
    "        '_'.join(experiments[i].split('_')[3:]) == '_'.join(true_data_experiments[i].split('_')[3:])\n",
    "        for i in range(len(experiments))\n",
    "    ]\n",
    ")"
   ]
  },
  {
   "cell_type": "code",
   "execution_count": 133,
   "metadata": {},
   "outputs": [
    {
     "name": "stdout",
     "output_type": "stream",
     "text": [
      "one_month_forecast_TRhigh_TEhigh_LEN51\n",
      "one_month_forecast_TRhigh_TEhigh_LEN51\n"
     ]
    }
   ],
   "source": [
    "print('_'.join(experiments[0].split('_')[3:]))\n",
    "print('_'.join(true_data_experiments[0].split('_')[3:]))"
   ]
  },
  {
   "cell_type": "code",
   "execution_count": null,
   "metadata": {},
   "outputs": [],
   "source": [
    "obs_dict = {}\n",
    "model_dict = {}\n",
    "\n",
    "for TRUE_EXPERIMENT, EXPERIMENT in zip(true_data_experiments, experiments):\n",
    "    expt_name = '_'.join(EXPERIMENT.split('_')[3:])\n",
    "    \n",
    "    X_train, y_train = read_train_data(data_dir, experiment=TRUE_EXPERIMENT)\n",
    "    X_test, y_test = read_test_data(data_dir, experiment=TRUE_EXPERIMENT)\n",
    "    \n",
    "\n",
    "for EXPERIMENT, experiment_name in zip(experiments, experiment_names):\n",
    "    model_dict[experiment_name] = {}\n",
    "    lstm_pred = read_pred_data('rnn', data_dir, experiment=EXPERIMENT)[-1].where(~mask)\n",
    "    model_dict[experiment_name]['lstm_pred'] = lstm_pred\n",
    "    \n",
    "    # did we run persistence?\n",
    "    if bline:\n",
    "        bline_pred = read_pred_data('previous_month', data_dir, experiment=EXPERIMENT)[-1].where(~mask)\n",
    "        model_dict[experiment_name]['bline_pred'] = bline_pred\n",
    "    \n",
    "    # did we run ealstm?\n",
    "    if 'static' in experiment_name: \n",
    "        ealstm_pred = read_pred_data('ealstm', data_dir, experiment=EXPERIMENT)[-1].where(~mask)\n",
    "        model_dict[experiment_name]['ealstm_pred'] = ealstm_pred"
   ]
  }
 ],
 "metadata": {
  "kernelspec": {
   "display_name": "Python 3",
   "language": "python",
   "name": "python3"
  },
  "language_info": {
   "codemirror_mode": {
    "name": "ipython",
    "version": 3
   },
   "file_extension": ".py",
   "mimetype": "text/x-python",
   "name": "python",
   "nbconvert_exporter": "python",
   "pygments_lexer": "ipython3",
   "version": "3.7.6"
  }
 },
 "nbformat": 4,
 "nbformat_minor": 4
}
