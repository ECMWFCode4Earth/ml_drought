{
 "cells": [
  {
   "cell_type": "code",
   "execution_count": 1,
   "metadata": {},
   "outputs": [
    {
     "name": "stdout",
     "output_type": "stream",
     "text": [
      "Current Working Directory:  /Users/tommylees/github/ml_drought\n"
     ]
    }
   ],
   "source": [
    "# IMPORTS\n",
    "from pathlib import Path\n",
    "import xarray as xr\n",
    "import numpy as np\n",
    "\n",
    "import cdsapi\n",
    "import matplotlib.pyplot as plt\n",
    "\n",
    "import os\n",
    "import subprocess\n",
    "\n",
    "\n",
    "# set notebook options\n",
    "%load_ext autoreload\n",
    "%autoreload 2\n",
    "%matplotlib inline\n",
    "plt.rcParams['figure.figsize'] = 12, 6\n",
    "\n",
    "\n",
    "# Set working directory as project root\n",
    "if os.getcwd().split('/')[-1] != \"ml_drought\":\n",
    "    os.chdir('..')\n",
    "if os.getcwd().split('/')[-1] != \"ml_drought\":\n",
    "    os.chdir('..')\n",
    "\n",
    "assert os.getcwd().split('/')[-1] == \"ml_drought\", f\"Working directory should be the root (ml_drought), currently: {os.getcwd()}\"\n",
    "print(\"Current Working Directory: \",os.getcwd())"
   ]
  },
  {
   "cell_type": "markdown",
   "metadata": {},
   "source": [
    "# Test "
   ]
  },
  {
   "cell_type": "code",
   "execution_count": null,
   "metadata": {},
   "outputs": [],
   "source": [
    "data_path = Path('data')"
   ]
  },
  {
   "cell_type": "code",
   "execution_count": 4,
   "metadata": {},
   "outputs": [],
   "source": [
    "from src.exporters.base import BaseExporter\n",
    "from src.exporters import ERA5Exporter"
   ]
  },
  {
   "cell_type": "code",
   "execution_count": 13,
   "metadata": {},
   "outputs": [
    {
     "name": "stderr",
     "output_type": "stream",
     "text": [
      "/Users/tommylees/github/ml_drought/src/exporters/cds.py:205: UserWarning: day: 'int' object is not iterable. Converting to list\n",
      "  warnings.warn(f\"{key}: {te}. Converting to list\")\n"
     ]
    },
    {
     "data": {
      "text/plain": [
       "{'product_type': 'reanalysis',\n",
       " 'format': 'netcdf',\n",
       " 'variable': ['precipitation'],\n",
       " 'year': ['1980', '1990', '2000', '2010'],\n",
       " 'month': ['09', '10', '11', '12'],\n",
       " 'time': ['0', '0', ':', '9', '0'],\n",
       " 'day': ['10'],\n",
       " 'area': '6.002/33.501/-5.202/42.283'}"
      ]
     },
     "execution_count": 13,
     "metadata": {},
     "output_type": "execute_result"
    }
   ],
   "source": [
    "exporter = ERA5Exporter()\n",
    "exporter.create_selection_request(\n",
    "    'precipitation', \n",
    "    selection_request = {\n",
    "        'month':[9,10,11,12],\n",
    "        'day':(10),\n",
    "        'year':[1980,1990,2000,2010],\n",
    "        'time':'00:90'\n",
    "    }\n",
    ")"
   ]
  },
  {
   "cell_type": "code",
   "execution_count": null,
   "metadata": {},
   "outputs": [],
   "source": []
  }
 ],
 "metadata": {
  "kernelspec": {
   "display_name": "Python 3",
   "language": "python",
   "name": "python3"
  },
  "language_info": {
   "codemirror_mode": {
    "name": "ipython",
    "version": 3
   },
   "file_extension": ".py",
   "mimetype": "text/x-python",
   "name": "python",
   "nbconvert_exporter": "python",
   "pygments_lexer": "ipython3",
   "version": "3.6.8"
  }
 },
 "nbformat": 4,
 "nbformat_minor": 2
}
