{
 "cells": [
  {
   "cell_type": "markdown",
   "metadata": {},
   "source": [
    "Getting RMSE for the regions of interest"
   ]
  },
  {
   "cell_type": "code",
   "execution_count": 1,
   "metadata": {},
   "outputs": [],
   "source": [
    "import xarray as xr\n",
    "from pathlib import Path\n",
    "import pandas as pd\n",
    "import numpy as np\n",
    "from sklearn.metrics import r2_score\n",
    "\n",
    "from typing import Tuple, Dict, Optional, List"
   ]
  },
  {
   "cell_type": "markdown",
   "metadata": {},
   "source": [
    "Parameters:\n",
    "    \n",
    "```python\n",
    "always_ignore_vars = [\"ndvi\", \"p84.162\", \"sp\", \"tp\", \"Eb\"]\n",
    "rnn(  # earnn(\n",
    "    experiment=\"one_month_forecast\",\n",
    "    include_pred_month=True,\n",
    "    surrounding_pixels=None,\n",
    "    pretrained=False,\n",
    "    explain=False,\n",
    "    static=\"features\",\n",
    "    ignore_vars=always_ignore_vars,\n",
    "    num_epochs=50,\n",
    "    early_stopping=5,\n",
    "    hidden_size=256,\n",
    "    static_embedding_size=64,  # Not used, since static = \"features\"\n",
    "    predict_delta=True,\n",
    "    normalize_y=True,\n",
    "    include_prev_y=True,  # True for the LSTM, false for the EA-LSTM - significant difference in performance for the LSTM\n",
    "    include_latlons=True,\n",
    ")\n",
    "```"
   ]
  },
  {
   "cell_type": "code",
   "execution_count": 3,
   "metadata": {},
   "outputs": [],
   "source": [
    "data_dir = Path(\"../../data\")\n",
    "assert data_dir.exists()"
   ]
  },
  {
   "cell_type": "code",
   "execution_count": 3,
   "metadata": {},
   "outputs": [],
   "source": [
    "district_map = xr.open_dataset(data_dir / \"analysis/boundaries_preprocessed/district_l2_kenya.nc\")"
   ]
  },
  {
   "cell_type": "code",
   "execution_count": 4,
   "metadata": {},
   "outputs": [],
   "source": [
    "def analyze_region(\n",
    "        region_name: str, \n",
    "        district_map: xr.Dataset, \n",
    "        model_path: Path, \n",
    "        true_vals_path: Path) -> Tuple[float, float]:\n",
    "\n",
    "    region_lookup: Dict = dict(\n",
    "            zip(\n",
    "                [v.strip() for v in district_map.attrs[\"values\"].split(\",\")],\n",
    "                [int(k.strip()) for k in district_map.attrs[\"keys\"].split(\",\")],\n",
    "            )\n",
    "        )\n",
    "    \n",
    "    district_int = region_lookup[region_name]\n",
    "    \n",
    "    rmse: List[np.ndarray] = []\n",
    "    \n",
    "    for file_name in true_vals_path.glob(\"*\"):\n",
    "        year, month = file_name.name.split(\"_\")\n",
    "        \n",
    "        true_file = xr.open_dataset(file_name / \"y.nc\").where(district_map.district_l2 == district_int).rename({\"VCI\": \"preds\"}).isel(time=0)\n",
    "        model_file = xr.open_dataset(model_path / f\"preds_{year}_{month}.nc\").where(district_map.district_l2 == district_int)\n",
    "        \n",
    "        model_err = (model_file - true_file).preds.values\n",
    "        model_err = model_err[~np.isnan(model_err)]\n",
    "        rmse.append(np.sqrt(model_err ** 2))\n",
    "    \n",
    "    return np.concatenate(rmse).mean()"
   ]
  },
  {
   "cell_type": "code",
   "execution_count": 5,
   "metadata": {},
   "outputs": [],
   "source": [
    "results: Dict[str, Dict[str, float]] = {}\n",
    "for model in [\"ealstm\", \"ealstm_prev_y\", \"previous_month\", \"rnn\", \"rnn_prev_y\", \"rnn_v2\"]:\n",
    "    results[model] = {}\n",
    "    for region in [\"TURKANA\", \"MANDERA\", \"MARSABIT\", \"WAJIR\"]:\n",
    "        results[model][region] = analyze_region(region, district_map, data_dir / f\"models/one_month_forecast/{model}\", \n",
    "                data_dir / \"features/one_month_forecast/test\")"
   ]
  },
  {
   "cell_type": "code",
   "execution_count": 6,
   "metadata": {},
   "outputs": [
    {
     "data": {
      "text/plain": [
       "{'ealstm': {'TURKANA': 10.24743413984095,\n",
       "  'MANDERA': 8.302042759797557,\n",
       "  'MARSABIT': 8.59926364998737,\n",
       "  'WAJIR': 7.720248409576625},\n",
       " 'ealstm_prev_y': {'TURKANA': 10.380956926503991,\n",
       "  'MANDERA': 9.136506767119,\n",
       "  'MARSABIT': 8.688602326238922,\n",
       "  'WAJIR': 8.413396339210939},\n",
       " 'previous_month': {'TURKANA': 11.744256204752439,\n",
       "  'MANDERA': 12.204906110469631,\n",
       "  'MARSABIT': 10.453345229680162,\n",
       "  'WAJIR': 10.490208150497049},\n",
       " 'rnn': {'TURKANA': 12.79268367431508,\n",
       "  'MANDERA': 12.817927512766369,\n",
       "  'MARSABIT': 12.751116392970431,\n",
       "  'WAJIR': 12.912766885229038},\n",
       " 'rnn_prev_y': {'TURKANA': 10.551420846362797,\n",
       "  'MANDERA': 9.583836185529341,\n",
       "  'MARSABIT': 8.877953046433564,\n",
       "  'WAJIR': 8.849816731547334},\n",
       " 'rnn_v2': {'TURKANA': 10.347281979222965,\n",
       "  'MANDERA': 8.296828451609628,\n",
       "  'MARSABIT': 8.555181458396861,\n",
       "  'WAJIR': 7.6825907202643275}}"
      ]
     },
     "execution_count": 6,
     "metadata": {},
     "output_type": "execute_result"
    }
   ],
   "source": [
    "results"
   ]
  },
  {
   "cell_type": "code",
   "execution_count": 20,
   "metadata": {},
   "outputs": [],
   "source": [
    "# This assumes the region level analysis has already been run\n",
    "data = pd.read_csv(data_dir / \"analysis/region_analysis/regional_error_metrics_one_month_forecast_admin.csv\")"
   ]
  },
  {
   "cell_type": "code",
   "execution_count": 22,
   "metadata": {},
   "outputs": [
    {
     "name": "stdout",
     "output_type": "stream",
     "text": [
      "For previous_month in MANDERA, r2: 0.6603285118560509, rmse: 6.782883152807248\n",
      "For previous_month in MARSABIT, r2: 0.7379794755008586, rmse: 5.614264611411321\n",
      "For previous_month in TURKANA, r2: 0.7353679307295109, rmse: 8.153616374975181\n",
      "For previous_month in WAJIR, r2: 0.7216784010827435, rmse: 4.799640416412831\n",
      "For rnn in MANDERA, r2: 0.8760430983189101, rmse: 4.09751115816627\n",
      "For rnn in MARSABIT, r2: 0.9379473892756836, rmse: 2.7321544791063546\n",
      "For rnn in TURKANA, r2: 0.9642483406253416, rmse: 2.996933730658136\n",
      "For rnn in WAJIR, r2: 0.8403814575750312, rmse: 3.6347698480091455\n",
      "For ealstm in MANDERA, r2: 0.8964372143596075, rmse: 3.7453003439679136\n",
      "For ealstm in MARSABIT, r2: 0.9180415325614945, rmse: 3.1399456911022887\n",
      "For ealstm in TURKANA, r2: 0.9601880440484866, rmse: 3.1625383109492065\n",
      "For ealstm in WAJIR, r2: 0.8523573760195722, rmse: 3.495756098271948\n"
     ]
    }
   ],
   "source": [
    "for model in [\"previous_month\", \"rnn\", \"ealstm\"]:\n",
    "    for region in [\"MANDERA\", \"MARSABIT\", \"TURKANA\", \"WAJIR\"]:\n",
    "        row = data[(data.model == model) & (data.region_name == region) & \n",
    "                  (data.admin_level_name == \"district_l2_kenya\")]\n",
    "        print(f\"For {model} in {region}, r2: {row.r2.iloc[0]}, rmse: {row.rmse.iloc[0]}\")"
   ]
  },
  {
   "cell_type": "code",
   "execution_count": 9,
   "metadata": {},
   "outputs": [],
   "source": [
    "def rolling_average(district_csv: pd.DataFrame, years: Optional[List[int]] = None) -> Dict[str, float]:\n",
    "    relevant_districts = ['Mandera', 'Marsabit', 'Turkana', 'Wajir']\n",
    "\n",
    "    if years is None:\n",
    "        years = [2016, 2017]  # to reflect the Adede paper\n",
    "\n",
    "    district_csv[\"month\"] = pd.to_datetime(district_csv.datetime).dt.month\n",
    "    district_csv[\"year\"] = pd.to_datetime(district_csv.datetime).dt.year\n",
    "    \n",
    "    output_dict: Dict[str: float] = {}\n",
    "    \n",
    "    for district in relevant_districts:\n",
    "        for year in years:\n",
    "            year_df = district_csv[district_csv.year == year]\n",
    "            district_df = year_df[year_df.region_name == district.upper()]\n",
    "            true, predicted = [], []\n",
    "            for i in range(1, 12 - 1):\n",
    "                min_month = i\n",
    "                max_month = i + 3\n",
    "                submonth = district_df[(district_df.month >= min_month) & (district_df.month < max_month)]\n",
    "                predicted.append(submonth.predicted_mean_value.mean())\n",
    "                true.append(submonth.true_mean_value.mean())\n",
    "        district_score = r2_score(true, predicted)\n",
    "        print(f'For {district}, r2 score: {district_score}')\n",
    "        output_dict[district] = district_score\n",
    "    return output_dict"
   ]
  },
  {
   "cell_type": "code",
   "execution_count": 16,
   "metadata": {},
   "outputs": [],
   "source": [
    "ealstm = pd.read_csv(data_dir / 'analysis/region_analysis/ealstm/ealstm_district_l2_kenya.csv')\n",
    "prev_month = pd.read_csv(data_dir / 'analysis/region_analysis/previous_month/previous_month_district_l2_kenya.csv')\n",
    "rnn = pd.read_csv(data_dir / 'analysis/region_analysis/rnn/rnn_district_l2_kenya.csv')"
   ]
  },
  {
   "cell_type": "code",
   "execution_count": 10,
   "metadata": {
    "scrolled": true
   },
   "outputs": [
    {
     "name": "stdout",
     "output_type": "stream",
     "text": [
      "EALSTM\n",
      "For Mandera, r2 score: 0.7573224218952296\n",
      "For Marsabit, r2 score: 0.8648428559884426\n",
      "For Turkana, r2 score: 0.9546412369097191\n",
      "For Wajir, r2 score: 0.31978707795794936\n"
     ]
    }
   ],
   "source": [
    "print(\"EALSTM\")\n",
    "_ = rolling_average(ealstm)"
   ]
  },
  {
   "cell_type": "code",
   "execution_count": 11,
   "metadata": {},
   "outputs": [
    {
     "name": "stdout",
     "output_type": "stream",
     "text": [
      "RNN\n",
      "For Mandera, r2 score: 0.9018237219888635\n",
      "For Marsabit, r2 score: 0.9034783973564421\n",
      "For Turkana, r2 score: 0.9092636564420603\n",
      "For Wajir, r2 score: 0.6413044556616243\n"
     ]
    }
   ],
   "source": [
    "print(\"RNN\")\n",
    "_ = rolling_average(rnn)"
   ]
  },
  {
   "cell_type": "code",
   "execution_count": 12,
   "metadata": {},
   "outputs": [
    {
     "name": "stdout",
     "output_type": "stream",
     "text": [
      "Previous Month\n",
      "For Mandera, r2 score: 0.6789433578024786\n",
      "For Marsabit, r2 score: 0.8627492279447612\n",
      "For Turkana, r2 score: 0.8042008673182165\n",
      "For Wajir, r2 score: 0.5485452659642569\n"
     ]
    }
   ],
   "source": [
    "print(\"Previous Month\")\n",
    "_ = rolling_average(prev_month)"
   ]
  },
  {
   "cell_type": "code",
   "execution_count": null,
   "metadata": {},
   "outputs": [],
   "source": []
  }
 ],
 "metadata": {
  "kernelspec": {
   "display_name": "Python 3",
   "language": "python",
   "name": "python3"
  },
  "language_info": {
   "codemirror_mode": {
    "name": "ipython",
    "version": 3
   },
   "file_extension": ".py",
   "mimetype": "text/x-python",
   "name": "python",
   "nbconvert_exporter": "python",
   "pygments_lexer": "ipython3",
   "version": "3.6.8"
  }
 },
 "nbformat": 4,
 "nbformat_minor": 2
}
