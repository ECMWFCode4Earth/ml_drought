{
 "cells": [
  {
   "cell_type": "markdown",
   "metadata": {},
   "source": [
    "# Analyse the FUSE Experiments vs. LSTM work"
   ]
  },
  {
   "cell_type": "code",
   "execution_count": 1,
   "metadata": {},
   "outputs": [
    {
     "name": "stdout",
     "output_type": "stream",
     "text": [
      "/home/tommy/ml_drought\n"
     ]
    }
   ],
   "source": [
    "from pathlib import Path\n",
    "import os\n",
    "import warnings\n",
    "\n",
    "%load_ext autoreload\n",
    "%autoreload 2\n",
    "\n",
    "# ignore warnings for now ...\n",
    "warnings.filterwarnings('ignore')\n",
    "\n",
    "if Path('.').absolute().parents[1].name == 'ml_drought':\n",
    "    os.chdir(Path('.').absolute().parents[1])\n",
    "\n",
    "!pwd"
   ]
  },
  {
   "cell_type": "code",
   "execution_count": 2,
   "metadata": {},
   "outputs": [],
   "source": [
    "import xarray as xr\n",
    "import pandas as pd\n",
    "import numpy as np\n",
    "import matplotlib.pyplot as plt\n",
    "import pickle\n",
    "import torch\n",
    "\n",
    "from typing import List, Union, Optional, Tuple, Dict\n",
    "\n",
    "data_dir = Path('/cats/datastore/data/')\n",
    "# data_dir = Path('/Volumes/Lees_Extend/data/zip_data')\n",
    "# data_dir = Path('/Volumes/Lees_Extend/data/ecmwf_sowc/data/')\n",
    "# plot_dir = Path('/Users/tommylees/Downloads')\n",
    "\n",
    "assert data_dir.exists()"
   ]
  },
  {
   "cell_type": "code",
   "execution_count": 21,
   "metadata": {},
   "outputs": [
    {
     "data": {
      "text/plain": [
       "['config.yml',\n",
       " 'events.out.tfevents.1594810205.GPU_MachineLearning.10968.0',\n",
       " 'model_epoch001.pt',\n",
       " 'valid_ds.nc',\n",
       " 'results_lstm_less_vars_2004_1507_1028_E001.csv',\n",
       " 'all_lstm_less_vars_2004_1507_1028_results.csv',\n",
       " 'model_epoch002.pt',\n",
       " 'model_epoch003.pt',\n",
       " 'model_epoch004.pt',\n",
       " 'model_epoch005.pt',\n",
       " 'model_epoch006.pt',\n",
       " 'model_epoch007.pt',\n",
       " 'model_epoch008.pt',\n",
       " 'model_epoch009.pt',\n",
       " 'model_epoch010.pt',\n",
       " 'model_epoch011.pt',\n",
       " 'model_epoch012.pt',\n",
       " 'model_epoch013.pt',\n",
       " 'model_epoch014.pt',\n",
       " 'model_epoch015.pt',\n",
       " 'results_lstm_less_vars_2004_1507_1028_E002.csv',\n",
       " 'results_lstm_less_vars_2004_1507_1028_E006.csv',\n",
       " 'results_lstm_less_vars_2004_1507_1028_E007.csv',\n",
       " 'results_lstm_less_vars_2004_1507_1028_E008.csv',\n",
       " 'results_lstm_less_vars_2004_1507_1028_E012.csv',\n",
       " 'results_lstm_less_vars_2004_1507_1028_E014.csv',\n",
       " 'results_lstm_less_vars_2004_1507_1028_E009.csv',\n",
       " 'results_lstm_less_vars_2004_1507_1028_E010.csv',\n",
       " 'results_lstm_less_vars_2004_1507_1028_E005.csv',\n",
       " 'results_lstm_less_vars_2004_1507_1028_E004.csv',\n",
       " 'results_lstm_less_vars_2004_1507_1028_E003.csv',\n",
       " 'results_lstm_less_vars_2004_1507_1028_E015.csv',\n",
       " 'results_lstm_less_vars_2004_1507_1028_E013.csv',\n",
       " 'results_lstm_less_vars_2004_1507_1028_E011.csv',\n",
       " 'train_data',\n",
       " 'test']"
      ]
     },
     "execution_count": 21,
     "metadata": {},
     "output_type": "execute_result"
    }
   ],
   "source": [
    "[d.name for d in (data_dir / \"runs/lstm_less_vars_2004_1507_1028/\").iterdir()]"
   ]
  },
  {
   "cell_type": "markdown",
   "metadata": {},
   "source": [
    "# Load csv"
   ]
  },
  {
   "cell_type": "code",
   "execution_count": 39,
   "metadata": {},
   "outputs": [
    {
     "name": "stdout",
     "output_type": "stream",
     "text": [
      "Reading E011.csv\n",
      "Reading E015.csv\n"
     ]
    },
    {
     "data": {
      "text/html": [
       "<div>\n",
       "<style scoped>\n",
       "    .dataframe tbody tr th:only-of-type {\n",
       "        vertical-align: middle;\n",
       "    }\n",
       "\n",
       "    .dataframe tbody tr th {\n",
       "        vertical-align: top;\n",
       "    }\n",
       "\n",
       "    .dataframe thead th {\n",
       "        text-align: right;\n",
       "    }\n",
       "</style>\n",
       "<table border=\"1\" class=\"dataframe\">\n",
       "  <thead>\n",
       "    <tr style=\"text-align: right;\">\n",
       "      <th></th>\n",
       "      <th>station_id</th>\n",
       "      <th>time</th>\n",
       "      <th>obs</th>\n",
       "      <th>sim</th>\n",
       "    </tr>\n",
       "  </thead>\n",
       "  <tbody>\n",
       "    <tr>\n",
       "      <th>0</th>\n",
       "      <td>1001</td>\n",
       "      <td>2004-01-01</td>\n",
       "      <td>9.16</td>\n",
       "      <td>10.026257</td>\n",
       "    </tr>\n",
       "    <tr>\n",
       "      <th>1</th>\n",
       "      <td>1001</td>\n",
       "      <td>2004-01-02</td>\n",
       "      <td>6.23</td>\n",
       "      <td>5.819096</td>\n",
       "    </tr>\n",
       "    <tr>\n",
       "      <th>2</th>\n",
       "      <td>1001</td>\n",
       "      <td>2004-01-03</td>\n",
       "      <td>5.60</td>\n",
       "      <td>5.267475</td>\n",
       "    </tr>\n",
       "    <tr>\n",
       "      <th>3</th>\n",
       "      <td>1001</td>\n",
       "      <td>2004-01-04</td>\n",
       "      <td>4.45</td>\n",
       "      <td>5.064303</td>\n",
       "    </tr>\n",
       "    <tr>\n",
       "      <th>4</th>\n",
       "      <td>1001</td>\n",
       "      <td>2004-01-05</td>\n",
       "      <td>4.46</td>\n",
       "      <td>5.131446</td>\n",
       "    </tr>\n",
       "  </tbody>\n",
       "</table>\n",
       "</div>"
      ],
      "text/plain": [
       "   station_id        time   obs        sim\n",
       "0        1001  2004-01-01  9.16  10.026257\n",
       "1        1001  2004-01-02  6.23   5.819096\n",
       "2        1001  2004-01-03  5.60   5.267475\n",
       "3        1001  2004-01-04  4.45   5.064303\n",
       "4        1001  2004-01-05  4.46   5.131446"
      ]
     },
     "execution_count": 39,
     "metadata": {},
     "output_type": "execute_result"
    }
   ],
   "source": [
    "def get_all_data_csv(run_dir: Path):\n",
    "    csv_path = sorted(list(run_dir.glob(\"*.csv\")))[-1]\n",
    "    number = csv_path.as_posix().split(\"_\")[-1]\n",
    "    print(f\"Reading {number}\")\n",
    "    return pd.read_csv(csv_path)\n",
    "    \n",
    "    \n",
    "run_dir = data_dir / \"runs/ealstm_less_vars_2004_1607_1334\"\n",
    "ealstm = get_all_data_csv(run_dir)\n",
    "run_dir = data_dir / \"runs/lstm_less_vars_2004_1507_1028\"\n",
    "lstm = get_all_data_csv(run_dir)\n",
    "\n",
    "lstm.head()"
   ]
  },
  {
   "cell_type": "markdown",
   "metadata": {},
   "source": [
    "# Calculate Error Metrics"
   ]
  },
  {
   "cell_type": "code",
   "execution_count": 48,
   "metadata": {},
   "outputs": [],
   "source": [
    "import hydroeval"
   ]
  },
  {
   "cell_type": "code",
   "execution_count": 51,
   "metadata": {},
   "outputs": [
    {
     "data": {
      "text/plain": [
       "nan"
      ]
     },
     "execution_count": 51,
     "metadata": {},
     "output_type": "execute_result"
    }
   ],
   "source": [
    "hydroeval.nse(lstm.sim.values, lstm.obs.values)"
   ]
  },
  {
   "cell_type": "code",
   "execution_count": null,
   "metadata": {},
   "outputs": [],
   "source": []
  }
 ],
 "metadata": {
  "kernelspec": {
   "display_name": "Python 3",
   "language": "python",
   "name": "python3"
  },
  "language_info": {
   "codemirror_mode": {
    "name": "ipython",
    "version": 3
   },
   "file_extension": ".py",
   "mimetype": "text/x-python",
   "name": "python",
   "nbconvert_exporter": "python",
   "pygments_lexer": "ipython3",
   "version": "3.8.5"
  }
 },
 "nbformat": 4,
 "nbformat_minor": 4
}
