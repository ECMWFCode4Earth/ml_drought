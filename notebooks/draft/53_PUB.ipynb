{
 "cells": [
  {
   "cell_type": "markdown",
   "id": "02ae02de-647a-47fc-80cf-6a202e91063e",
   "metadata": {},
   "source": [
    "# PUB"
   ]
  },
  {
   "cell_type": "code",
   "execution_count": null,
   "id": "1ba4cef4-dc7d-4d73-8390-c11b3ff666a4",
   "metadata": {},
   "outputs": [],
   "source": []
  }
 ],
 "metadata": {
  "kernelspec": {
   "display_name": "Python 3",
   "language": "python",
   "name": "python3"
  },
  "language_info": {
   "codemirror_mode": {
    "name": "ipython",
    "version": 3
   },
   "file_extension": ".py",
   "mimetype": "text/x-python",
   "name": "python",
   "nbconvert_exporter": "python",
   "pygments_lexer": "ipython3",
   "version": "3.8.10"
  }
 },
 "nbformat": 4,
 "nbformat_minor": 5
}
