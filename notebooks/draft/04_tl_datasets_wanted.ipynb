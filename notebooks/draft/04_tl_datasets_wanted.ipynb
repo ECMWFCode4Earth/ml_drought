{
 "cells": [
  {
   "cell_type": "markdown",
   "metadata": {},
   "source": [
    "# ROI\n",
    "\n",
    "\n",
    "Area | Latmin | Latmax | Lonmin | Lonmax\n",
    "---  | ---    | ---    | ---    | --- \n",
    "East Africa | -11    | 23    | 21    | 51.8 \n",
    "Kenya | -5.202    | 6.002    | 33.501    | 42.283 \n"
   ]
  },
  {
   "cell_type": "markdown",
   "metadata": {},
   "source": [
    "--------------\n",
    "# ERA5 Data\n",
    "### Essential Fields\n",
    "Parameter Name       | levels | dataset | done\n",
    ":----      | ----: | ----:  | ----: \n",
    "total_precipitation  | -  | reanalysis-era5-single-levels | YES\n",
    "2m_temperature | - | reanalysis-era5-single-levels | NO\n",
    "skin_temperature  | - | reanalysis-era5-single-levels | NO\n",
    "volumetric_soil_water_layer_1 | - | reanalysis-era5-single-levels | NO\n",
    "volumetric_soil_water_layer_2 | - | reanalysis-era5-single-levels | NO\n",
    "volumetric_soil_water_layer_3 | - | reanalysis-era5-single-levels | NO\n",
    "volumetric_soil_water_layer_4  | - | reanalysis-era5-single-levels | NO\n",
    "evaporation| - | reanalysis-era5-single-levels | NO\n",
    "potential_evaporation  | - | reanalysis-era5-single-levels | NO\n",
    "\n",
    "\n",
    "### static fields\n",
    "Parameter Name       | levels | dataset | done\n",
    ":----      | ----: | ----: | ----: \n",
    "soil_type | - | reanalysis-era5-single-levels | NO\n",
    "land_sea_mask | - | reanalysis-era5-single-levels | NO\n",
    "high_vegetation_cover | - | reanalysis-era5-single-levels | NO\n",
    "low_vegetation_cover | - | reanalysis-era5-single-levels | NO\n",
    "orography | - | reanalysis-era5-single-levels | NO\n",
    "standard_deviation_of_filtered_subgrid_orography | - | reanalysis-era5-single-levels | NO\n",
    "standard_deviation_of_orography | - | reanalysis-era5-single-levels | NO\n"
   ]
  },
  {
   "cell_type": "markdown",
   "metadata": {},
   "source": [
    "------------\n",
    "## Non Essential Variables (For later stages)\n",
    "\n",
    "\n",
    "### Important Variables\n",
    "Parameter Name       | levels | dataset\n",
    ":----      | ----: | ----: \n",
    "temperature     | 1000, 850, 700, 500, 200 | reanalysis-era5-pressure-levels\n",
    "temperature    | 1000, 850, 700, 500, 200 | reanalysis-era5-pressure-levels-monthly-means\n",
    "mean_total_precipitation_rate | - | reanalysis-era5-single-levels\n",
    "\n",
    "### Climatically Important Variables\n",
    "Parameter Name       | levels | dataset\n",
    ":----      | ----: | ----: \n",
    "u_component_of_wind | 1000, 850, 700, 500, 200 | reanalysis-era5-pressure-levels\n",
    "v_component_of_wind | 1000, 850, 700, 500, 200 | reanalysis-era5-pressure-levels\n",
    "divergence | 1000, 850, 700, 500, 200 | reanalysis-era5-pressure-levels\n",
    "total_column_water| - | reanalysis-era5-single-levels\n",
    "total_column_water_vapour | - | reanalysis-era5-single-levels\n",
    "specific_humidity   | 1000, 850, 700, 500, 200 | reanalysis-era5-pressure-levels\n",
    "convective_precipitation  | - | reanalysis-era5-single-levels\n",
    "convective_rain_rate |- | reanalysis-era5-single-levels\n",
    "mean_vertically_integrated_moisture_divergence | - | reanalysis-era5-single-levels\n",
    "vertically_integrated_moisture_divergence | - | reanalysis-era5-single-levels\n",
    "\n",
    "### for exploring teleconnections\n",
    "Parameter Name       | levels | dataset\n",
    ":----      | ----: | ----: \n",
    "mean_sea_level_pressure  | - | reanalysis-era5-single-levels\n",
    "sea_surface_temperature | - | reanalysis-era5-single-levels\n",
    "surface_pressure  | - | reanalysis-era5-single-levels\n",
    "geopotential   | 1000, 850, 700, 500 | reanalysis-era5-pressure-levels\n",
    "\n",
    "### Possible target variables\n",
    "Parameter Name       | levels | dataset\n",
    ":----      | ----: | ----: \n",
    "runoff | - | reanalysis-era5-single-levels\n",
    "mean_runoff_rate | - | reanalysis-era5-single-levels\n",
    "mean_surface_runoff_rate | - | reanalysis-era5-single-levels\n",
    "surface_runoff | - | reanalysis-era5-single-levels\n",
    "\n",
    "\n",
    "\n",
    "### Satellite Vars\n",
    "ParameterName |      \n",
    ":----  |\n",
    "fapar (Fraction Absorbed of Photosynthetically Active Radiation) | \n",
    "lai (Leaf Area Index)| \n",
    "\n",
    "### model vegetation (for comparison)\n",
    "Q: What is the added value of satellite VHI vs. Model VHI\n",
    "\n",
    "Parameter Name       | levels | dataset\n",
    ":----      | ----: | ----: \n",
    "leaf_area_index_high_vegetation  | - |reanalysis-era5-single-levels\n",
    "leaf_area_index_low_vegetation | - |reanalysis-era5-single-levels"
   ]
  },
  {
   "cell_type": "markdown",
   "metadata": {},
   "source": [
    "--------------\n",
    "# SEAS5 Data\n",
    "TODO: Explore the datasets that want to work with\n",
    "- [SEAS5 seasonal-original-single-levels](https://cds.climate.copernicus.eu/cdsapp#!/dataset/seasonal-original-single-levels?tab=overview)\n",
    "- [SEAS5 seasonal-original-pressure-levels](https://cds.climate.copernicus.eu/cdsapp#!/dataset/seasonal-original-pressure-levels?tab=overview)\n",
    "- [SEAS5 seasonal-monthly-single-levels](https://cds.climate.copernicus.eu/cdsapp#!/dataset/seasonal-monthly-single-levels?tab=overview)\n",
    "- [SEAS5 seasonal-monthly-pressure-levels](https://cds.climate.copernicus.eu/cdsapp#!/dataset/seasonal-monthly-pressure-levels?tab=overview)"
   ]
  },
  {
   "cell_type": "markdown",
   "metadata": {},
   "source": [
    "Parameter Name       | Parameter Types | dataset | done\n",
    ":----      | ----: | ----: | ----:\n",
    "2m_temperature | ensemble_mean, monthly_mean, hindcast_climate_mean, monthly_standard_deviation | seasonal-monthly-single-levels | NO\n",
    "total_precipitation | ensemble_mean, monthly_mean, hindcast_climate_mean, monthly_standard_deviation | seasonal-monthly-single-levels | NO\n",
    "evaporation | ensemble_mean, monthly_mean, hindcast_climate_mean, monthly_standard_deviation | seasonal-monthly-single-levels | NO\n",
    "surface_latent_heat_flux | ensemble_mean, monthly_mean, hindcast_climate_mean, monthly_standard_deviation | seasonal-monthly-single-levels | NO\n",
    "surface_sensible_heat_flux | ensemble_mean, monthly_mean, hindcast_climate_mean,  monthly_standard_deviation | seasonal-monthly-single-levels | NO\n",
    "\n"
   ]
  },
  {
   "cell_type": "markdown",
   "metadata": {},
   "source": [
    "## Claudia and Julia help\n",
    "\n",
    "- ROI = `'6.002/33.501/-5.202/42.283'`\n",
    "- Years = `[2017, 2018]`\n",
    "\n",
    "Parameter Name       | Parameter Types | dataset | done\n",
    ":----      | ----: | ----: | ----:\n",
    "2m_temperature | monthly_mean, hindcast_climate_mean, monthly_standard_deviation | seasonal-monthly-single-levels | NO\n",
    "total_precipitation | monthly_mean, hindcast_climate_mean, monthly_standard_deviation | seasonal-monthly-single-levels | NO\n",
    "evaporation | monthly_mean, hindcast_climate_mean, monthly_standard_deviation | seasonal-monthly-single-levels | NO\n",
    "surface_latent_heat_flux | monthly_mean, hindcast_climate_mean, monthly_standard_deviation | seasonal-monthly-single-levels | NO\n",
    "surface_sensible_heat_flux | monthly_mean, hindcast_climate_mean,  monthly_standard_deviation | seasonal-monthly-single-levels | NO\n"
   ]
  },
  {
   "cell_type": "code",
   "execution_count": null,
   "metadata": {},
   "outputs": [],
   "source": [
    "# example_api_call\n",
    "c.retrieve(\n",
    "    'seasonal-monthly-single-levels',\n",
    "    {\n",
    "        'format':'grib',\n",
    "        'originating_centre':'ecmwf',\n",
    "        'system':'5',\n",
    "        'variable':[\n",
    "            '2m_temperature','evaporation','surface_latent_heat_flux',\n",
    "            'surface_sensible_heat_flux','total_precipitation'\n",
    "        ],\n",
    "        'product_type':[\n",
    "            'ensemble_mean','hindcast_climate_mean','monthly_maximum',\n",
    "            'monthly_mean','monthly_minimum','monthly_standard_deviation'\n",
    "        ],\n",
    "        'year':[\n",
    "            '1993','1994','1995',\n",
    "            '1996','1997','1998',\n",
    "            '1999','2000','2001',\n",
    "            '2002','2003','2004',\n",
    "            '2005','2006','2007',\n",
    "            '2008','2009','2010',\n",
    "            '2011','2012','2013',\n",
    "            '2014','2015','2016',\n",
    "            '2017','2018','2019'\n",
    "        ],\n",
    "        'leadtime_month':[\n",
    "            '1','2','3',\n",
    "            '4','5','6'\n",
    "        ]\n",
    "    },\n",
    "    'download.grib')"
   ]
  },
  {
   "cell_type": "markdown",
   "metadata": {},
   "source": [
    "---------------------\n",
    "# GloFAS data\n",
    "\n",
    "Low Flows = Probability of <20th Percentile of climatological flows\n",
    "- Juba-Shabelle Basin\n",
    "- Nile Basin (Southern headwaters of the Nile)"
   ]
  },
  {
   "cell_type": "markdown",
   "metadata": {},
   "source": []
  },
  {
   "cell_type": "code",
   "execution_count": null,
   "metadata": {},
   "outputs": [],
   "source": []
  }
 ],
 "metadata": {
  "kernelspec": {
   "display_name": "Python 3",
   "language": "python",
   "name": "python3"
  },
  "language_info": {
   "codemirror_mode": {
    "name": "ipython",
    "version": 3
   },
   "file_extension": ".py",
   "mimetype": "text/x-python",
   "name": "python",
   "nbconvert_exporter": "python",
   "pygments_lexer": "ipython3",
   "version": "3.7.0"
  }
 },
 "nbformat": 4,
 "nbformat_minor": 2
}
