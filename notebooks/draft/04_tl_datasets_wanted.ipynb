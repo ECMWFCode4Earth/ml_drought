{
 "cells": [
  {
   "cell_type": "markdown",
   "metadata": {},
   "source": [
    "# ROI\n",
    "\n",
    "\n",
    "Area | Latmin | Latmax | Lonmin | Lonmax\n",
    "---  | ---    | ---    | ---    | --- \n",
    "East Africa | -11    | 23    | 21    | 51.8 \n",
    "Kenya | -5.202    | 6.002    | 33.501    | 42.283 \n"
   ]
  },
  {
   "cell_type": "markdown",
   "metadata": {},
   "source": [
    "--------------\n",
    "# ERA5 Data\n",
    "### Essential Fields\n",
    "Parameter Name       | levels | dataset\n",
    ":----      | ----: | ----: \n",
    "total_precipitation  | -  | reanalysis-era5-single-levels\n",
    "2m_temperature | - | reanalysis-era5-single-levels\n",
    "skin_temperature  | - | reanalysis-era5-single-levels\n",
    "volumetric_soil_water_layer_1 | - | reanalysis-era5-single-levels\n",
    "volumetric_soil_water_layer_2 | - | reanalysis-era5-single-levels\n",
    "volumetric_soil_water_layer_3 | - | reanalysis-era5-single-levels\n",
    "volumetric_soil_water_layer_4  | - | reanalysis-era5-single-levels\n",
    "evaporation| - | reanalysis-era5-single-levels\n",
    "potential_evaporation  | - | reanalysis-era5-single-levels\n",
    "\n",
    "\n",
    "### static fields\n",
    "Parameter Name       | levels | dataset\n",
    ":----      | ----: | ----: \n",
    "soil_type | - | reanalysis-era5-single-levels\n",
    "land_sea_mask | - | reanalysis-era5-single-levels\n",
    "high_vegetation_cover | - | reanalysis-era5-single-levels\n",
    "low_vegetation_cover | - | reanalysis-era5-single-levels\n",
    "orography | - | reanalysis-era5-single-levels\n",
    "standard_deviation_of_filtered_subgrid_orography | - | reanalysis-era5-single-levels\n",
    "standard_deviation_of_orography | - | reanalysis-era5-single-levels\n"
   ]
  },
  {
   "cell_type": "markdown",
   "metadata": {},
   "source": [
    "------------\n",
    "## Non Essential Variables (For later stages)\n",
    "\n",
    "\n",
    "### Important Variables\n",
    "Parameter Name       | levels | dataset\n",
    ":----      | ----: | ----: \n",
    "temperature     | 1000, 850, 700, 500, 200 | reanalysis-era5-pressure-levels\n",
    "temperature    | 1000, 850, 700, 500, 200 | reanalysis-era5-pressure-levels-monthly-means\n",
    "mean_total_precipitation_rate | - | reanalysis-era5-single-levels\n",
    "\n",
    "### Climatically Important Variables\n",
    "Parameter Name       | levels | dataset\n",
    ":----      | ----: | ----: \n",
    "u_component_of_wind | 1000, 850, 700, 500, 200 | reanalysis-era5-pressure-levels\n",
    "v_component_of_wind | 1000, 850, 700, 500, 200 | reanalysis-era5-pressure-levels\n",
    "divergence | 1000, 850, 700, 500, 200 | reanalysis-era5-pressure-levels\n",
    "total_column_water| - | reanalysis-era5-single-levels\n",
    "total_column_water_vapour | - | reanalysis-era5-single-levels\n",
    "specific_humidity   | 1000, 850, 700, 500, 200 | reanalysis-era5-pressure-levels\n",
    "convective_precipitation  | - | reanalysis-era5-single-levels\n",
    "convective_rain_rate |- | reanalysis-era5-single-levels\n",
    "mean_vertically_integrated_moisture_divergence | - | reanalysis-era5-single-levels\n",
    "vertically_integrated_moisture_divergence | - | reanalysis-era5-single-levels\n",
    "\n",
    "### for exploring teleconnections\n",
    "Parameter Name       | levels | dataset\n",
    ":----      | ----: | ----: \n",
    "mean_sea_level_pressure  | - | reanalysis-era5-single-levels\n",
    "sea_surface_temperature | - | reanalysis-era5-single-levels\n",
    "surface_pressure  | - | reanalysis-era5-single-levels\n",
    "geopotential   | 1000, 850, 700, 500 | reanalysis-era5-pressure-levels\n",
    "\n",
    "### Possible target variables\n",
    "Parameter Name       | levels | dataset\n",
    ":----      | ----: | ----: \n",
    "runoff | - | reanalysis-era5-single-levels\n",
    "mean_runoff_rate | - | reanalysis-era5-single-levels\n",
    "mean_surface_runoff_rate | - | reanalysis-era5-single-levels\n",
    "surface_runoff | - | reanalysis-era5-single-levels\n",
    "\n",
    "\n",
    "\n",
    "### Satellite Vars\n",
    "ParameterName |      \n",
    ":----  |\n",
    "fapar (Fraction Absorbed of Photosynthetically Active Radiation) | \n",
    "lai (Leaf Area Index)| \n",
    "\n",
    "### model vegetation (for comparison)\n",
    "Q: What is the added value of satellite VHI vs. Model VHI\n",
    "\n",
    "Parameter Name       | levels | dataset\n",
    ":----      | ----: | ----: \n",
    "leaf_area_index_high_vegetation  | - |reanalysis-era5-single-levels\n",
    "leaf_area_index_low_vegetation | - |reanalysis-era5-single-levels"
   ]
  },
  {
   "cell_type": "markdown",
   "metadata": {},
   "source": [
    "--------------\n",
    "# SEAS5 Data\n",
    "TODO: Explore the datasets that want to work with\n"
   ]
  },
  {
   "cell_type": "code",
   "execution_count": null,
   "metadata": {},
   "outputs": [],
   "source": []
  },
  {
   "cell_type": "markdown",
   "metadata": {},
   "source": [
    "---------------------\n",
    "# GloFAS data\n",
    "\n",
    "Low Flows = Probability of <20th Percentile of climatological flows\n",
    "- Juba-Shabelle Basin\n",
    "- Nile Basin (Southern headwaters of the Nile)"
   ]
  },
  {
   "cell_type": "markdown",
   "metadata": {},
   "source": []
  },
  {
   "cell_type": "code",
   "execution_count": null,
   "metadata": {},
   "outputs": [],
   "source": []
  }
 ],
 "metadata": {
  "kernelspec": {
   "display_name": "Python 3",
   "language": "python",
   "name": "python3"
  },
  "language_info": {
   "codemirror_mode": {
    "name": "ipython",
    "version": 3
   },
   "file_extension": ".py",
   "mimetype": "text/x-python",
   "name": "python",
   "nbconvert_exporter": "python",
   "pygments_lexer": "ipython3",
   "version": "3.7.2"
  }
 },
 "nbformat": 4,
 "nbformat_minor": 2
}
