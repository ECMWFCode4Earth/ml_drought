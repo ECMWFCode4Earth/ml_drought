{
 "cells": [
  {
   "cell_type": "markdown",
   "metadata": {},
   "source": [
    "# test the engineer / data read in"
   ]
  },
  {
   "cell_type": "code",
   "execution_count": 1,
   "metadata": {},
   "outputs": [
    {
     "name": "stdout",
     "output_type": "stream",
     "text": [
      "/home/jovyan/ml_drought\n"
     ]
    }
   ],
   "source": [
    "from pathlib import Path\n",
    "import os\n",
    "import warnings\n",
    "\n",
    "%load_ext autoreload\n",
    "%autoreload 2\n",
    "\n",
    "# ignore warnings for now ...\n",
    "warnings.filterwarnings('ignore')\n",
    "\n",
    "if Path('.').absolute().parents[1].name == 'ml_drought':\n",
    "    os.chdir(Path('.').absolute().parents[1])\n",
    "\n",
    "!pwd"
   ]
  },
  {
   "cell_type": "code",
   "execution_count": 3,
   "metadata": {},
   "outputs": [],
   "source": [
    "import xarray as xr\n",
    "import pandas as pd\n",
    "import numpy as np\n",
    "import matplotlib.pyplot as plt\n",
    "import pickle\n",
    "import torch\n",
    "\n",
    "data_dir = Path('data/')\n",
    "# data_dir = Path('/Volumes/Lees_Extend/data/zip_data')\n",
    "# data_dir = Path('/Volumes/Lees_Extend/data/ecmwf_sowc/data/')\n",
    "# plot_dir = Path('/Users/tommylees/Downloads')\n",
    "\n",
    "assert data_dir.exists()"
   ]
  },
  {
   "cell_type": "code",
   "execution_count": 4,
   "metadata": {},
   "outputs": [],
   "source": [
    "import seaborn as sns\n",
    "from src.utils import drop_nans_and_flatten\n",
    "\n",
    "from src.analysis import read_train_data, read_test_data, read_pred_data"
   ]
  },
  {
   "cell_type": "code",
   "execution_count": 5,
   "metadata": {},
   "outputs": [],
   "source": [
    "EXPERIMENT =      'one_month_forecast_BOKU_boku_VCI_our_vars'\n",
    "TRUE_EXPERIMENT = 'one_month_forecast_BOKU_boku_VCI_our_vars'\n",
    "TARGET_VAR =      'boku_VCI'\n",
    "\n",
    "EXPERIMENT =      'one_month_forecast'\n",
    "TRUE_EXPERIMENT = 'one_month_forecast'\n",
    "TARGET_VAR =      'boku_VCI'"
   ]
  },
  {
   "cell_type": "markdown",
   "metadata": {},
   "source": [
    "# Read in the data"
   ]
  },
  {
   "cell_type": "code",
   "execution_count": 6,
   "metadata": {},
   "outputs": [],
   "source": [
    "X_train, y_train = read_train_data(data_dir, experiment=EXPERIMENT)\n",
    "X_test, y_test = read_test_data(data_dir, experiment=EXPERIMENT)\n",
    "static_ds = xr.open_dataset(data_dir / \"features/static/data.nc\")\n",
    "\n",
    "ds = xr.merge([y_train, y_test]).sortby('time').sortby('lat')\n",
    "d_ = xr.merge([X_train, X_test]).sortby('time').sortby('lat')\n",
    "ds = xr.merge([ds, d_])"
   ]
  },
  {
   "cell_type": "code",
   "execution_count": 11,
   "metadata": {},
   "outputs": [
    {
     "data": {
      "text/html": [
       "<pre>&lt;xarray.Dataset&gt;\n",
       "Dimensions:     ()\n",
       "Data variables:\n",
       "    boku_VCI    float64 0.0961\n",
       "    VCI3M       float64 0.1096\n",
       "    modis_ndvi  float64 0.1005\n",
       "    VCI         float64 0.1136\n",
       "    precip      float64 0.08512\n",
       "    E           float64 0.09333\n",
       "    Eb          float64 0.09333\n",
       "    SMroot      float64 0.1072\n",
       "    SMsurf      float64 0.1072\n",
       "    p84.162     float64 0.004878\n",
       "    pev         float64 0.004878\n",
       "    sp          float64 0.004878\n",
       "    t2m         float64 0.004878\n",
       "    tp          float64 0.004878</pre>"
      ],
      "text/plain": [
       "<xarray.Dataset>\n",
       "Dimensions:     ()\n",
       "Data variables:\n",
       "    boku_VCI    float64 0.0961\n",
       "    VCI3M       float64 0.1096\n",
       "    modis_ndvi  float64 0.1005\n",
       "    VCI         float64 0.1136\n",
       "    precip      float64 0.08512\n",
       "    E           float64 0.09333\n",
       "    Eb          float64 0.09333\n",
       "    SMroot      float64 0.1072\n",
       "    SMsurf      float64 0.1072\n",
       "    p84.162     float64 0.004878\n",
       "    pev         float64 0.004878\n",
       "    sp          float64 0.004878\n",
       "    t2m         float64 0.004878\n",
       "    tp          float64 0.004878"
      ]
     },
     "execution_count": 11,
     "metadata": {},
     "output_type": "execute_result"
    }
   ],
   "source": [
    "ds.isnull().mean()"
   ]
  },
  {
   "cell_type": "code",
   "execution_count": 10,
   "metadata": {},
   "outputs": [
    {
     "data": {
      "text/html": [
       "<pre>&lt;xarray.Dataset&gt;\n",
       "Dimensions:                                     ()\n",
       "Data variables:\n",
       "    VCI3M_global_mean                           float64 0.0\n",
       "    boku_VCI_global_mean                        float64 0.0\n",
       "    modis_ndvi_global_mean                      float64 0.0\n",
       "    VCI_global_mean                             float64 0.0\n",
       "    precip_global_mean                          float64 0.0\n",
       "    E_global_mean                               float64 0.0\n",
       "    Eb_global_mean                              float64 0.0\n",
       "    SMroot_global_mean                          float64 0.0\n",
       "    SMsurf_global_mean                          float64 0.0\n",
       "    p84.162_global_mean                         float64 0.0\n",
       "    pev_global_mean                             float64 0.0\n",
       "    sp_global_mean                              float64 0.0\n",
       "    t2m_global_mean                             float64 0.0\n",
       "    tp_global_mean                              float64 0.0\n",
       "    VCI3M_pixel_mean                            float64 0.0946\n",
       "    boku_VCI_pixel_mean                         float64 0.0927\n",
       "    modis_ndvi_pixel_mean                       float64 0.0927\n",
       "    VCI_pixel_mean                              float64 0.0927\n",
       "    precip_pixel_mean                           float64 0.08063\n",
       "    E_pixel_mean                                float64 0.08889\n",
       "    Eb_pixel_mean                               float64 0.08889\n",
       "    SMroot_pixel_mean                           float64 0.1029\n",
       "    SMsurf_pixel_mean                           float64 0.1029\n",
       "    p84.162_pixel_mean                          float64 0.0\n",
       "    pev_pixel_mean                              float64 0.0\n",
       "    sp_pixel_mean                               float64 0.0\n",
       "    t2m_pixel_mean                              float64 0.0\n",
       "    tp_pixel_mean                               float64 0.0\n",
       "    topography                                  float64 0.08571\n",
       "    lc_class                                    float64 0.0\n",
       "    lc_class_group                              float64 0.0\n",
       "    no_data_one_hot                             float64 0.0\n",
       "    cropland_rainfed_one_hot                    float64 0.0\n",
       "    herbaceous_cover_one_hot                    float64 0.0\n",
       "    tree_or_shrub_cover_one_hot                 float64 0.0\n",
       "    cropland_irrigated_or_postflooding_one_hot  float64 0.0\n",
       "    tree_cover_one_hot                          float64 0.0\n",
       "    shrubland_one_hot                           float64 0.0\n",
       "    grassland_one_hot                           float64 0.0\n",
       "    lichens_and_mosses_one_hot                  float64 0.0\n",
       "    urban_areas_one_hot                         float64 0.0\n",
       "    bare_areas_one_hot                          float64 0.0\n",
       "    water_bodies_one_hot                        float64 0.0\n",
       "    permanent_snow_and_ice_one_hot              float64 0.0\n",
       "    slt                                         float64 0.0</pre>"
      ],
      "text/plain": [
       "<xarray.Dataset>\n",
       "Dimensions:                                     ()\n",
       "Data variables:\n",
       "    VCI3M_global_mean                           float64 0.0\n",
       "    boku_VCI_global_mean                        float64 0.0\n",
       "    modis_ndvi_global_mean                      float64 0.0\n",
       "    VCI_global_mean                             float64 0.0\n",
       "    precip_global_mean                          float64 0.0\n",
       "    E_global_mean                               float64 0.0\n",
       "    Eb_global_mean                              float64 0.0\n",
       "    SMroot_global_mean                          float64 0.0\n",
       "    SMsurf_global_mean                          float64 0.0\n",
       "    p84.162_global_mean                         float64 0.0\n",
       "    pev_global_mean                             float64 0.0\n",
       "    sp_global_mean                              float64 0.0\n",
       "    t2m_global_mean                             float64 0.0\n",
       "    tp_global_mean                              float64 0.0\n",
       "    VCI3M_pixel_mean                            float64 0.0946\n",
       "    boku_VCI_pixel_mean                         float64 0.0927\n",
       "    modis_ndvi_pixel_mean                       float64 0.0927\n",
       "    VCI_pixel_mean                              float64 0.0927\n",
       "    precip_pixel_mean                           float64 0.08063\n",
       "    E_pixel_mean                                float64 0.08889\n",
       "    Eb_pixel_mean                               float64 0.08889\n",
       "    SMroot_pixel_mean                           float64 0.1029\n",
       "    SMsurf_pixel_mean                           float64 0.1029\n",
       "    p84.162_pixel_mean                          float64 0.0\n",
       "    pev_pixel_mean                              float64 0.0\n",
       "    sp_pixel_mean                               float64 0.0\n",
       "    t2m_pixel_mean                              float64 0.0\n",
       "    tp_pixel_mean                               float64 0.0\n",
       "    topography                                  float64 0.08571\n",
       "    lc_class                                    float64 0.0\n",
       "    lc_class_group                              float64 0.0\n",
       "    no_data_one_hot                             float64 0.0\n",
       "    cropland_rainfed_one_hot                    float64 0.0\n",
       "    herbaceous_cover_one_hot                    float64 0.0\n",
       "    tree_or_shrub_cover_one_hot                 float64 0.0\n",
       "    cropland_irrigated_or_postflooding_one_hot  float64 0.0\n",
       "    tree_cover_one_hot                          float64 0.0\n",
       "    shrubland_one_hot                           float64 0.0\n",
       "    grassland_one_hot                           float64 0.0\n",
       "    lichens_and_mosses_one_hot                  float64 0.0\n",
       "    urban_areas_one_hot                         float64 0.0\n",
       "    bare_areas_one_hot                          float64 0.0\n",
       "    water_bodies_one_hot                        float64 0.0\n",
       "    permanent_snow_and_ice_one_hot              float64 0.0\n",
       "    slt                                         float64 0.0"
      ]
     },
     "execution_count": 10,
     "metadata": {},
     "output_type": "execute_result"
    }
   ],
   "source": [
    "static_ds.isnull().mean()"
   ]
  },
  {
   "cell_type": "markdown",
   "metadata": {},
   "source": [
    "# Boku Dekad"
   ]
  },
  {
   "cell_type": "code",
   "execution_count": 14,
   "metadata": {},
   "outputs": [
    {
     "data": {
      "text/html": [
       "<pre>&lt;xarray.Dataset&gt;\n",
       "Dimensions:     (lat: 45, lon: 35, time: 647)\n",
       "Coordinates:\n",
       "  * lat         (lat) float32 6.0 5.75 5.5 5.25 5.0 ... -4.25 -4.5 -4.75 -5.0\n",
       "  * lon         (lon) float32 33.75 34.0 34.25 34.5 ... 41.5 41.75 42.0 42.25\n",
       "  * time        (time) datetime64[ns] 2001-12-10 2001-12-20 ... 2019-11-20\n",
       "Data variables:\n",
       "    boku_VCI    (time, lat, lon) float64 ...\n",
       "    modis_ndvi  (time, lat, lon) float64 ...</pre>"
      ],
      "text/plain": [
       "<xarray.Dataset>\n",
       "Dimensions:     (lat: 45, lon: 35, time: 647)\n",
       "Coordinates:\n",
       "  * lat         (lat) float32 6.0 5.75 5.5 5.25 5.0 ... -4.25 -4.5 -4.75 -5.0\n",
       "  * lon         (lon) float32 33.75 34.0 34.25 34.5 ... 41.5 41.75 42.0 42.25\n",
       "  * time        (time) datetime64[ns] 2001-12-10 2001-12-20 ... 2019-11-20\n",
       "Data variables:\n",
       "    boku_VCI    (time, lat, lon) float64 ...\n",
       "    modis_ndvi  (time, lat, lon) float64 ..."
      ]
     },
     "execution_count": 14,
     "metadata": {},
     "output_type": "execute_result"
    }
   ],
   "source": [
    "dekad = xr.open_dataset(data_dir / 'interim/boku_ndvi_1000_preprocessed_DEKAD/data_kenya.nc')\n",
    "dekad"
   ]
  }
 ],
 "metadata": {
  "kernelspec": {
   "display_name": "Python 3",
   "language": "python",
   "name": "python3"
  },
  "language_info": {
   "codemirror_mode": {
    "name": "ipython",
    "version": 3
   },
   "file_extension": ".py",
   "mimetype": "text/x-python",
   "name": "python",
   "nbconvert_exporter": "python",
   "pygments_lexer": "ipython3",
   "version": "3.7.6"
  }
 },
 "nbformat": 4,
 "nbformat_minor": 4
}
