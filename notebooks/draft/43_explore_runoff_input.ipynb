{
 "cells": [
  {
   "cell_type": "markdown",
   "metadata": {},
   "source": [
    "# Explore the input data for flood models"
   ]
  },
  {
   "cell_type": "code",
   "execution_count": 3,
   "metadata": {},
   "outputs": [
    {
     "name": "stdout",
     "output_type": "stream",
     "text": [
      "/home/jovyan/ml_drought\n"
     ]
    }
   ],
   "source": [
    "from pathlib import Path\n",
    "import os\n",
    "import warnings\n",
    "\n",
    "%load_ext autoreload\n",
    "%autoreload 2\n",
    "\n",
    "# ignore warnings for now ...\n",
    "warnings.filterwarnings('ignore')\n",
    "\n",
    "if Path('.').absolute().parents[1].name == 'ml_drought':\n",
    "    os.chdir(Path('.').absolute().parents[1])\n",
    "\n",
    "!pwd"
   ]
  },
  {
   "cell_type": "code",
   "execution_count": 4,
   "metadata": {},
   "outputs": [],
   "source": [
    "import xarray as xr\n",
    "import pandas as pd\n",
    "import numpy as np\n",
    "import matplotlib.pyplot as plt\n",
    "import pickle\n",
    "import torch\n",
    "\n",
    "from typing import List, Union, Optional, Tuple, Dict\n",
    "\n",
    "data_dir = Path('data/')\n",
    "# data_dir = Path('/Volumes/Lees_Extend/data/zip_data')\n",
    "# data_dir = Path('/Volumes/Lees_Extend/data/ecmwf_sowc/data/')\n",
    "# plot_dir = Path('/Users/tommylees/Downloads')\n",
    "\n",
    "assert data_dir.exists()"
   ]
  },
  {
   "cell_type": "code",
   "execution_count": 5,
   "metadata": {},
   "outputs": [],
   "source": [
    "import seaborn as sns\n",
    "from src.utils import drop_nans_and_flatten\n",
    "\n",
    "from src.analysis import read_train_data, read_test_data, read_pred_data\n",
    "from src.analysis.evaluation import join_true_pred_da\n",
    "from src.models import load_model"
   ]
  },
  {
   "cell_type": "code",
   "execution_count": 68,
   "metadata": {},
   "outputs": [
    {
     "data": {
      "text/plain": [
       "array(['.ipynb_checkpoints', '2020_04_15:094101_data.nc_',\n",
       "       '2020_04_15:122556_data.nc_', '2020_04_15:133254_data.nc_',\n",
       "       'data.nc', 'normalizing_dict.pkl', 'test', 'train'], dtype='<U26')"
      ]
     },
     "execution_count": 68,
     "metadata": {},
     "output_type": "execute_result"
    }
   ],
   "source": [
    "np.array(sorted([d.name for d in (data_dir / \"features/one_timestep_forecast\").glob(\"*\")]))"
   ]
  },
  {
   "cell_type": "code",
   "execution_count": 69,
   "metadata": {},
   "outputs": [
    {
     "data": {
      "text/plain": [
       "array(['.ipynb_checkpoints', '2020_04_07:190519_data.nc_',\n",
       "       '2020_04_08:082808_data.nc_', '2020_04_09:170724_data.nc_',\n",
       "       '2020_04_13:074136_data.nc_', '2020_04_13:074853_data.nc_',\n",
       "       '2020_04_13:075144_data.nc_', '2020_04_13:090915_data.nc_',\n",
       "       '2020_04_13:092228_data.nc_', '2020_04_13:140530_data.nc_',\n",
       "       '2020_04_13:151607_data.nc_', '2020_04_13:155241_data.nc_',\n",
       "       '2020_04_13:163836_data.nc_', '2020_04_14:141442_data.nc_',\n",
       "       '2020_04_14:150238_data.nc_', '2020_04_15:094109_data.nc_',\n",
       "       '2020_04_15:122558_data.nc_', '2020_04_15:133256_data.nc_',\n",
       "       'data.nc', 'normalizing_dict.pkl'], dtype='<U26')"
      ]
     },
     "execution_count": 69,
     "metadata": {},
     "output_type": "execute_result"
    }
   ],
   "source": [
    "np.array(sorted([d.name for d in (data_dir / \"features/static\").glob(\"*\")]))"
   ]
  },
  {
   "cell_type": "code",
   "execution_count": 7,
   "metadata": {},
   "outputs": [
    {
     "data": {
      "text/plain": [
       "array(['2020_04_07:171723_one_timestep_forecast',\n",
       "       '2020_04_13:090536_one_timestep_forecast',\n",
       "       '2020_04_13:091211_one_timestep_forecast',\n",
       "       '2020_04_13:144437_one_timestep_forecast',\n",
       "       '2020_04_13:155432_one_timestep_forecast',\n",
       "       '2020_04_13:171738_one_timestep_forecast',\n",
       "       '2020_04_15:095841_one_timestep_forecast',\n",
       "       '2020_04_15:124352_one_timestep_forecast',\n",
       "       '2020_04_15:135101_one_timestep_forecast', 'one_timestep_forecast',\n",
       "       'one_timestep_forecast_19epoch_static',\n",
       "       'one_timestep_forecast_1epoch',\n",
       "       'one_timestep_forecast_1epoch_static',\n",
       "       'one_timestep_forecast_20epoch',\n",
       "       'one_timestep_forecast_20epoch_static',\n",
       "       'one_timestep_forecast_ORIGINAL'], dtype='<U39')"
      ]
     },
     "execution_count": 7,
     "metadata": {},
     "output_type": "execute_result"
    }
   ],
   "source": [
    "np.array(sorted([d.name for d in (data_dir / \"models/\").glob(\"*timestep*\")]))"
   ]
  },
  {
   "cell_type": "code",
   "execution_count": 61,
   "metadata": {},
   "outputs": [],
   "source": [
    "EXPERIMENT =      '2020_04_15:135101_one_timestep_forecast'\n",
    "TRUE_EXPERIMENT = 'one_timestep_forecast'\n",
    "TARGET_VAR =      'discharge_spec'\n",
    "N_EPOCHS = 100\n",
    "\n",
    "DATA_FILE = \"2020_04_15:094101_data.nc_\"\n",
    "STATIC_DATA_FILE = 'data.nc'\n",
    "\n",
    "assert (data_dir / f\"models/{EXPERIMENT}\").exists()\n",
    "assert (data_dir / f\"features/{TRUE_EXPERIMENT}\").exists()"
   ]
  },
  {
   "cell_type": "markdown",
   "metadata": {},
   "source": [
    "# Read in data"
   ]
  },
  {
   "cell_type": "code",
   "execution_count": 62,
   "metadata": {},
   "outputs": [
    {
     "name": "stdout",
     "output_type": "stream",
     "text": [
      "Using the Dynamic DataLoader\n",
      "\tTarget Var: discharge_spec\n",
      "\tTest Years: [2011 2012 2013 2014 2015 2016]\n"
     ]
    }
   ],
   "source": [
    "# read in model\n",
    "ealstm = load_model(data_dir / f'models/{EXPERIMENT}/ealstm/model.pt')"
   ]
  },
  {
   "cell_type": "code",
   "execution_count": 63,
   "metadata": {},
   "outputs": [
    {
     "name": "stdout",
     "output_type": "stream",
     "text": [
      "Reading all .nc files from: data/models/2020_04_15:135101_one_timestep_forecast/ealstm\n",
      "All datasets loaded. Now combining ...\n"
     ]
    }
   ],
   "source": [
    "# read in model predictions\n",
    "ealstm_pred = read_pred_data('ealstm', data_dir, experiment=EXPERIMENT)\n",
    "ealstm_pred['station_id'] = ealstm_pred['station_id'].astype(int)"
   ]
  },
  {
   "cell_type": "code",
   "execution_count": 64,
   "metadata": {},
   "outputs": [
    {
     "data": {
      "text/html": [
       "<pre>&lt;xarray.Dataset&gt;\n",
       "Dimensions:              (station_id: 671, time: 16436)\n",
       "Coordinates:\n",
       "  * station_id           (station_id) int64 1001 2001 2002 ... 106001 107001\n",
       "  * time                 (time) datetime64[ns] 1970-10-01 ... 2015-09-30\n",
       "Data variables:\n",
       "    precipitation        (time, station_id) float64 ...\n",
       "    pet                  (time, station_id) float64 ...\n",
       "    temperature          (time, station_id) float64 ...\n",
       "    discharge_spec       (time, station_id) float64 ...\n",
       "    peti                 (time, station_id) float64 ...\n",
       "    humidity             (time, station_id) float64 ...\n",
       "    shortwave_rad        (time, station_id) float64 ...\n",
       "    longwave_rad         (time, station_id) float64 ...\n",
       "    windspeed            (time, station_id) float64 ...\n",
       "    target_var_original  (time, station_id) float64 ...</pre>"
      ],
      "text/plain": [
       "<xarray.Dataset>\n",
       "Dimensions:              (station_id: 671, time: 16436)\n",
       "Coordinates:\n",
       "  * station_id           (station_id) int64 1001 2001 2002 ... 106001 107001\n",
       "  * time                 (time) datetime64[ns] 1970-10-01 ... 2015-09-30\n",
       "Data variables:\n",
       "    precipitation        (time, station_id) float64 ...\n",
       "    pet                  (time, station_id) float64 ...\n",
       "    temperature          (time, station_id) float64 ...\n",
       "    discharge_spec       (time, station_id) float64 ...\n",
       "    peti                 (time, station_id) float64 ...\n",
       "    humidity             (time, station_id) float64 ...\n",
       "    shortwave_rad        (time, station_id) float64 ...\n",
       "    longwave_rad         (time, station_id) float64 ...\n",
       "    windspeed            (time, station_id) float64 ...\n",
       "    target_var_original  (time, station_id) float64 ..."
      ]
     },
     "execution_count": 64,
     "metadata": {},
     "output_type": "execute_result"
    }
   ],
   "source": [
    "# read in the training data\n",
    "ds = xr.open_dataset(Path(f'data/features/{TRUE_EXPERIMENT}/{DATA_FILE}'))\n",
    "\n",
    "# static_ds = xr.open_dataset(Path(f'data/features/static/data.nc'))\n",
    "all_static = xr.open_dataset(Path(f'data/interim/static/data.nc'))\n",
    "all_static['station_id'] = all_static['station_id'].astype(int)\n",
    "static_ds = all_static.drop(ealstm.static_ignore_vars)\n",
    "\n",
    "ds['station_id'] = ds['station_id'].astype(int)\n",
    "ds"
   ]
  },
  {
   "cell_type": "code",
   "execution_count": 65,
   "metadata": {},
   "outputs": [],
   "source": [
    "# get the observed y_test\n",
    "times = ealstm_pred.time.values\n",
    "station_ids = ealstm_pred.station_id.values"
   ]
  },
  {
   "cell_type": "code",
   "execution_count": 66,
   "metadata": {},
   "outputs": [
    {
     "name": "stdout",
     "output_type": "stream",
     "text": [
      "\n",
      "** N Stations ignored: 658 **\n",
      "\n"
     ]
    }
   ],
   "source": [
    "print(f\"\\n** N Stations ignored: {all_static.station_id.shape[0] - len(station_ids)} **\\n\")\n",
    "\n",
    "ignored_stations = sorted([st for st in all_static.station_id.values if st not in station_ids])\n",
    "names = all_static.sel(station_id=ignored_stations)['gauge_name'].values\n",
    "# print(np.array([f\"{i}: {nm}\" for i, nm in zip(ignored_stations, names)]), \"\\n\\n\")"
   ]
  },
  {
   "cell_type": "code",
   "execution_count": 15,
   "metadata": {},
   "outputs": [
    {
     "name": "stdout",
     "output_type": "stream",
     "text": [
      "0.0014188763793992218, 1.1003196832674753\n",
      "-0.11203763633966446, 1.0179330110549927\n",
      "\n",
      "\n"
     ]
    },
    {
     "data": {
      "text/plain": [
       "'pred_da coordinates'"
      ]
     },
     "metadata": {},
     "output_type": "display_data"
    },
    {
     "data": {
      "text/plain": [
       "Coordinates:\n",
       "  * station_id  (station_id) int64 12002 15006 27009 27034 ... 54057 71001 84013\n",
       "  * time        (time) datetime64[ns] 2011-01-01 2011-01-02 ... 2015-09-30"
      ]
     },
     "metadata": {},
     "output_type": "display_data"
    },
    {
     "data": {
      "text/plain": [
       "'true_da coordinates'"
      ]
     },
     "metadata": {},
     "output_type": "display_data"
    },
    {
     "data": {
      "text/plain": [
       "Coordinates:\n",
       "  * station_id  (station_id) int64 12002 15006 27009 27034 ... 54057 71001 84013\n",
       "  * time        (time) datetime64[ns] 2011-01-01 2011-01-02 ... 2015-09-30"
      ]
     },
     "metadata": {},
     "output_type": "display_data"
    }
   ],
   "source": [
    "# Get the predicted and true data\n",
    "# 'target_var_original' 'discharge_spec'\n",
    "y_test = ds[TARGET_VAR].sel(station_id=station_ids).sel(time=times)\n",
    "true_da = y_test\n",
    "\n",
    "# pred_da = np.exp(ealstm_pred['preds']) - 0.001\n",
    "pred_da = ealstm_pred['preds']\n",
    "\n",
    "print(f\"{true_da.mean().values}, {true_da.std().values}\")\n",
    "print(f\"{pred_da.mean().values}, {pred_da.std().values}\")\n",
    "\n",
    "# check that they are more or less correctly transformed\n",
    "# assert np.isclose(true_da.mean().values, pred_da.mean().values, atol=0.1)\n",
    "# assert np.isclose(true_da.std().values, pred_da.std().values, atol=0.4)\n",
    "\n",
    "print('\\n')\n",
    "display(\"pred_da coordinates\", pred_da.coords)\n",
    "display(\"true_da coordinates\", true_da.coords)"
   ]
  },
  {
   "cell_type": "code",
   "execution_count": 16,
   "metadata": {},
   "outputs": [
    {
     "data": {
      "text/html": [
       "<div>\n",
       "<style scoped>\n",
       "    .dataframe tbody tr th:only-of-type {\n",
       "        vertical-align: middle;\n",
       "    }\n",
       "\n",
       "    .dataframe tbody tr th {\n",
       "        vertical-align: top;\n",
       "    }\n",
       "\n",
       "    .dataframe thead th {\n",
       "        text-align: right;\n",
       "    }\n",
       "</style>\n",
       "<table border=\"1\" class=\"dataframe\">\n",
       "  <thead>\n",
       "    <tr style=\"text-align: right;\">\n",
       "      <th></th>\n",
       "      <th>station_id</th>\n",
       "      <th>discharge_spec</th>\n",
       "      <th>preds</th>\n",
       "    </tr>\n",
       "    <tr>\n",
       "      <th>time</th>\n",
       "      <th></th>\n",
       "      <th></th>\n",
       "      <th></th>\n",
       "    </tr>\n",
       "  </thead>\n",
       "  <tbody>\n",
       "    <tr>\n",
       "      <th>2011-01-01</th>\n",
       "      <td>12002</td>\n",
       "      <td>1.188148</td>\n",
       "      <td>0.634989</td>\n",
       "    </tr>\n",
       "    <tr>\n",
       "      <th>2011-01-02</th>\n",
       "      <td>12002</td>\n",
       "      <td>0.647627</td>\n",
       "      <td>0.562341</td>\n",
       "    </tr>\n",
       "    <tr>\n",
       "      <th>2011-01-03</th>\n",
       "      <td>12002</td>\n",
       "      <td>0.483043</td>\n",
       "      <td>0.487298</td>\n",
       "    </tr>\n",
       "    <tr>\n",
       "      <th>2011-01-04</th>\n",
       "      <td>12002</td>\n",
       "      <td>0.458058</td>\n",
       "      <td>0.533733</td>\n",
       "    </tr>\n",
       "    <tr>\n",
       "      <th>2011-01-05</th>\n",
       "      <td>12002</td>\n",
       "      <td>0.470628</td>\n",
       "      <td>0.651755</td>\n",
       "    </tr>\n",
       "  </tbody>\n",
       "</table>\n",
       "</div>"
      ],
      "text/plain": [
       "            station_id  discharge_spec     preds\n",
       "time                                            \n",
       "2011-01-01       12002        1.188148  0.634989\n",
       "2011-01-02       12002        0.647627  0.562341\n",
       "2011-01-03       12002        0.483043  0.487298\n",
       "2011-01-04       12002        0.458058  0.533733\n",
       "2011-01-05       12002        0.470628  0.651755"
      ]
     },
     "execution_count": 16,
     "metadata": {},
     "output_type": "execute_result"
    }
   ],
   "source": [
    "# join the true and the pred data into one pd.DataFrame\n",
    "df = (\n",
    "    join_true_pred_da(\n",
    "        true_da, pred_da\n",
    "    ).to_dataframe()\n",
    "    .reset_index()\n",
    "    .set_index('time')\n",
    ")\n",
    "\n",
    "df.head()"
   ]
  },
  {
   "cell_type": "markdown",
   "metadata": {},
   "source": [
    "# Run correlations between X variables and y"
   ]
  },
  {
   "cell_type": "code",
   "execution_count": 73,
   "metadata": {},
   "outputs": [],
   "source": [
    "norm_ds = []\n",
    "ds = ds.drop('pet')\n",
    "for variable in list(ds.data_vars):    \n",
    "    mean = ealstm.normalizing_dict[variable]['mean']\n",
    "    std = ealstm.normalizing_dict[variable]['std']\n",
    "    norm_ds.append((ds[variable] - mean) / std)\n",
    "\n",
    "norm_ds = xr.merge(norm_ds)"
   ]
  },
  {
   "cell_type": "code",
   "execution_count": 74,
   "metadata": {},
   "outputs": [],
   "source": [
    "norm_df = norm_ds.to_dataframe().drop(columns='target_var_original')\n",
    "norm_df = norm_df[sorted(norm_df.columns)]"
   ]
  },
  {
   "cell_type": "code",
   "execution_count": 75,
   "metadata": {},
   "outputs": [],
   "source": [
    "corr = norm_df.corr()\n",
    "mask = np.triu(corr)"
   ]
  },
  {
   "cell_type": "code",
   "execution_count": 77,
   "metadata": {},
   "outputs": [
    {
     "data": {
      "text/plain": [
       "<matplotlib.axes._subplots.AxesSubplot at 0x7f50dd353f10>"
      ]
     },
     "execution_count": 77,
     "metadata": {},
     "output_type": "execute_result"
    },
    {
     "data": {
      "image/png": "[encoded data removed]",
      "text/plain": [
       "<Figure size 648x432 with 2 Axes>"
      ]
     },
     "metadata": {
      "needs_background": "light"
     },
     "output_type": "display_data"
    }
   ],
   "source": [
    "scale = 1.5\n",
    "fig, ax = plt.subplots(figsize=(6*scale, 4*scale))\n",
    "\n",
    "sns.heatmap(\n",
    "    corr, \n",
    "    vmin=-1, vmax=1, center=0,\n",
    "    cmap=sns.color_palette('RdBu_r', 100),\n",
    "    square=True,\n",
    "    mask=mask,\n",
    "    ax=ax\n",
    ")\n",
    "ax.set_title('')"
   ]
  },
  {
   "cell_type": "code",
   "execution_count": 80,
   "metadata": {},
   "outputs": [],
   "source": [
    "static_df = static_ds.to_dataframe()\n",
    "corr = static_df.corr()\n",
    "mask = np.triu(corr)"
   ]
  },
  {
   "cell_type": "code",
   "execution_count": 81,
   "metadata": {},
   "outputs": [
    {
     "data": {
      "text/plain": [
       "Text(0.5, 1.0, '')"
      ]
     },
     "execution_count": 81,
     "metadata": {},
     "output_type": "execute_result"
    },
    {
     "data": {
      "image/png": "[encoded data removed]",
      "text/plain": [
       "<Figure size 648x432 with 2 Axes>"
      ]
     },
     "metadata": {
      "needs_background": "light"
     },
     "output_type": "display_data"
    }
   ],
   "source": [
    "scale = 1.5\n",
    "fig, ax = plt.subplots(figsize=(6*scale, 4*scale))\n",
    "\n",
    "sns.heatmap(\n",
    "    corr, \n",
    "    vmin=-1, vmax=1, center=0,\n",
    "    cmap=sns.color_palette('RdBu_r', 100),\n",
    "    square=True,\n",
    "    mask=mask,\n",
    "    ax=ax\n",
    ")\n",
    "ax.set_title('')"
   ]
  },
  {
   "cell_type": "code",
   "execution_count": null,
   "metadata": {},
   "outputs": [],
   "source": []
  }
 ],
 "metadata": {
  "kernelspec": {
   "display_name": "Python 3",
   "language": "python",
   "name": "python3"
  },
  "language_info": {
   "codemirror_mode": {
    "name": "ipython",
    "version": 3
   },
   "file_extension": ".py",
   "mimetype": "text/x-python",
   "name": "python",
   "nbconvert_exporter": "python",
   "pygments_lexer": "ipython3",
   "version": "3.7.6"
  }
 },
 "nbformat": 4,
 "nbformat_minor": 4
}
