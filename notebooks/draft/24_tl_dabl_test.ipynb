{
 "cells": [
  {
   "cell_type": "markdown",
   "metadata": {},
   "source": [
    "# Playing with [`dabl`](https://github.com/amueller/dabl)"
   ]
  },
  {
   "cell_type": "code",
   "execution_count": 2,
   "metadata": {},
   "outputs": [
    {
     "name": "stdout",
     "output_type": "stream",
     "text": [
      "/Users/tommylees/github/ml_drought\n"
     ]
    }
   ],
   "source": [
    "from pathlib import Path\n",
    "import os\n",
    "import warnings\n",
    "\n",
    "%load_ext autoreload\n",
    "%autoreload\n",
    "\n",
    "# ignore warnings for now ...\n",
    "warnings.filterwarnings('ignore')\n",
    "\n",
    "if Path('.').absolute().parents[1].name == 'ml_drought':\n",
    "    os.chdir(Path('.').absolute().parents[1])\n",
    "\n",
    "!pwd"
   ]
  },
  {
   "cell_type": "code",
   "execution_count": 3,
   "metadata": {},
   "outputs": [],
   "source": [
    "import xarray as xr\n",
    "import pandas as pd\n",
    "import numpy as np\n",
    "import matplotlib.pyplot as plt\n",
    "import pickle\n",
    "\n",
    "data_dir = Path('data/')\n",
    "# data_dir = Path('/Volumes/Lees_Extend/data/zip_data')\n",
    "data_dir = Path('/Volumes/Lees_Extend/data/ecmwf_sowc/data/')\n",
    "\n",
    "assert data_dir.exists()"
   ]
  },
  {
   "cell_type": "code",
   "execution_count": 4,
   "metadata": {},
   "outputs": [],
   "source": [
    "import seaborn as sns\n",
    "from src.utils import drop_nans_and_flatten\n",
    "\n",
    "from src.analysis import read_train_data, read_test_data, read_pred_data"
   ]
  },
  {
   "cell_type": "code",
   "execution_count": 5,
   "metadata": {},
   "outputs": [],
   "source": [
    "import dabl"
   ]
  },
  {
   "cell_type": "markdown",
   "metadata": {},
   "source": [
    "# Read in the data"
   ]
  },
  {
   "cell_type": "code",
   "execution_count": 4,
   "metadata": {},
   "outputs": [],
   "source": [
    "X_train, y_train = read_train_data(data_dir)\n",
    "X_test, y_test = read_test_data(data_dir)"
   ]
  },
  {
   "cell_type": "code",
   "execution_count": 5,
   "metadata": {},
   "outputs": [],
   "source": [
    "_, bline_pred = read_pred_data('previous_month', data_dir)\n",
    "_, lr_pred = read_pred_data('linear_regression', data_dir)\n",
    "_, ln_pred = read_pred_data('linear_network', data_dir)\n",
    "_, rnn_pred = read_pred_data('rnn', data_dir)\n",
    "_, ealstm_pred = read_pred_data('ealstm', data_dir)\n",
    "# ealstm_pred = read_pred_data('ealstm', data_dir)"
   ]
  }
 ],
 "metadata": {
  "kernelspec": {
   "display_name": "Python 3",
   "language": "python",
   "name": "python3"
  },
  "language_info": {
   "codemirror_mode": {
    "name": "ipython",
    "version": 3
   },
   "file_extension": ".py",
   "mimetype": "text/x-python",
   "name": "python",
   "nbconvert_exporter": "python",
   "pygments_lexer": "ipython3",
   "version": "3.7.0"
  }
 },
 "nbformat": 4,
 "nbformat_minor": 2
}
