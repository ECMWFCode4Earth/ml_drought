{
 "cells": [
  {
   "cell_type": "markdown",
   "metadata": {},
   "source": [
    "# Test pytorch lightning for our data"
   ]
  },
  {
   "cell_type": "code",
   "execution_count": 3,
   "metadata": {},
   "outputs": [
    {
     "name": "stdout",
     "output_type": "stream",
     "text": [
      "/home/jovyan/ml_drought\n"
     ]
    }
   ],
   "source": [
    "from pathlib import Path\n",
    "import os\n",
    "import warnings\n",
    "\n",
    "%load_ext autoreload\n",
    "%autoreload 2\n",
    "\n",
    "# ignore warnings for now ...\n",
    "warnings.filterwarnings('ignore')\n",
    "\n",
    "if Path('.').absolute().parents[1].name == 'ml_drought':\n",
    "    os.chdir(Path('.').absolute().parents[1])\n",
    "\n",
    "!pwd"
   ]
  },
  {
   "cell_type": "code",
   "execution_count": 4,
   "metadata": {},
   "outputs": [],
   "source": [
    "import xarray as xr\n",
    "import pandas as pd\n",
    "import numpy as np\n",
    "import matplotlib.pyplot as plt\n",
    "import pickle\n",
    "import torch\n",
    "\n",
    "# LIGHTNING\n",
    "from torch.utils.data import DataLoader, TensorDataset\n",
    "import pytorch_lightning as pl\n",
    "\n",
    "from typing import List, Union, Optional, Tuple, Dict\n",
    "\n",
    "data_dir = Path('data/')\n",
    "# data_dir = Path('/Volumes/Lees_Extend/data/zip_data')\n",
    "# data_dir = Path('/Volumes/Lees_Extend/data/ecmwf_sowc/data/')\n",
    "# plot_dir = Path('/Users/tommylees/Downloads')\n",
    "\n",
    "assert data_dir.exists()"
   ]
  },
  {
   "cell_type": "code",
   "execution_count": 5,
   "metadata": {},
   "outputs": [],
   "source": [
    "import seaborn as sns\n",
    "from src.utils import drop_nans_and_flatten\n",
    "\n",
    "from src.analysis import read_train_data, read_test_data, read_pred_data\n",
    "from src.analysis.evaluation import join_true_pred_da\n",
    "from src.models import load_model"
   ]
  },
  {
   "cell_type": "markdown",
   "metadata": {},
   "source": [
    "# Load in some engineered data"
   ]
  },
  {
   "cell_type": "code",
   "execution_count": 6,
   "metadata": {},
   "outputs": [],
   "source": [
    "EXPERIMENT =      '2020_04_13:171738_one_timestep_forecast'\n",
    "TRUE_EXPERIMENT = 'one_timestep_forecast'\n",
    "TARGET_VAR =      'discharge_spec'\n",
    "N_EPOCHS = 100\n",
    "\n",
    "assert (data_dir / f\"models/{EXPERIMENT}\").exists()\n",
    "assert (data_dir / f\"features/{TRUE_EXPERIMENT}\").exists()"
   ]
  },
  {
   "cell_type": "code",
   "execution_count": 7,
   "metadata": {},
   "outputs": [
    {
     "name": "stdout",
     "output_type": "stream",
     "text": [
      "Using the Dynamic DataLoader\n",
      "\tTarget Var: discharge_spec\n",
      "\tTest Years: [2011 2012 2013 2014 2015 2016]\n"
     ]
    }
   ],
   "source": [
    "# read in model\n",
    "ealstm = load_model(data_dir / f'models/{EXPERIMENT}/ealstm/model.pt')"
   ]
  },
  {
   "cell_type": "code",
   "execution_count": 8,
   "metadata": {},
   "outputs": [
    {
     "name": "stdout",
     "output_type": "stream",
     "text": [
      "Reading all .nc files from: data/models/2020_04_13:171738_one_timestep_forecast/ealstm\n",
      "All datasets loaded. Now combining ...\n"
     ]
    }
   ],
   "source": [
    "# read in model predictions\n",
    "ealstm_pred = read_pred_data('ealstm', data_dir, experiment=EXPERIMENT)\n",
    "ealstm_pred['station_id'] = ealstm_pred['station_id'].astype(int)"
   ]
  },
  {
   "cell_type": "code",
   "execution_count": 9,
   "metadata": {},
   "outputs": [
    {
     "data": {
      "text/html": [
       "<pre>&lt;xarray.Dataset&gt;\n",
       "Dimensions:              (station_id: 671, time: 16436)\n",
       "Coordinates:\n",
       "  * station_id           (station_id) int64 1001 2001 2002 ... 106001 107001\n",
       "  * time                 (time) datetime64[ns] 1970-10-01 ... 2015-09-30\n",
       "Data variables:\n",
       "    precipitation        (time, station_id) float64 ...\n",
       "    discharge_spec       (time, station_id) float64 ...\n",
       "    peti                 (time, station_id) float64 ...\n",
       "    target_var_original  (time, station_id) float64 ...</pre>"
      ],
      "text/plain": [
       "<xarray.Dataset>\n",
       "Dimensions:              (station_id: 671, time: 16436)\n",
       "Coordinates:\n",
       "  * station_id           (station_id) int64 1001 2001 2002 ... 106001 107001\n",
       "  * time                 (time) datetime64[ns] 1970-10-01 ... 2015-09-30\n",
       "Data variables:\n",
       "    precipitation        (time, station_id) float64 ...\n",
       "    discharge_spec       (time, station_id) float64 ...\n",
       "    peti                 (time, station_id) float64 ...\n",
       "    target_var_original  (time, station_id) float64 ..."
      ]
     },
     "execution_count": 9,
     "metadata": {},
     "output_type": "execute_result"
    }
   ],
   "source": [
    "# read in the training data\n",
    "ds = xr.open_dataset(Path(f'data/features/{TRUE_EXPERIMENT}/data.nc'))\n",
    "\n",
    "# static_ds = xr.open_dataset(Path(f'data/features/static/data.nc'))\n",
    "all_static = xr.open_dataset(Path(f'data/interim/static/data.nc'))\n",
    "all_static['station_id'] = all_static['station_id'].astype(int)\n",
    "static_ds = all_static.drop(ealstm.static_ignore_vars)\n",
    "\n",
    "ds['station_id'] = ds['station_id'].astype(int)\n",
    "ds"
   ]
  },
  {
   "cell_type": "code",
   "execution_count": null,
   "metadata": {},
   "outputs": [],
   "source": []
  },
  {
   "cell_type": "code",
   "execution_count": null,
   "metadata": {},
   "outputs": [],
   "source": []
  },
  {
   "cell_type": "code",
   "execution_count": null,
   "metadata": {},
   "outputs": [],
   "source": []
  }
 ],
 "metadata": {
  "kernelspec": {
   "display_name": "Python 3",
   "language": "python",
   "name": "python3"
  },
  "language_info": {
   "codemirror_mode": {
    "name": "ipython",
    "version": 3
   },
   "file_extension": ".py",
   "mimetype": "text/x-python",
   "name": "python",
   "nbconvert_exporter": "python",
   "pygments_lexer": "ipython3",
   "version": "3.7.6"
  }
 },
 "nbformat": 4,
 "nbformat_minor": 4
}
