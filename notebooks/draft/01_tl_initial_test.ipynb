{
 "cells": [
  {
   "cell_type": "code",
   "execution_count": 2,
   "metadata": {},
   "outputs": [],
   "source": [
    "from pathlib import Path\n",
    "import xarray as xr\n",
    "import numpy as np\n",
    "\n",
    "import cdsapi\n",
    "import matplotlib.pyplot as plt\n",
    "\n",
    "import os\n",
    "import subprocess"
   ]
  },
  {
   "cell_type": "code",
   "execution_count": 3,
   "metadata": {},
   "outputs": [],
   "source": [
    "# set notebook options\n",
    "%load_ext autoreload\n",
    "%autoreload 2\n",
    "%matplotlib inline\n",
    "plt.rcParams['figure.figsize'] = 12, 6"
   ]
  },
  {
   "cell_type": "code",
   "execution_count": 4,
   "metadata": {},
   "outputs": [
    {
     "name": "stdout",
     "output_type": "stream",
     "text": [
      "Current Working Directory:  /Users/tommylees/github/ml_drought\n"
     ]
    }
   ],
   "source": [
    "# Set working directory as project root\n",
    "if os.getcwd().split('/')[-1] != \"ml_drought\":\n",
    "    os.chdir('..')\n",
    "if os.getcwd().split('/')[-1] != \"ml_drought\":\n",
    "    os.chdir('..')\n",
    "\n",
    "assert os.getcwd().split('/')[-1] == \"ml_drought\", f\"Working directory should be the root (ml_drought), currently: {os.getcwd()}\"\n",
    "print(\"Current Working Directory: \",os.getcwd())"
   ]
  },
  {
   "cell_type": "markdown",
   "metadata": {},
   "source": [
    "# test the exporters"
   ]
  },
  {
   "cell_type": "code",
   "execution_count": 5,
   "metadata": {},
   "outputs": [],
   "source": [
    "from src.exporters.base import BaseExporter\n",
    "from src.exporters import ERA5Exporter\n",
    "\n",
    "from scripts.export_precip import export_precip_2018"
   ]
  },
  {
   "cell_type": "code",
   "execution_count": 6,
   "metadata": {},
   "outputs": [],
   "source": [
    "data_path = Path('data')\n",
    "# if not Path(data_path/'raw').exists():\n",
    "#     (data_path/'raw').mkdir()\n",
    "#     print(\"Made directory: data/raw\")\n",
    "# assert data_path/'raw'.exists(), \"Should have made a raw directory\""
   ]
  },
  {
   "cell_type": "code",
   "execution_count": 7,
   "metadata": {},
   "outputs": [
    {
     "data": {
      "text/plain": [
       "<src.exporters.cds.ERA5Exporter at 0x3134e8f28>"
      ]
     },
     "execution_count": 7,
     "metadata": {},
     "output_type": "execute_result"
    }
   ],
   "source": [
    "exporter = ERA5Exporter(data_path) \n",
    "exporter"
   ]
  },
  {
   "cell_type": "code",
   "execution_count": 9,
   "metadata": {},
   "outputs": [
    {
     "name": "stderr",
     "output_type": "stream",
     "text": [
      "/Users/tommylees/github/ml_drought/src/exporters/cds.py:207: UserWarning: month: 'int' object is not iterable. Converting to list\n",
      "  warnings.warn(f\"{key}: {te}. Converting to list\")\n",
      "/Users/tommylees/github/ml_drought/src/exporters/cds.py:232: UserWarning: Overriding default day values. The ERA5Exporter assumes all days and times (the default) are being downloaded\n",
      "  warnings.warn(f'Overriding default {key} values. '\n",
      "/Users/tommylees/github/ml_drought/src/exporters/cds.py:207: UserWarning: day: 'int' object is not iterable. Converting to list\n",
      "  warnings.warn(f\"{key}: {te}. Converting to list\")\n",
      "/Users/tommylees/github/ml_drought/src/exporters/cds.py:207: UserWarning: year: 'int' object is not iterable. Converting to list\n",
      "  warnings.warn(f\"{key}: {te}. Converting to list\")\n"
     ]
    },
    {
     "data": {
      "text/plain": [
       "{'product_type': 'reanalysis',\n",
       " 'format': 'netcdf',\n",
       " 'variable': ['precipitation'],\n",
       " 'year': ['1980'],\n",
       " 'month': ['12'],\n",
       " 'time': ['00:00'],\n",
       " 'day': ['10'],\n",
       " 'area': '6.002/33.501/-5.202/42.283'}"
      ]
     },
     "execution_count": 9,
     "metadata": {},
     "output_type": "execute_result"
    }
   ],
   "source": [
    "exporter.create_selection_request(\n",
    "    'precipitation', \n",
    "    selection_request = {\n",
    "        'month':12,\n",
    "        'day':(10),\n",
    "        'year':1980,\n",
    "        'time':'00:00'\n",
    "    },\n",
    ")"
   ]
  },
  {
   "cell_type": "markdown",
   "metadata": {},
   "source": [
    "# Test with Multiple Months (should export each month individually)"
   ]
  },
  {
   "cell_type": "code",
   "execution_count": null,
   "metadata": {},
   "outputs": [],
   "source": [
    "exporter = ERA5Exporter()\n",
    "exporter.export(\n",
    "    'precipitation', \n",
    "    show_api_request=True,\n",
    "    break_up=True\n",
    ")"
   ]
  },
  {
   "cell_type": "code",
   "execution_count": null,
   "metadata": {},
   "outputs": [],
   "source": []
  }
 ],
 "metadata": {
  "kernelspec": {
   "display_name": "Python 3",
   "language": "python",
   "name": "python3"
  },
  "language_info": {
   "codemirror_mode": {
    "name": "ipython",
    "version": 3
   },
   "file_extension": ".py",
   "mimetype": "text/x-python",
   "name": "python",
   "nbconvert_exporter": "python",
   "pygments_lexer": "ipython3",
   "version": "3.7.2"
  }
 },
 "nbformat": 4,
 "nbformat_minor": 2
}
