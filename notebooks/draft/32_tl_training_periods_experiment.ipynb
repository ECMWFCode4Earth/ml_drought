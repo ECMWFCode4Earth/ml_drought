{
 "cells": [
  {
   "cell_type": "markdown",
   "metadata": {},
   "source": [
    "# 02 Training Periods Experiments"
   ]
  },
  {
   "cell_type": "code",
   "execution_count": 3,
   "metadata": {},
   "outputs": [
    {
     "name": "stdout",
     "output_type": "stream",
     "text": [
      "/Users/tommylees/github/ml_drought\n"
     ]
    }
   ],
   "source": [
    "from pathlib import Path\n",
    "import os\n",
    "import warnings\n",
    "\n",
    "%load_ext autoreload\n",
    "%autoreload\n",
    "\n",
    "# ignore warnings for now ...\n",
    "warnings.filterwarnings('ignore')\n",
    "\n",
    "if Path('.').absolute().parents[1].name == 'ml_drought':\n",
    "    os.chdir(Path('.').absolute().parents[1])\n",
    "\n",
    "!pwd"
   ]
  },
  {
   "cell_type": "code",
   "execution_count": 6,
   "metadata": {},
   "outputs": [],
   "source": [
    "import xarray as xr\n",
    "import pandas as pd\n",
    "import numpy as np\n",
    "import matplotlib.pyplot as plt\n",
    "import pickle\n",
    "\n",
    "data_dir = Path('data/')\n",
    "# data_dir = Path('/Volumes/Lees_Extend/data/zip_data')\n",
    "data_dir = Path('/Volumes/Lees_Extend/data/ecmwf_sowc/data/')\n",
    "\n",
    "assert data_dir.exists()"
   ]
  },
  {
   "cell_type": "code",
   "execution_count": 3,
   "metadata": {},
   "outputs": [],
   "source": [
    "import seaborn as sns\n",
    "from src.utils import drop_nans_and_flatten\n",
    "\n",
    "from src.analysis import read_train_data, read_test_data, read_pred_data"
   ]
  },
  {
   "cell_type": "markdown",
   "metadata": {},
   "source": [
    "# Read in the data\n",
    "\n",
    "Get all dataloaders from the train/test data\n",
    "```python\n",
    "next(iter(dataloader))\n",
    "```"
   ]
  },
  {
   "cell_type": "code",
   "execution_count": 4,
   "metadata": {},
   "outputs": [],
   "source": [
    "X_train, y_train = read_train_data(data_dir)\n",
    "X_test, y_test = read_test_data(data_dir)"
   ]
  },
  {
   "cell_type": "code",
   "execution_count": 5,
   "metadata": {},
   "outputs": [],
   "source": [
    "ds = xr.merge([y_train, y_test]).sortby('time').sortby('lat')\n",
    "d_ = xr.merge([X_train, X_test]).sortby('time').sortby('lat')\n",
    "ds = xr.merge([ds, d_])"
   ]
  },
  {
   "cell_type": "code",
   "execution_count": 6,
   "metadata": {},
   "outputs": [],
   "source": [
    "from src.utils import get_ds_mask\n",
    "mask = get_ds_mask(X_train.VCI)"
   ]
  },
  {
   "cell_type": "markdown",
   "metadata": {},
   "source": [
    "## Read in a model for some parameters/Options"
   ]
  },
  {
   "cell_type": "code",
   "execution_count": 7,
   "metadata": {},
   "outputs": [],
   "source": [
    "from src.models import load_model\n",
    "ealstm_eg = load_model(\n",
    "    data_dir / 'models' / '02_training_periods' / '2020_01_11:175753_one_month_forecast_TRhigh_TEhigh_LEN5' / 'ealstm' / 'model.pt'\n",
    ")"
   ]
  },
  {
   "cell_type": "code",
   "execution_count": 15,
   "metadata": {},
   "outputs": [
    {
     "name": "stdout",
     "output_type": "stream",
     "text": [
      "['__annotations__', '__class__', '__delattr__', '__dict__', '__dir__', '__doc__', '__eq__', '__format__', '__ge__', '__getattribute__', '__gt__', '__hash__', '__init__', '__init_subclass__', '__le__', '__lt__', '__module__', '__ne__', '__new__', '__reduce__', '__reduce_ex__', '__repr__', '__setattr__', '__sizeof__', '__str__', '__subclasshook__', '__weakref__', '_concatenate_data', '_convert_delta_to_raw_values', '_get_background', '_get_morris_explanations', '_get_shap_explanations', '_initialize_model', '_input_to_tuple', '_make_analysis_folder', '_one_hot', 'batch_size', 'current_size', 'data_path', 'data_vars', 'dense_features', 'device', 'evaluate', 'experiment', 'explain', 'explainer', 'features_per_month', 'get_dataloader', 'hidden_size', 'ignore_vars', 'include_latlons', 'include_monthly_aggs', 'include_pred_month', 'include_yearly_aggs', 'input_dense', 'load', 'model', 'model_dir', 'model_name', 'models_dir', 'num_locations', 'pred_months', 'predict', 'predict_delta', 'rnn_dropout', 'save_model', 'static', 'static_embedding_size', 'static_size', 'surrounding_pixels', 'to', 'train', 'yearly_agg_size'] \n",
      "\n",
      "\n",
      "['ndvi', 'p84.162', 'sp', 'tp', 'Eb']\n",
      "128\n",
      "None\n",
      "10\n",
      "1574\n",
      "None\n",
      "0.25\n"
     ]
    }
   ],
   "source": [
    "print(dir(ealstm_eg), '\\n\\n')\n",
    "\n",
    "print(ealstm_eg.ignore_vars,)\n",
    "print(ealstm_eg.hidden_size,)\n",
    "print(ealstm_eg.data_vars,)\n",
    "print(ealstm_eg.static_embedding_size,)\n",
    "print(ealstm_eg.static_size,)\n",
    "print(ealstm_eg.surrounding_pixels,)\n",
    "print(ealstm_eg.rnn_dropout,)"
   ]
  },
  {
   "cell_type": "markdown",
   "metadata": {},
   "source": [
    "# Read in results"
   ]
  },
  {
   "cell_type": "code",
   "execution_count": 4,
   "metadata": {},
   "outputs": [],
   "source": [
    "from scripts.utils import get_results\n",
    "\n"
   ]
  },
  {
   "cell_type": "code",
   "execution_count": null,
   "metadata": {},
   "outputs": [],
   "source": []
  }
 ],
 "metadata": {
  "kernelspec": {
   "display_name": "Python 3",
   "language": "python",
   "name": "python3"
  },
  "language_info": {
   "codemirror_mode": {
    "name": "ipython",
    "version": 3
   },
   "file_extension": ".py",
   "mimetype": "text/x-python",
   "name": "python",
   "nbconvert_exporter": "python",
   "pygments_lexer": "ipython3",
   "version": "3.7.0"
  }
 },
 "nbformat": 4,
 "nbformat_minor": 2
}
