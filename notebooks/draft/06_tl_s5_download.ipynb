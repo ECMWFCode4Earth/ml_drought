{
 "cells": [
  {
   "cell_type": "code",
   "execution_count": 1,
   "metadata": {},
   "outputs": [
    {
     "name": "stdout",
     "output_type": "stream",
     "text": [
      "/Users/tommylees/github/ml_drought\n"
     ]
    }
   ],
   "source": [
    "import os\n",
    "import sys\n",
    "\n",
    "if os.getcwd().split('/')[-3] == 'ml_drought':\n",
    "    os.chdir('../..')\n",
    "\n",
    "assert os.getcwd().split('/')[-1] == 'ml_drought', f\"{os.getcwd()} != 'ml_drought'\"\n",
    "print(os.getcwd())\n",
    "\n",
    "%load_ext autoreload\n",
    "%autoreload 2"
   ]
  },
  {
   "cell_type": "code",
   "execution_count": 2,
   "metadata": {},
   "outputs": [],
   "source": [
    "from pathlib import Path\n",
    "import xarray as xr\n",
    "\n",
    "from src.exporters.s5 import S5Exporter\n",
    "\n",
    "data_dir = Path('data')"
   ]
  },
  {
   "cell_type": "code",
   "execution_count": 3,
   "metadata": {},
   "outputs": [
    {
     "name": "stdout",
     "output_type": "stream",
     "text": [
      "No `product_type` provided. Therefore, downloading `monthly_mean`\n"
     ]
    },
    {
     "data": {
      "text/plain": [
       "'seasonal-monthly-single-levels'"
      ]
     },
     "execution_count": 3,
     "metadata": {},
     "output_type": "execute_result"
    }
   ],
   "source": [
    "granularity = 'monthly'\n",
    "pressure_level=False\n",
    "\n",
    "s5 = S5Exporter(\n",
    "    data_folder=data_dir,\n",
    "    granularity=granularity,\n",
    "    pressure_level=pressure_level\n",
    ")\n",
    "\n",
    "s5.dataset"
   ]
  },
  {
   "cell_type": "code",
   "execution_count": 4,
   "metadata": {},
   "outputs": [],
   "source": [
    "variable = 'total_precipitation'\n",
    "min_year = 2017\n",
    "max_year = 2017\n",
    "min_month = 1\n",
    "max_month = 3"
   ]
  },
  {
   "cell_type": "code",
   "execution_count": 5,
   "metadata": {},
   "outputs": [
    {
     "name": "stderr",
     "output_type": "stream",
     "text": [
      "2019-06-03 21:44:04,586 INFO Sending request to https://cds.climate.copernicus.eu/api/v2/resources/seasonal-monthly-single-levels\n"
     ]
    },
    {
     "name": "stdout",
     "output_type": "stream",
     "text": [
      "------------------------\n",
      "Dataset: seasonal-monthly-single-levels\n",
      "Selection Request:\n",
      "{'area': '6.002/33.501/-5.202/42.283',\n",
      " 'day': '01',\n",
      " 'format': 'grib',\n",
      " 'leadtime_month': ['1', '2', '3'],\n",
      " 'month': ['01'],\n",
      " 'originating_centre': 'ecmwf',\n",
      " 'product_type': ['monthly_mean'],\n",
      " 'system': '5',\n",
      " 'variable': ['total_precipitation'],\n",
      " 'year': ['2017']}\n",
      "------------------------\n",
      "Output Filename:\n",
      "data/raw/seasonal-monthly-single-levels/total_precipitation/2017/01.nc\n",
      "------------------------\n"
     ]
    },
    {
     "name": "stderr",
     "output_type": "stream",
     "text": [
      "2019-06-03 21:44:05,462 INFO Request is completed\n",
      "2019-06-03 21:44:05,465 INFO Downloading http://136.156.132.153/cache-compute-0002/cache/data0/adaptor.mars.external-1559585736.2871318-16622-1-d81a83ab-ccaf-49b7-95a9-a2f020ea40bc.grib to data/raw/seasonal-monthly-single-levels/total_precipitation/2017/01.nc (53.8K)\n",
      "2019-06-03 21:44:05,675 INFO Download rate 258.8K/s\n",
      "2019-06-03 21:44:05,764 INFO Sending request to https://cds.climate.copernicus.eu/api/v2/resources/seasonal-monthly-single-levels\n"
     ]
    },
    {
     "name": "stdout",
     "output_type": "stream",
     "text": [
      "------------------------\n",
      "Dataset: seasonal-monthly-single-levels\n",
      "Selection Request:\n",
      "{'area': '6.002/33.501/-5.202/42.283',\n",
      " 'day': '01',\n",
      " 'format': 'grib',\n",
      " 'leadtime_month': ['1', '2', '3'],\n",
      " 'month': ['02'],\n",
      " 'originating_centre': 'ecmwf',\n",
      " 'product_type': ['monthly_mean'],\n",
      " 'system': '5',\n",
      " 'variable': ['total_precipitation'],\n",
      " 'year': ['2017']}\n",
      "------------------------\n",
      "Output Filename:\n",
      "data/raw/seasonal-monthly-single-levels/total_precipitation/2017/02.nc\n",
      "------------------------\n"
     ]
    },
    {
     "name": "stderr",
     "output_type": "stream",
     "text": [
      "2019-06-03 21:44:06,572 INFO Request is completed\n",
      "2019-06-03 21:44:06,574 INFO Downloading http://136.156.132.105/cache-compute-0000/cache/data3/adaptor.mars.external-1559586636.7630923-20452-17-eb297998-4d85-46db-a20e-75ac35ea62b2.grib to data/raw/seasonal-monthly-single-levels/total_precipitation/2017/02.nc (53.8K)\n",
      "2019-06-03 21:44:08,135 INFO Download rate 34.5K/s\n",
      "2019-06-03 21:44:08,830 INFO Sending request to https://cds.climate.copernicus.eu/api/v2/resources/seasonal-monthly-single-levels\n",
      "2019-06-03 21:44:08,937 INFO Request is completed\n",
      "2019-06-03 21:44:08,938 INFO Downloading http://136.156.132.198/cache-compute-0003/cache/data6/adaptor.mars.external-1559591760.7116985-19521-3-176d96c8-2843-434f-a2d9-ec526abcbbcb.grib to data/raw/seasonal-monthly-single-levels/total_precipitation/2017/03.nc (53.8K)\n"
     ]
    },
    {
     "name": "stdout",
     "output_type": "stream",
     "text": [
      "------------------------\n",
      "Dataset: seasonal-monthly-single-levels\n",
      "Selection Request:\n",
      "{'area': '6.002/33.501/-5.202/42.283',\n",
      " 'day': '01',\n",
      " 'format': 'grib',\n",
      " 'leadtime_month': ['1', '2', '3'],\n",
      " 'month': ['03'],\n",
      " 'originating_centre': 'ecmwf',\n",
      " 'product_type': ['monthly_mean'],\n",
      " 'system': '5',\n",
      " 'variable': ['total_precipitation'],\n",
      " 'year': ['2017']}\n",
      "------------------------\n",
      "Output Filename:\n",
      "data/raw/seasonal-monthly-single-levels/total_precipitation/2017/03.nc\n",
      "------------------------\n"
     ]
    },
    {
     "name": "stderr",
     "output_type": "stream",
     "text": [
      "2019-06-03 21:44:09,032 INFO Download rate 576.6K/s\n"
     ]
    },
    {
     "data": {
      "text/plain": [
       "[PosixPath('data/raw/seasonal-monthly-single-levels/total_precipitation/2017/01.nc'),\n",
       " PosixPath('data/raw/seasonal-monthly-single-levels/total_precipitation/2017/02.nc'),\n",
       " PosixPath('data/raw/seasonal-monthly-single-levels/total_precipitation/2017/03.nc')]"
      ]
     },
     "execution_count": 5,
     "metadata": {},
     "output_type": "execute_result"
    }
   ],
   "source": [
    "s5.export(variable=variable,\n",
    "         min_year=min_year,\n",
    "         max_year=max_year,\n",
    "         min_month=min_month,\n",
    "         max_month=max_month,)"
   ]
  },
  {
   "cell_type": "code",
   "execution_count": null,
   "metadata": {},
   "outputs": [],
   "source": []
  }
 ],
 "metadata": {
  "kernelspec": {
   "display_name": "Python 3",
   "language": "python",
   "name": "python3"
  },
  "language_info": {
   "codemirror_mode": {
    "name": "ipython",
    "version": 3
   },
   "file_extension": ".py",
   "mimetype": "text/x-python",
   "name": "python",
   "nbconvert_exporter": "python",
   "pygments_lexer": "ipython3",
   "version": "3.6.8"
  }
 },
 "nbformat": 4,
 "nbformat_minor": 2
}
