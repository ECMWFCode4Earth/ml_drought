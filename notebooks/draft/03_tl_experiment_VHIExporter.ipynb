{
 "cells": [
  {
   "cell_type": "code",
   "execution_count": 2,
   "metadata": {},
   "outputs": [
    {
     "name": "stdout",
     "output_type": "stream",
     "text": [
      "Current Working Directory:  /Users/tommylees/github/ml_drought\n"
     ]
    }
   ],
   "source": [
    "from pathlib import Path\n",
    "from typing import Dict, Optional, List\n",
    "from ftplib import FTP\n",
    "import multiprocessing\n",
    "import re\n",
    "from pprint import pprint\n",
    "import os\n",
    "\n",
    "import matplotlib.pyplot as plt\n",
    "\n",
    "# set notebook options\n",
    "%load_ext autoreload\n",
    "%autoreload 2\n",
    "%matplotlib inline\n",
    "plt.rcParams['figure.figsize'] = 12, 6\n",
    "\n",
    "\n",
    "# Set working directory as project root\n",
    "if os.getcwd().split('/')[-1] != \"ml_drought\":\n",
    "    os.chdir('..')\n",
    "if os.getcwd().split('/')[-1] != \"ml_drought\":\n",
    "    os.chdir('..')\n",
    "\n",
    "assert os.getcwd().split('/')[-1] == \"ml_drought\", f\"Working directory should be the root (ml_drought), currently: {os.getcwd()}\"\n",
    "print(\"Current Working Directory: \",os.getcwd())"
   ]
  },
  {
   "cell_type": "code",
   "execution_count": 3,
   "metadata": {},
   "outputs": [],
   "source": [
    "with FTP('ftp.star.nesdis.noaa.gov') as ftp:\n",
    "    ftp.login()\n",
    "    ftp.cwd('/pub/corp/scsb/wguo/data/Blended_VH_4km/VH/')\n",
    "\n",
    "    # append the filenames to a list\n",
    "    listing = []\n",
    "    ftp.retrlines(\"LIST\", listing.append)\n",
    "    # extract the filename\n",
    "    filepaths = [f.split(' ')[-1] for f in listing]\n",
    "    \n",
    "    # extract only the filenames of interest\n",
    "    vhi_files = [f for f in filepaths if \".VH.nc\" in f]"
   ]
  },
  {
   "cell_type": "code",
   "execution_count": 4,
   "metadata": {},
   "outputs": [
    {
     "data": {
      "text/plain": [
       "['VHP.G04.C07.NC.P1981035.VH.nc',\n",
       " 'VHP.G04.C07.NC.P1981036.VH.nc',\n",
       " 'VHP.G04.C07.NC.P1981037.VH.nc',\n",
       " 'VHP.G04.C07.NC.P1981038.VH.nc',\n",
       " 'VHP.G04.C07.NC.P1981039.VH.nc']"
      ]
     },
     "execution_count": 4,
     "metadata": {},
     "output_type": "execute_result"
    }
   ],
   "source": [
    "vhi_files[:5]"
   ]
  },
  {
   "cell_type": "code",
   "execution_count": 5,
   "metadata": {},
   "outputs": [
    {
     "data": {
      "text/plain": [
       "'001'"
      ]
     },
     "execution_count": 5,
     "metadata": {},
     "output_type": "execute_result"
    }
   ],
   "source": [
    "def _parse_time_from_filename(filename):\n",
    "    \"\"\"\"\"\"\n",
    "    # regex pattern (4 digits after '.P')\n",
    "    year_pattern = re.compile('.P\\d{4}')\n",
    "    # extract the week_number\n",
    "    week_num = year_pattern.split(filename)[-1].split('.')[0]\n",
    "    # extract the year from the filename\n",
    "    year = year_pattern.findall(filename)[0].split('.P')[-1]\n",
    "\n",
    "    return year, week_num\n",
    "\n",
    "min([_parse_time_from_filename(filename)[-1] for filename in vhi_files])"
   ]
  },
  {
   "cell_type": "markdown",
   "metadata": {},
   "source": [
    "# test the code in the `vhi.py` file`"
   ]
  },
  {
   "cell_type": "code",
   "execution_count": 9,
   "metadata": {},
   "outputs": [],
   "source": [
    "from src.exporters.vhi import VHIExporter"
   ]
  },
  {
   "cell_type": "code",
   "execution_count": 10,
   "metadata": {},
   "outputs": [],
   "source": [
    "vhi = VHIExporter()"
   ]
  },
  {
   "cell_type": "code",
   "execution_count": null,
   "metadata": {},
   "outputs": [],
   "source": [
    "vhi.export()"
   ]
  },
  {
   "cell_type": "code",
   "execution_count": null,
   "metadata": {},
   "outputs": [],
   "source": []
  }
 ],
 "metadata": {
  "kernelspec": {
   "display_name": "Python 3",
   "language": "python",
   "name": "python3"
  },
  "language_info": {
   "codemirror_mode": {
    "name": "ipython",
    "version": 3
   },
   "file_extension": ".py",
   "mimetype": "text/x-python",
   "name": "python",
   "nbconvert_exporter": "python",
   "pygments_lexer": "ipython3",
   "version": "3.7.2"
  }
 },
 "nbformat": 4,
 "nbformat_minor": 2
}
