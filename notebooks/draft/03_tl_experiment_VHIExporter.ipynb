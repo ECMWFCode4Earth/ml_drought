{
 "cells": [
  {
   "cell_type": "code",
   "execution_count": 12,
   "metadata": {},
   "outputs": [
    {
     "name": "stdout",
     "output_type": "stream",
     "text": [
      "The autoreload extension is already loaded. To reload it, use:\n",
      "  %reload_ext autoreload\n",
      "Current Working Directory:  /Users/tommylees/github/ml_drought\n"
     ]
    }
   ],
   "source": [
    "from pathlib import Path\n",
    "from typing import Dict, Optional, List\n",
    "from ftplib import FTP\n",
    "import multiprocessing\n",
    "import re\n",
    "from pprint import pprint\n",
    "import os\n",
    "\n",
    "import matplotlib.pyplot as plt\n",
    "\n",
    "# set notebook options\n",
    "%load_ext autoreload\n",
    "%autoreload 2\n",
    "%matplotlib inline\n",
    "plt.rcParams['figure.figsize'] = 12, 6\n",
    "\n",
    "\n",
    "# Set working directory as project root\n",
    "if os.getcwd().split('/')[-1] != \"ml_drought\":\n",
    "    os.chdir('..')\n",
    "if os.getcwd().split('/')[-1] != \"ml_drought\":\n",
    "    os.chdir('..')\n",
    "\n",
    "assert os.getcwd().split('/')[-1] == \"ml_drought\", f\"Working directory should be the root (ml_drought), currently: {os.getcwd()}\"\n",
    "print(\"Current Working Directory: \",os.getcwd())"
   ]
  },
  {
   "cell_type": "code",
   "execution_count": 13,
   "metadata": {},
   "outputs": [],
   "source": [
    "with FTP('ftp.star.nesdis.noaa.gov') as ftp:\n",
    "    ftp.login()\n",
    "    ftp.cwd('/pub/corp/scsb/wguo/data/Blended_VH_4km/VH/')\n",
    "\n",
    "    # append the filenames to a list\n",
    "    listing = []\n",
    "    ftp.retrlines(\"LIST\", listing.append)\n",
    "    # extract the filename\n",
    "    filepaths = [f.split(' ')[-1] for f in listing]\n",
    "    \n",
    "    # extract only the filenames of interest\n",
    "    vhi_files = [f for f in filepaths if \".VH.nc\" in f]"
   ]
  },
  {
   "cell_type": "code",
   "execution_count": 14,
   "metadata": {},
   "outputs": [
    {
     "data": {
      "text/plain": [
       "['VHP.G04.C07.NC.P1981035.VH.nc',\n",
       " 'VHP.G04.C07.NC.P1981036.VH.nc',\n",
       " 'VHP.G04.C07.NC.P1981037.VH.nc',\n",
       " 'VHP.G04.C07.NC.P1981038.VH.nc',\n",
       " 'VHP.G04.C07.NC.P1981039.VH.nc']"
      ]
     },
     "execution_count": 14,
     "metadata": {},
     "output_type": "execute_result"
    }
   ],
   "source": [
    "vhi_files[:5]"
   ]
  },
  {
   "cell_type": "code",
   "execution_count": 15,
   "metadata": {},
   "outputs": [
    {
     "data": {
      "text/plain": [
       "'001'"
      ]
     },
     "execution_count": 15,
     "metadata": {},
     "output_type": "execute_result"
    }
   ],
   "source": [
    "def _parse_time_from_filename(filename):\n",
    "    \"\"\"\"\"\"\n",
    "    # regex pattern (4 digits after '.P')\n",
    "    year_pattern = re.compile('.P\\d{4}')\n",
    "    # extract the week_number\n",
    "    week_num = year_pattern.split(filename)[-1].split('.')[0]\n",
    "    # extract the year from the filename\n",
    "    year = year_pattern.findall(filename)[0].split('.P')[-1]\n",
    "\n",
    "    return year, week_num\n",
    "\n",
    "min([_parse_time_from_filename(filename)[-1] for filename in vhi_files])"
   ]
  },
  {
   "cell_type": "markdown",
   "metadata": {},
   "source": [
    "# test the code in the `vhi.py` file`"
   ]
  },
  {
   "cell_type": "code",
   "execution_count": 17,
   "metadata": {},
   "outputs": [
    {
     "name": "stdout",
     "output_type": "stream",
     "text": [
      "The history saving thread hit an unexpected error (OperationalError('database or disk is full')).History will not be written to the database.\n"
     ]
    }
   ],
   "source": [
    "from src.exporters.vhi import VHIExporter\n",
    "\n",
    "from src.exporters.vhi import (\n",
    "    VHIExporter,\n",
    "    _parse_time_from_filename,\n",
    "    make_filename,\n",
    "    download_file_from_ftp\n",
    ")"
   ]
  },
  {
   "cell_type": "code",
   "execution_count": 10,
   "metadata": {},
   "outputs": [],
   "source": [
    "vhi = VHIExporter()"
   ]
  },
  {
   "cell_type": "code",
   "execution_count": 18,
   "metadata": {},
   "outputs": [],
   "source": [
    "# vhi.export()"
   ]
  },
  {
   "cell_type": "code",
   "execution_count": 19,
   "metadata": {},
   "outputs": [
    {
     "ename": "AssertionError",
     "evalue": "         filename cannot have subdirectories in it '/'. Must be the root         filename. Currently: this/should/fail.nc        ",
     "output_type": "error",
     "traceback": [
      "\u001b[0;31m---------------------------------------------------------------------------\u001b[0m",
      "\u001b[0;31mAssertionError\u001b[0m                            Traceback (most recent call last)",
      "\u001b[0;32m<ipython-input-19-7e937b714895>\u001b[0m in \u001b[0;36m<module>\u001b[0;34m\u001b[0m\n\u001b[1;32m      2\u001b[0m     \u001b[0mraw_folder\u001b[0m\u001b[0;34m=\u001b[0m\u001b[0mPath\u001b[0m\u001b[0;34m(\u001b[0m\u001b[0;34m'data/'\u001b[0m\u001b[0;34m)\u001b[0m\u001b[0;34m,\u001b[0m\u001b[0;34m\u001b[0m\u001b[0;34m\u001b[0m\u001b[0m\n\u001b[1;32m      3\u001b[0m     \u001b[0mraw_filename\u001b[0m\u001b[0;34m=\u001b[0m\u001b[0;34m'this/should/fail.nc'\u001b[0m\u001b[0;34m,\u001b[0m\u001b[0;34m\u001b[0m\u001b[0;34m\u001b[0m\u001b[0m\n\u001b[0;32m----> 4\u001b[0;31m     \u001b[0mdataset\u001b[0m \u001b[0;34m=\u001b[0m \u001b[0;34m'vhi'\u001b[0m\u001b[0;34m,\u001b[0m\u001b[0;34m\u001b[0m\u001b[0;34m\u001b[0m\u001b[0m\n\u001b[0m\u001b[1;32m      5\u001b[0m )\n",
      "\u001b[0;32m~/github/ml_drought/src/exporters/vhi.py\u001b[0m in \u001b[0;36mmake_filename\u001b[0;34m(raw_folder, raw_filename, dataset)\u001b[0m\n\u001b[1;32m     57\u001b[0m         \u001b[0mfilename\u001b[0m \u001b[0mcannot\u001b[0m \u001b[0mhave\u001b[0m \u001b[0msubdirectories\u001b[0m \u001b[0;32min\u001b[0m \u001b[0mit\u001b[0m \u001b[0;34m'/'\u001b[0m\u001b[0;34m.\u001b[0m \u001b[0mMust\u001b[0m \u001b[0mbe\u001b[0m \u001b[0mthe\u001b[0m \u001b[0mroot\u001b[0m\u001b[0;31m \u001b[0m\u001b[0;31m\\\u001b[0m\u001b[0;34m\u001b[0m\u001b[0;34m\u001b[0m\u001b[0m\n\u001b[1;32m     58\u001b[0m         \u001b[0mfilename\u001b[0m\u001b[0;34m.\u001b[0m \u001b[0mCurrently\u001b[0m\u001b[0;34m:\u001b[0m \u001b[0;34m{\u001b[0m\u001b[0mraw_filename\u001b[0m\u001b[0;34m}\u001b[0m\u001b[0;31m\\\u001b[0m\u001b[0;34m\u001b[0m\u001b[0;34m\u001b[0m\u001b[0m\n\u001b[0;32m---> 59\u001b[0;31m         \u001b[0;31m\"\u001b[0m\u001b[0;34m\u001b[0m\u001b[0;34m\u001b[0m\u001b[0m\n\u001b[0m\u001b[1;32m     60\u001b[0m \u001b[0;34m\u001b[0m\u001b[0m\n\u001b[1;32m     61\u001b[0m     \u001b[0;31m# make the dataset folder ('VHI')\u001b[0m\u001b[0;34m\u001b[0m\u001b[0;34m\u001b[0m\u001b[0;34m\u001b[0m\u001b[0m\n",
      "\u001b[0;31mAssertionError\u001b[0m:          filename cannot have subdirectories in it '/'. Must be the root         filename. Currently: this/should/fail.nc        "
     ]
    }
   ],
   "source": [
    "make_filename(\n",
    "    raw_folder=Path('data/'),\n",
    "    raw_filename='this/should/fail.nc',\n",
    "    dataset = 'vhi',\n",
    ")"
   ]
  },
  {
   "cell_type": "code",
   "execution_count": 20,
   "metadata": {},
   "outputs": [],
   "source": [
    "vhi = VHIExporter()\n"
   ]
  },
  {
   "cell_type": "code",
   "execution_count": 40,
   "metadata": {},
   "outputs": [
    {
     "data": {
      "text/plain": [
       "['VHP.G04.C07.NC.P1981035.VH.nc',\n",
       " 'VHP.G04.C07.NC.P1981036.VH.nc',\n",
       " 'VHP.G04.C07.NC.P1981037.VH.nc',\n",
       " 'VHP.G04.C07.NC.P1981038.VH.nc',\n",
       " 'VHP.G04.C07.NC.P1981039.VH.nc',\n",
       " 'VHP.G04.C07.NC.P1981040.VH.nc',\n",
       " 'VHP.G04.C07.NC.P1981041.VH.nc',\n",
       " 'VHP.G04.C07.NC.P1981042.VH.nc',\n",
       " 'VHP.G04.C07.NC.P1981043.VH.nc',\n",
       " 'VHP.G04.C07.NC.P1981044.VH.nc',\n",
       " 'VHP.G04.C07.NC.P1981045.VH.nc',\n",
       " 'VHP.G04.C07.NC.P1981046.VH.nc',\n",
       " 'VHP.G04.C07.NC.P1981047.VH.nc',\n",
       " 'VHP.G04.C07.NC.P1981048.VH.nc',\n",
       " 'VHP.G04.C07.NC.P1981049.VH.nc',\n",
       " 'VHP.G04.C07.NC.P1981050.VH.nc',\n",
       " 'VHP.G04.C07.NC.P1981051.VH.nc',\n",
       " 'VHP.G04.C07.NC.P1981052.VH.nc']"
      ]
     },
     "execution_count": 40,
     "metadata": {},
     "output_type": "execute_result"
    }
   ],
   "source": [
    "fnames = vhi.get_ftp_filenames()\n",
    "[f for f in fnames if \"1981\" in f]"
   ]
  },
  {
   "cell_type": "code",
   "execution_count": 26,
   "metadata": {},
   "outputs": [
    {
     "data": {
      "text/plain": [
       "'VHP.G04.C07.NC.P1981035.VH.nc'"
      ]
     },
     "execution_count": 26,
     "metadata": {},
     "output_type": "execute_result"
    }
   ],
   "source": []
  },
  {
   "cell_type": "code",
   "execution_count": 29,
   "metadata": {},
   "outputs": [],
   "source": [
    "weeks = [int(_parse_time_from_filename(f)[-1]) for f in fnames]\n",
    "years = [int(_parse_time_from_filename(f)[0]) for f in fnames]"
   ]
  },
  {
   "cell_type": "code",
   "execution_count": 37,
   "metadata": {},
   "outputs": [],
   "source": [
    "assert (min(years) == 1981) and (max(years) >= 2019), f\"Year numbers should be between 1981 and greater than / equal to 2019\""
   ]
  },
  {
   "cell_type": "code",
   "execution_count": 38,
   "metadata": {},
   "outputs": [
    {
     "data": {
      "text/plain": [
       "'VHP.G04.C07.NC.P1981035.VH.nc'"
      ]
     },
     "execution_count": 38,
     "metadata": {},
     "output_type": "execute_result"
    }
   ],
   "source": [
    "fnames.sort()\n",
    "fnames[0]"
   ]
  },
  {
   "cell_type": "code",
   "execution_count": null,
   "metadata": {},
   "outputs": [],
   "source": []
  }
 ],
 "metadata": {
  "kernelspec": {
   "display_name": "Python 3",
   "language": "python",
   "name": "python3"
  },
  "language_info": {
   "codemirror_mode": {
    "name": "ipython",
    "version": 3
   },
   "file_extension": ".py",
   "mimetype": "text/x-python",
   "name": "python",
   "nbconvert_exporter": "python",
   "pygments_lexer": "ipython3",
   "version": "3.7.2"
  }
 },
 "nbformat": 4,
 "nbformat_minor": 2
}
