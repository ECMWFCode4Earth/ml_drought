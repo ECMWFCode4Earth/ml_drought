{
 "cells": [
  {
   "cell_type": "markdown",
   "metadata": {},
   "source": [
    "# Explore Model Embeddings"
   ]
  },
  {
   "cell_type": "code",
   "execution_count": 1,
   "metadata": {},
   "outputs": [
    {
     "name": "stdout",
     "output_type": "stream",
     "text": [
      "/home/jovyan/ml_drought\n"
     ]
    }
   ],
   "source": [
    "from pathlib import Path\n",
    "import os\n",
    "import warnings\n",
    "\n",
    "%load_ext autoreload\n",
    "%autoreload 2\n",
    "\n",
    "# ignore warnings for now ...\n",
    "warnings.filterwarnings('ignore')\n",
    "\n",
    "if Path('.').absolute().parents[1].name == 'ml_drought':\n",
    "    os.chdir(Path('.').absolute().parents[1])\n",
    "\n",
    "!pwd"
   ]
  },
  {
   "cell_type": "code",
   "execution_count": 2,
   "metadata": {},
   "outputs": [],
   "source": [
    "import xarray as xr\n",
    "import pandas as pd\n",
    "import numpy as np\n",
    "import matplotlib.pyplot as plt\n",
    "import pickle\n",
    "import torch\n",
    "\n",
    "from typing import List, Union, Optional, Tuple, Dict\n",
    "\n",
    "data_dir = Path('data/')\n",
    "# data_dir = Path('/Volumes/Lees_Extend/data/zip_data')\n",
    "# data_dir = Path('/Volumes/Lees_Extend/data/ecmwf_sowc/data/')\n",
    "# plot_dir = Path('/Users/tommylees/Downloads')\n",
    "\n",
    "assert data_dir.exists()"
   ]
  },
  {
   "cell_type": "code",
   "execution_count": 3,
   "metadata": {},
   "outputs": [
    {
     "ename": "ModuleNotFoundError",
     "evalue": "No module named 'shap'",
     "output_type": "error",
     "traceback": [
      "\u001b[0;31m---------------------------------------------------------------------------\u001b[0m",
      "\u001b[0;31mModuleNotFoundError\u001b[0m                       Traceback (most recent call last)",
      "\u001b[0;32m<ipython-input-3-25147b224636>\u001b[0m in \u001b[0;36m<module>\u001b[0;34m\u001b[0m\n\u001b[1;32m      1\u001b[0m \u001b[0;32mimport\u001b[0m \u001b[0mseaborn\u001b[0m \u001b[0;32mas\u001b[0m \u001b[0msns\u001b[0m\u001b[0;34m\u001b[0m\u001b[0;34m\u001b[0m\u001b[0m\n\u001b[0;32m----> 2\u001b[0;31m \u001b[0;32mfrom\u001b[0m \u001b[0msrc\u001b[0m\u001b[0;34m.\u001b[0m\u001b[0mutils\u001b[0m \u001b[0;32mimport\u001b[0m \u001b[0mdrop_nans_and_flatten\u001b[0m\u001b[0;34m\u001b[0m\u001b[0;34m\u001b[0m\u001b[0m\n\u001b[0m\u001b[1;32m      3\u001b[0m \u001b[0;34m\u001b[0m\u001b[0m\n\u001b[1;32m      4\u001b[0m \u001b[0;32mfrom\u001b[0m \u001b[0msrc\u001b[0m\u001b[0;34m.\u001b[0m\u001b[0manalysis\u001b[0m \u001b[0;32mimport\u001b[0m \u001b[0mread_train_data\u001b[0m\u001b[0;34m,\u001b[0m \u001b[0mread_test_data\u001b[0m\u001b[0;34m,\u001b[0m \u001b[0mread_pred_data\u001b[0m\u001b[0;34m\u001b[0m\u001b[0;34m\u001b[0m\u001b[0m\n",
      "\u001b[0;32m~/ml_drought/src/__init__.py\u001b[0m in \u001b[0;36m<module>\u001b[0;34m\u001b[0m\n\u001b[0;32m----> 1\u001b[0;31m \u001b[0;32mfrom\u001b[0m \u001b[0;34m.\u001b[0m\u001b[0mrun\u001b[0m \u001b[0;32mimport\u001b[0m \u001b[0mRun\u001b[0m\u001b[0;34m,\u001b[0m \u001b[0mDictWithDefaults\u001b[0m\u001b[0;34m\u001b[0m\u001b[0;34m\u001b[0m\u001b[0m\n\u001b[0m\u001b[1;32m      2\u001b[0m \u001b[0;34m\u001b[0m\u001b[0m\n\u001b[1;32m      3\u001b[0m \u001b[0m__all__\u001b[0m \u001b[0;34m=\u001b[0m \u001b[0;34m[\u001b[0m\u001b[0;34m\"Run\"\u001b[0m\u001b[0;34m,\u001b[0m \u001b[0;34m\"DictWithDefaults\"\u001b[0m\u001b[0;34m]\u001b[0m\u001b[0;34m\u001b[0m\u001b[0;34m\u001b[0m\u001b[0m\n",
      "\u001b[0;32m~/ml_drought/src/run.py\u001b[0m in \u001b[0;36m<module>\u001b[0;34m\u001b[0m\n\u001b[1;32m     19\u001b[0m )\n\u001b[1;32m     20\u001b[0m \u001b[0;32mfrom\u001b[0m \u001b[0msrc\u001b[0m\u001b[0;34m.\u001b[0m\u001b[0mengineer\u001b[0m \u001b[0;32mimport\u001b[0m \u001b[0mEngineer\u001b[0m\u001b[0;34m\u001b[0m\u001b[0;34m\u001b[0m\u001b[0m\n\u001b[0;32m---> 21\u001b[0;31m \u001b[0;32mimport\u001b[0m \u001b[0msrc\u001b[0m\u001b[0;34m.\u001b[0m\u001b[0mmodels\u001b[0m\u001b[0;34m\u001b[0m\u001b[0;34m\u001b[0m\u001b[0m\n\u001b[0m\u001b[1;32m     22\u001b[0m \u001b[0;34m\u001b[0m\u001b[0m\n\u001b[1;32m     23\u001b[0m \u001b[0;32mfrom\u001b[0m \u001b[0mtyping\u001b[0m \u001b[0;32mimport\u001b[0m \u001b[0mDict\u001b[0m\u001b[0;34m,\u001b[0m \u001b[0mOptional\u001b[0m\u001b[0;34m\u001b[0m\u001b[0;34m\u001b[0m\u001b[0m\n",
      "\u001b[0;32m~/ml_drought/src/models/__init__.py\u001b[0m in \u001b[0;36m<module>\u001b[0;34m\u001b[0m\n\u001b[1;32m      5\u001b[0m \u001b[0;34m\u001b[0m\u001b[0m\n\u001b[1;32m      6\u001b[0m \u001b[0;32mfrom\u001b[0m \u001b[0;34m.\u001b[0m\u001b[0mparsimonious\u001b[0m \u001b[0;32mimport\u001b[0m \u001b[0mPersistence\u001b[0m\u001b[0;34m\u001b[0m\u001b[0;34m\u001b[0m\u001b[0m\n\u001b[0;32m----> 7\u001b[0;31m \u001b[0;32mfrom\u001b[0m \u001b[0;34m.\u001b[0m\u001b[0mregression\u001b[0m \u001b[0;32mimport\u001b[0m \u001b[0mLinearRegression\u001b[0m\u001b[0;34m\u001b[0m\u001b[0;34m\u001b[0m\u001b[0m\n\u001b[0m\u001b[1;32m      8\u001b[0m \u001b[0;32mfrom\u001b[0m \u001b[0;34m.\u001b[0m\u001b[0mgbdt\u001b[0m \u001b[0;32mimport\u001b[0m \u001b[0mGBDT\u001b[0m\u001b[0;34m\u001b[0m\u001b[0;34m\u001b[0m\u001b[0m\n\u001b[1;32m      9\u001b[0m \u001b[0;32mfrom\u001b[0m \u001b[0;34m.\u001b[0m\u001b[0mneural_networks\u001b[0m\u001b[0;34m.\u001b[0m\u001b[0mlinear_network\u001b[0m \u001b[0;32mimport\u001b[0m \u001b[0mLinearNetwork\u001b[0m\u001b[0;34m\u001b[0m\u001b[0;34m\u001b[0m\u001b[0m\n",
      "\u001b[0;32m~/ml_drought/src/models/regression.py\u001b[0m in \u001b[0;36m<module>\u001b[0;34m\u001b[0m\n\u001b[1;32m      6\u001b[0m \u001b[0;32mimport\u001b[0m \u001b[0mxarray\u001b[0m \u001b[0;32mas\u001b[0m \u001b[0mxr\u001b[0m\u001b[0;34m\u001b[0m\u001b[0;34m\u001b[0m\u001b[0m\n\u001b[1;32m      7\u001b[0m \u001b[0;34m\u001b[0m\u001b[0m\n\u001b[0;32m----> 8\u001b[0;31m \u001b[0;32mimport\u001b[0m \u001b[0mshap\u001b[0m\u001b[0;34m\u001b[0m\u001b[0;34m\u001b[0m\u001b[0m\n\u001b[0m\u001b[1;32m      9\u001b[0m \u001b[0;34m\u001b[0m\u001b[0m\n\u001b[1;32m     10\u001b[0m \u001b[0;32mfrom\u001b[0m \u001b[0mtyping\u001b[0m \u001b[0;32mimport\u001b[0m \u001b[0mcast\u001b[0m\u001b[0;34m,\u001b[0m \u001b[0mDict\u001b[0m\u001b[0;34m,\u001b[0m \u001b[0mList\u001b[0m\u001b[0;34m,\u001b[0m \u001b[0mTuple\u001b[0m\u001b[0;34m,\u001b[0m \u001b[0mOptional\u001b[0m\u001b[0;34m,\u001b[0m \u001b[0mUnion\u001b[0m\u001b[0;34m\u001b[0m\u001b[0;34m\u001b[0m\u001b[0m\n",
      "\u001b[0;31mModuleNotFoundError\u001b[0m: No module named 'shap'"
     ]
    }
   ],
   "source": [
    "import seaborn as sns\n",
    "from src.utils import drop_nans_and_flatten\n",
    "\n",
    "from src.analysis import read_train_data, read_test_data, read_pred_data"
   ]
  },
  {
   "cell_type": "code",
   "execution_count": null,
   "metadata": {},
   "outputs": [],
   "source": [
    "# EXPERIMENT =      'ICLR_one_month_forecast_BOKU_boku_VCI_our_vars_ALL'\n",
    "EXPERIMENT =      'one_month_forecast'\n",
    "# TRUE_EXPERIMENT = 'ICLR_one_month_forecast_BOKU_boku_VCI_our_vars_ALL'\n",
    "TRUE_EXPERIMENT = 'one_month_forecast'\n",
    "TARGET_VAR =      'boku_VCI'\n",
    "\n",
    "assert (data_dir / f'models/{EXPERIMENT}').exists()\n",
    "assert (data_dir / f'models/{TRUE_EXPERIMENT}').exists()\n",
    "\n",
    "print((data_dir / f'models/{EXPERIMENT}').as_posix())"
   ]
  },
  {
   "cell_type": "markdown",
   "metadata": {},
   "source": [
    "# Read in the data"
   ]
  },
  {
   "cell_type": "code",
   "execution_count": null,
   "metadata": {},
   "outputs": [],
   "source": [
    "X_train, y_train = read_train_data(data_dir, experiment=TRUE_EXPERIMENT)\n",
    "X_test, y_test = read_test_data(data_dir, experiment=TRUE_EXPERIMENT)\n",
    "static_ds = xr.open_dataset(data_dir / \"features/static/data.nc\")\n",
    "\n",
    "ds = xr.merge([y_train, y_test]).sortby('time').sortby('lat')\n",
    "d_ = xr.merge([X_train, X_test]).sortby('time').sortby('lat')\n",
    "ds = xr.merge([ds, d_])"
   ]
  },
  {
   "cell_type": "code",
   "execution_count": null,
   "metadata": {},
   "outputs": [],
   "source": [
    "print(\"TRAINING DATA\")\n",
    "display(ds)\n",
    "print('\\n\\n')\n",
    "print(\"TARGET DATA\")\n",
    "display(y_test)"
   ]
  },
  {
   "cell_type": "code",
   "execution_count": null,
   "metadata": {},
   "outputs": [],
   "source": [
    "from src.utils import get_ds_mask\n",
    "mask = get_ds_mask(X_train.VCI)\n",
    "\n",
    "# bline_pred = read_pred_data('previous_month', data_dir, experiment=EXPERIMENT)[-1].where(~mask)\n",
    "# lstm_pred = read_pred_data('rnn', data_dir, experiment=EXPERIMENT)[-1].where(~mask)\n",
    "ealstm_pred = read_pred_data('ealstm', data_dir, experiment=EXPERIMENT)[-1].where(~mask)"
   ]
  },
  {
   "cell_type": "code",
   "execution_count": null,
   "metadata": {},
   "outputs": [],
   "source": [
    "fig, ax = plt.subplots()\n",
    "time_ix = 0\n",
    "time = ealstm_pred.isel(time=time_ix).time.values\n",
    "ealstm_pred.isel(time=time_ix).plot(ax=ax)\n",
    "ax.set_title(f\"** PREDICTED VALUES {str(time).split('T')[0]}**\", size=16);"
   ]
  },
  {
   "cell_type": "markdown",
   "metadata": {},
   "source": [
    "# Read in the models\n",
    "Input data:\n",
    "* boku_VCI    \n",
    "* pev         \n",
    "* t2m         \n",
    "* precip      \n",
    "* E           \n",
    "* SMroot      \n",
    "* SMsurf\n",
    "\n",
    "\n",
    "\\+ each variables SPATIAL MEAN (therefore 14 input variables)"
   ]
  },
  {
   "cell_type": "code",
   "execution_count": null,
   "metadata": {},
   "outputs": [],
   "source": [
    "from src.models import load_model"
   ]
  },
  {
   "cell_type": "code",
   "execution_count": null,
   "metadata": {},
   "outputs": [],
   "source": [
    "ealstm = load_model(data_dir / 'models' / EXPERIMENT / 'ealstm' / 'model.pt')\n",
    "# lstm = load_model(data_dir / 'models' / EXPERIMENT / 'rnn' / 'model.pt')"
   ]
  },
  {
   "cell_type": "code",
   "execution_count": null,
   "metadata": {},
   "outputs": [],
   "source": [
    "ealstm.models_dir = data_dir / 'models' / EXPERIMENT\n",
    "# lstm.models_dir = data_dir / 'models' / EXPERIMENT\n",
    "\n",
    "ealstm.experiment = TRUE_EXPERIMENT\n",
    "ealstm.features_per_month  # x.shape[-1] = the number of features in dynamic data "
   ]
  },
  {
   "cell_type": "code",
   "execution_count": null,
   "metadata": {},
   "outputs": [],
   "source": [
    "ealstm.ignore_vars"
   ]
  },
  {
   "cell_type": "markdown",
   "metadata": {},
   "source": [
    "# checks of the static data"
   ]
  },
  {
   "cell_type": "code",
   "execution_count": null,
   "metadata": {},
   "outputs": [],
   "source": [
    "dl = ealstm.get_dataloader('train', batch_file_size=1, shuffle_data=False)\n",
    "train_iter = iter(dl)\n",
    "static_data = train_iter.static\n",
    "static_data"
   ]
  },
  {
   "cell_type": "code",
   "execution_count": null,
   "metadata": {},
   "outputs": [],
   "source": [
    "global_vars = [v for v in static_data if 'global' in v]\n",
    "pixel_vars = [v for v in static_data if 'pixel' in v]\n",
    "\n",
    "fig, ax = plt.subplots()\n",
    "static_data[global_vars[0]].plot(ax=ax)\n",
    "fig, ax = plt.subplots()\n",
    "static_data[pixel_vars[0]].plot(ax=ax)"
   ]
  },
  {
   "cell_type": "markdown",
   "metadata": {},
   "source": [
    "# Interpret Model Static layer"
   ]
  },
  {
   "cell_type": "code",
   "execution_count": null,
   "metadata": {},
   "outputs": [],
   "source": [
    "dir(ealstm)"
   ]
  },
  {
   "cell_type": "code",
   "execution_count": null,
   "metadata": {},
   "outputs": [],
   "source": [
    "# ealstm.yearly_agg_size\n",
    "ealstm.model.static_embedding"
   ]
  },
  {
   "cell_type": "code",
   "execution_count": null,
   "metadata": {},
   "outputs": [],
   "source": [
    "from typing import Tuple\n",
    "\n",
    "\n",
    "def sigmoid(x):\n",
    "    return 1/(1 + np.exp(-x))\n",
    "\n",
    "\n",
    "def build_static_x(x: Tuple[np.array], ) -> Tuple[List[np.array], List[np.array], List[np.array]]:\n",
    "    all_static_x = []\n",
    "    all_latlons = []\n",
    "    all_pred_months = []\n",
    "\n",
    "    for i in range(len(x)):  # EACH BATCH (of X,y pairs)\n",
    "        pred_month_data = x[i][1]\n",
    "        latlons_data = x[i][2]\n",
    "        yearly_aggs_data = x[i][4]\n",
    "        static_data = x[i][5]\n",
    "        assert static_data.shape[-1] == 29, f\"{static_data.shape}\"\n",
    "        # print()\n",
    "        # print(\"pred_month_data.shape\", (pred_month_data.shape[0], 12) if pred_month_data is not None else \"None\")\n",
    "        # print(\"latlons_data.shape\", latlons_data.shape if latlons_data is not None else \"None\")\n",
    "        # print(\"yearly_aggs_data.shape\", yearly_aggs_data.shape if yearly_aggs_data is not None else \"None\")\n",
    "        # print(\"static_data.shape\", static_data.shape if static_data is not None else \"None\")\n",
    "        # break\n",
    "        \n",
    "        # append the static_arrays\n",
    "        static_x = []\n",
    "        # normalise latlon\n",
    "        static_x.append((latlons_data - latlons_data.mean(axis=0)) / latlons_data.std(axis=0))  # 0, 1\n",
    "        static_x.append(yearly_aggs_data)  # 2: 9\n",
    "        static_x.append(static_data)\n",
    "        # one_hot_encode the pred_month_data\n",
    "        try:\n",
    "            static_x.append(ealstm._one_hot(torch.from_numpy(pred_month_data), 12).numpy())\n",
    "        except TypeError:\n",
    "            static_x.append(ealstm._one_hot(torch.from_numpy(pred_month_data), 12).cpu().numpy())\n",
    "        \n",
    "        # exclude Nones\n",
    "        static_x = np.concatenate([x for x in static_x if x is not None], axis=-1)\n",
    "        # print(\"Static X Data Shape: \", static_x.shape)\n",
    "        \n",
    "        # all data\n",
    "        all_static_x.append(static_x)\n",
    "\n",
    "        # metadata (latlons and pred_months)\n",
    "        all_latlons.append(latlons_data)\n",
    "        all_pred_months.append(pred_month_data)\n",
    "        \n",
    "    return all_static_x, all_latlons, all_pred_months\n",
    "\n",
    "\n",
    "def calculate_embeddings(static_x: np.ndarray, W: np.ndarray, b: np.array) -> np.array:\n",
    "    assert W.T.shape[0] == static_x.shape[-1], f\"Matrix operations must be valid {static_x.shape} * {W.T.shape}\"\n",
    "    \n",
    "    embedding = []\n",
    "    for pixel_ix in range(static_x.shape[0]):\n",
    "        embedding.append(sigmoid(np.dot(W, static_x[pixel_ix]) + b))\n",
    "    return np.array(embedding)\n",
    "\n",
    "\n",
    "def get_train_mask(ealstm):\n",
    "    val_split = 0.1\n",
    "    len_mask = len(\n",
    "        DataLoader._load_datasets(\n",
    "            ealstm.data_path,\n",
    "            mode=\"train\",\n",
    "            experiment=EXPERIMENT,\n",
    "            shuffle_data=False,\n",
    "            pred_months=None,\n",
    "        )\n",
    "    )\n",
    "    train_mask, val_mask = train_val_mask(len_mask, val_split)\n",
    "    return train_mask\n",
    "\n",
    "\n",
    "def get_static_embedding(ealstm) -> Tuple[List[np.array], Tuple[List[np.array], np.array, List[np.array]]]:\n",
    "    # get W, b from state_dict\n",
    "    od = ealstm.model.static_embedding.state_dict()\n",
    "    try:\n",
    "        W = od['weight'].numpy()\n",
    "        b = od['bias'].numpy()\n",
    "    except TypeError:\n",
    "        W = od['weight'].cpu().numpy()\n",
    "        b = od['bias'].cpu().numpy()\n",
    "        \n",
    "    # get X_static data from dataloader\n",
    "    print(\"Calling Training DataLoader\")\n",
    "    dl = ealstm.get_dataloader('train', batch_file_size=1, shuffle_data=False)\n",
    "    x = [x for (x, y) in dl]\n",
    "        \n",
    "    # build static_x matrix\n",
    "    all_static_x, all_latlons, all_pred_months = build_static_x(x)\n",
    "    # check w^Tx + b is a valid matrix operation\n",
    "    assert W.T.shape[0] == all_static_x[0].shape[-1], f\"W.T shape: {W.T.shape} static_x shape: {all_static_x[0].shape}\"\n",
    "    \n",
    "    # calculate the embeddings\n",
    "    all_embeddings = []\n",
    "    for static_x in all_static_x:\n",
    "        embedding = calculate_embeddings(static_x, W=W, b=b)\n",
    "        all_embeddings.append(embedding)\n",
    "        \n",
    "    return all_embeddings, (all_static_x, np.array(all_latlons), np.array(all_pred_months))\n",
    "\n",
    "all_e, (all_static_x, all_latlons, all_pred_months) = get_static_embedding(ealstm=ealstm)"
   ]
  },
  {
   "cell_type": "markdown",
   "metadata": {},
   "source": [
    "#### TODO: why do these exist?\n",
    "- Remove the static months where there are more than one pred_months\n",
    "- there should only be one pred_month per static embedding"
   ]
  },
  {
   "cell_type": "code",
   "execution_count": null,
   "metadata": {},
   "outputs": [],
   "source": [
    "pred_months_err_mask = [len(np.unique(pm)) == 1 for pm in all_pred_months]\n",
    "all_e = np.array(all_e)[pred_months_err_mask]\n",
    "all_static_x = np.array(all_static_x)[pred_months_err_mask]\n",
    "all_pred_months = np.array(all_pred_months)[pred_months_err_mask]\n",
    "all_latlons = np.array(all_latlons)[pred_months_err_mask]\n",
    "\n",
    "assert all_latlons.shape == all_static_x.shape\n",
    "assert all_pred_months.shape == all_e.shape\n",
    "\n",
    "# assert all timsteps have only 1 pred month\n",
    "assert all([i == 1 for i in [len(np.unique(pm)) for pm in all_pred_months]])"
   ]
  },
  {
   "cell_type": "markdown",
   "metadata": {},
   "source": [
    "### Sort by the pred month"
   ]
  },
  {
   "cell_type": "code",
   "execution_count": null,
   "metadata": {},
   "outputs": [],
   "source": [
    "def sort_by_another_list(list_to_sort, list_to_sort_on):\n",
    "    assert len(list_to_sort) == len(list_to_sort_on)\n",
    "    sort_ixs = np.argsort(list_to_sort_on)\n",
    "    return list_to_sort[sort_ixs]\n",
    "\n",
    "\n",
    "# SORTBY month\n",
    "pred_months = [int(np.unique(pm)) for pm in all_pred_months]\n",
    "\n",
    "all_e = sort_by_another_list(all_e, pred_months)\n",
    "all_static_x = sort_by_another_list(all_static_x, pred_months)\n",
    "all_latlons = sort_by_another_list(all_latlons, pred_months)\n",
    "all_pred_months = sort_by_another_list(all_pred_months, pred_months)"
   ]
  },
  {
   "cell_type": "code",
   "execution_count": null,
   "metadata": {},
   "outputs": [],
   "source": [
    "print(len(all_e))\n",
    "[emb.shape for emb in all_e]\n",
    "print(len(all_latlons))"
   ]
  },
  {
   "cell_type": "markdown",
   "metadata": {},
   "source": [
    "# Are they actually Static?"
   ]
  },
  {
   "cell_type": "code",
   "execution_count": null,
   "metadata": {},
   "outputs": [],
   "source": [
    "pred_months = [int(np.unique(pm)) for pm in all_pred_months]\n",
    "pred_months"
   ]
  },
  {
   "cell_type": "code",
   "execution_count": null,
   "metadata": {},
   "outputs": [],
   "source": [
    "import calendar\n",
    "# get the unique indexes of the months (from pred_months)\n",
    "unique_ids = [pred_months.index(x) for x in set(pred_months)]\n",
    "\n",
    "# check the first for that month against the others for that month\n",
    "for id_1, id_2, month in zip(unique_ids, [id_ + 1 for id_ in unique_ids], set(pred_months)):\n",
    "    mth = calendar.month_abbr[month]\n",
    "    if all_e[id_1].shape == all_e[id_2].shape:\n",
    "        print(f\"1 {mth}: \", np.all(all_e[id_1] == all_e[id_2]))\n",
    "    elif all_e[id_1 + 1].shape == all_e[id_2 + 1].shape:\n",
    "        print(f\"2 {mth}: \", np.all(all_e[id_1 + 1] == all_e[id_2 + 1]))\n",
    "    elif all_e[id_1 + 1].shape == all_e[id_2 + 2].shape:\n",
    "        print(f\"3 {mth}: \", np.all(all_e[id_1 + 1] == all_e[id_2 + 2]))\n",
    "    elif all_e[id_1 + 1].shape == all_e[id_2 + 3].shape:\n",
    "        print(f\"4 {mth}: \", np.all(all_e[id_1 + 1] == all_e[id_2 + 3]))\n",
    "    elif all_e[id_1 + 1].shape == all_e[id_2 + 4].shape:\n",
    "        print(f\"5 {mth}: \", np.all(all_e[id_1 + 1] == all_e[id_2 + 4]))\n",
    "    else:\n",
    "        print(f\"# {mth}: UNABLE TO FIND matching shape\")"
   ]
  },
  {
   "cell_type": "code",
   "execution_count": null,
   "metadata": {},
   "outputs": [],
   "source": [
    "unique_ids = [pred_months.index(x) for x in set(pred_months)]\n",
    "\n",
    "month_embeddings = all_e[unique_ids]\n",
    "month_static_x = all_static_x[unique_ids]\n",
    "month_latlons = all_latlons[unique_ids]\n",
    "month_pred_months = all_pred_months[unique_ids]\n",
    "month_pred_months = [np.unique(m)[0] for m in month_pred_months]"
   ]
  },
  {
   "cell_type": "code",
   "execution_count": null,
   "metadata": {},
   "outputs": [],
   "source": [
    "len(month_embeddings)"
   ]
  },
  {
   "cell_type": "markdown",
   "metadata": {},
   "source": [
    "# Visualise the Static Embedding"
   ]
  },
  {
   "cell_type": "code",
   "execution_count": null,
   "metadata": {},
   "outputs": [],
   "source": [
    "import calendar\n",
    "\n",
    "for embedding, pred_month in zip(month_embeddings, month_pred_months):\n",
    "    # embedding = all_embeddings[0]\n",
    "    fig, ax = plt.subplots(figsize=(12,5))\n",
    "    img = ax.pcolor(embedding.T, cmap='plasma')\n",
    "    ax.set_xlabel(\"Pixels\")\n",
    "    ax.set_ylabel(\"Input gate neuron\")\n",
    "    month = [m for m in calendar.month_abbr][pred_month]\n",
    "    ax.set_title(f\"Input gate activations {month}\")\n",
    "    cbar = plt.colorbar(img, ax=ax)\n",
    "    cbar.ax.set_ylabel(\"Activation\")"
   ]
  },
  {
   "cell_type": "code",
   "execution_count": null,
   "metadata": {},
   "outputs": [],
   "source": [
    "# create embedding dataset\n",
    "def build_xarray_object(embedding_matrix: np.array, ix):\n",
    "    return (\n",
    "        pd.DataFrame(embedding_matrix)\n",
    "        .reset_index()\n",
    "        .rename(columns={'index': 'pixel'})\n",
    "        .melt(id_vars='pixel')\n",
    "        .rename(columns={'variable': 'neuron', 'value': f'activation_{ix:03d}'})\n",
    "        .set_index(['pixel', 'neuron'])\n",
    "        .to_xarray()\n",
    "    )\n",
    "\n",
    "all_ds = []\n",
    "for ix, embedding_matrix in enumerate(all_e):\n",
    "    all_ds.append(build_xarray_object(embedding_matrix, ix))\n",
    "    break\n",
    "    \n",
    "ds = xr.auto_combine(all_ds)\n",
    "ds"
   ]
  },
  {
   "cell_type": "markdown",
   "metadata": {},
   "source": [
    "# How does this vary over each MONTH ?"
   ]
  },
  {
   "cell_type": "code",
   "execution_count": null,
   "metadata": {},
   "outputs": [],
   "source": [
    "# Taken directly from Kratzert et al (2019) \n",
    "# https://github.com/kratzert/ealstm_regional_modeling/blob/master/papercode/clusterutils.py\n",
    "from collections import defaultdict\n",
    "from typing import List, Dict, Union\n",
    "from sklearn.cluster import KMeans\n",
    "\n",
    "\n",
    "def fit_kmeans(array: np.array, ks: List[int] = [4]) -> Dict[int, Dict[int, int]]:\n",
    "    clusters = {k: {} for k in ks}\n",
    "    for k in ks:\n",
    "        clusterer = KMeans(n_clusters=k, random_state=0, init='k-means++',\n",
    "                           n_init=200).fit(array)\n",
    "\n",
    "        for pixel in range(array.shape[0]):\n",
    "            arr = array[pixel, :]\n",
    "            clusters[k][pixel] = clusterer.predict(arr.reshape(1, -1))[0]\n",
    "    return clusters\n",
    "\n",
    "\n",
    "def convert_clusters_to_ds(ks: List[int], static_clusters: Dict[int, np.array], pixels: np.ndarray, latitudes: np.ndarray, longitudes: np.ndarray, time: Union[pd.Timestamp, int] = 1) -> xr.Dataset:\n",
    "    out = []\n",
    "    for k in ks:\n",
    "        cluster = np.array([v for v in static_clusters[k].values()])\n",
    "        coords = {'pixel': pixels}\n",
    "        dims = ['pixel']\n",
    "        cluster_ds = xr.Dataset({f'cluster_{k}': (dims, cluster), 'lat': (dims, latitudes), 'lon': (dims, longitudes), 'time': (dims, [time for _ in range(len(latitudes))])})\n",
    "        out.append(cluster_ds)\n",
    "    \n",
    "    static_cluster_ds = xr.auto_combine(out)\n",
    "    static_cluster_ds = static_cluster_ds.to_dataframe().set_index(['time', 'lat','lon']).to_xarray()\n",
    "    \n",
    "    return static_cluster_ds\n",
    "\n",
    "\n",
    "def plot_cluster_ds(ks: List[int], static_cluster_ds: xr.Dataset, month_abbr: str = ''):\n",
    "    for k in ks:\n",
    "        fig, ax = plt.subplots(figsize=(12,8))\n",
    "        static_cluster_ds[f'cluster_{k}'].plot(ax=ax)\n",
    "        ax.set_title(f'Output of Static Embedding Clustering [k={k}]\\n{month_abbr}');\n",
    "\n",
    "        for item in ([ax.title, ax.xaxis.label, ax.yaxis.label]): # + ax.get_xticklabels() + ax.get_yticklabels()):\n",
    "            item.set_fontsize(20)\n",
    "            \n",
    "\n"
   ]
  },
  {
   "cell_type": "code",
   "execution_count": null,
   "metadata": {},
   "outputs": [],
   "source": [
    "# len(all_e)\n",
    "# embedding.shape\n",
    "# latlons.shape\n",
    "\n",
    "print(len(month_embeddings))\n",
    "print(len(month_pred_months))\n",
    "print(len(month_latlons))"
   ]
  },
  {
   "cell_type": "code",
   "execution_count": null,
   "metadata": {},
   "outputs": [],
   "source": [
    "# n clusters \n",
    "\n",
    "# calculate clusters for ALL x.nc inputs\n",
    "all_cluster_ds = []\n",
    "\n",
    "for ix, (embedding, pred_month, latlons) in enumerate(zip(\n",
    "    month_embeddings, \n",
    "    month_pred_months, \n",
    "    month_latlons\n",
    ")):\n",
    "    ks = [5]\n",
    "    \n",
    "    # fit the clusters\n",
    "    static_clusters = fit_kmeans(embedding, ks)\n",
    "    print(f\"Fitted KMeans {ix}\") if ix % 10 == 0 else None\n",
    "    \n",
    "    # convert to dataset\n",
    "    pixels = latlons\n",
    "    lons = latlons[:, 1] \n",
    "    lats = latlons[:, 0] \n",
    "    static_cluster_ds = convert_clusters_to_ds(ks, static_clusters, pixels, lats, lons, time=ix)\n",
    "    print(f\"Convert to ds {ix}\") if ix % 10 == 0 else None\n",
    "    \n",
    "    # append to final list\n",
    "    all_cluster_ds.append(static_cluster_ds)\n",
    "\n",
    "# combine into one xr.Dataset\n",
    "cluster_ds = xr.auto_combine(all_cluster_ds)"
   ]
  },
  {
   "cell_type": "code",
   "execution_count": null,
   "metadata": {},
   "outputs": [],
   "source": [
    "cluster_ds"
   ]
  },
  {
   "cell_type": "code",
   "execution_count": null,
   "metadata": {},
   "outputs": [],
   "source": [
    "if not (data_dir / f\"tommy/static_embeddings.nc\").exists():\n",
    "    cluster_ds.to_netcdf(data_dir / f\"tommy/static_embeddings.nc\")\n",
    "else:\n",
    "    print(f\"Already saved to: {(data_dir / 'tommy/static_embeddings.nc').as_posix()}\")"
   ]
  },
  {
   "cell_type": "markdown",
   "metadata": {},
   "source": [
    "# Plot KMeans for each of the embeddings\n",
    "TODO: Get the colors the same like the Kratzert code!"
   ]
  },
  {
   "cell_type": "code",
   "execution_count": null,
   "metadata": {
    "scrolled": true
   },
   "outputs": [],
   "source": [
    "# m_abbrs = [m for m in calendar.month_abbr]\n",
    "\n",
    "# for embedding, pred_month, latlons in zip(\n",
    "#     month_embeddings, \n",
    "#     month_pred_months, \n",
    "#     month_latlons\n",
    "# ):\n",
    "#     ks = [5]\n",
    "#     static_clusters = fit_kmeans(embedding, ks)\n",
    "    \n",
    "#     # create ds\n",
    "#     pixels = latlons\n",
    "#     lons = latlons[:, 1] \n",
    "#     lats = latlons[:, 0] \n",
    "#     static_cluster_ds = convert_clusters_to_ds(ks, static_clusters, pixels, lats, lons)\n",
    "    \n",
    "#     # plot ds\n",
    "#     month_abbr = m_abbrs[pred_month]\n",
    "#     plot_cluster_ds(ks, static_cluster_ds, month_abbr=month_abbr)"
   ]
  },
  {
   "cell_type": "code",
   "execution_count": null,
   "metadata": {},
   "outputs": [],
   "source": [
    "# ?ax.imshow\n",
    "# https://stackoverflow.com/a/52323085/9940782\n",
    "# https://stackoverflow.com/a/9708079/9940782\n",
    "from matplotlib.colors import ListedColormap\n",
    "\n",
    "# colors = sns.color_palette('viridis', 6)\n",
    "#          yellow,    green,    turqoise,   blue,      purple\n",
    "colors = np.array(['#fde832', '#67c962', '#43928d', '#3b528b', '#461954'])\n",
    "cmap = ListedColormap(colors)\n",
    "\n",
    "## get the matching/closest embeddings\n",
    "## assign a color to the values\n",
    "fig, ax = plt.subplots()\n",
    "\n",
    "k_matrix = cluster_ds.isel(time=-1).cluster_5.values[::-1, :]\n",
    "ax.imshow(k_matrix, cmap=cmap)"
   ]
  },
  {
   "cell_type": "code",
   "execution_count": null,
   "metadata": {},
   "outputs": [],
   "source": [
    "sns.palplot(colors)\n",
    "\n",
    "fig, axs = plt.subplots(1, 2)\n",
    "axs[0].imshow(cluster_ds.isel(time=0).cluster_5.values[::-1, :], cmap=cmap)\n",
    "axs[1].imshow(cluster_ds.isel(time=1).cluster_5.values[::-1, :], cmap=cmap)"
   ]
  },
  {
   "cell_type": "code",
   "execution_count": null,
   "metadata": {},
   "outputs": [],
   "source": [
    "colors[[4, 2, 1, 3, 0]]"
   ]
  },
  {
   "cell_type": "code",
   "execution_count": null,
   "metadata": {},
   "outputs": [],
   "source": [
    "sns.palplot(colors)\n",
    "sns.palplot(colors[[4, 2, 1, 3, 0]])\n",
    "\n",
    "# 0->4, 1->2, 2->1, 3=3, 4->0\n",
    "new_cmap = ListedColormap(colors[np.array([4, 2, 1, 3, 0])])\n",
    "\n",
    "fig, axs = plt.subplots(1, 2)\n",
    "axs[0].imshow(cluster_ds.isel(time=0).cluster_5.values[::-1, :], cmap=cmap)\n",
    "axs[1].imshow(cluster_ds.isel(time=1).cluster_5.values[::-1, :], cmap=new_cmap)"
   ]
  },
  {
   "cell_type": "code",
   "execution_count": null,
   "metadata": {},
   "outputs": [],
   "source": [
    "jan = cluster_ds.isel(time=0).cluster_5\n",
    "feb = cluster_ds.isel(time=1).cluster_5\n",
    "\n",
    "# jan = cluster_ds.isel(time=0).cluster_5.values[::-1, :]\n",
    "# feb = cluster_ds.isel(time=1).cluster_5.values[::-1, :]\n",
    "\n",
    "comparison_ds = feb\n",
    "reference_ds = jan"
   ]
  },
  {
   "cell_type": "code",
   "execution_count": null,
   "metadata": {},
   "outputs": [],
   "source": [
    "def get_matching_groups(\n",
    "    reference_ds: xr.DataArray, comparison_ds: xr.DataArray\n",
    ") -> Tuple[Dict[float, float], pd.DataFrame]:\n",
    "    # get the unique values from the reference_ds\n",
    "    group_vals = np.unique(reference_ds.values[~np.isnan(reference_ds.values)])\n",
    "\n",
    "    # calculate the number of matching pixels\n",
    "    df = convert_counts_dict_to_dataframe(\n",
    "        count_matching_pixels(reference_ds, comparison_ds)\n",
    "    )\n",
    "\n",
    "    # check that the groups are matching / all groups are included\n",
    "    assert all(np.isin(np.unique(df.group_0.values), group_vals))\n",
    "    assert all(np.isin(np.unique(df.group_1.values), group_vals))\n",
    "\n",
    "    # calculate_the remap_dict\n",
    "    remap_dict = most_overlapping_pixels_algorithm(df)\n",
    "\n",
    "    # check all values in group_vals are in the dict keys\n",
    "    assert all(np.isin([k for k in remap_dict.keys()], group_vals))\n",
    "\n",
    "    return remap_dict, df\n",
    "\n",
    "\n",
    "def count_matching_pixels(reference_ds: xr.Dataset, comparison_ds: xr.Dataset) -> Dict[float, Dict[float, float]]:\n",
    "    \"\"\"Count the number of pixels for each value\n",
    "        in comparison_ds for each reference value\n",
    "        in reference_ds\n",
    "\n",
    "    Returns:\n",
    "    -------\n",
    "     Dict[float, Dict[float, float]]\n",
    "        keys = reference_ds values\n",
    "        values = {comparison_ds values: count of matches}\n",
    "    \"\"\"\n",
    "    unique_counts = dict()\n",
    "\n",
    "    # for each reference value in reference_ds\n",
    "    # excluding np.nan\n",
    "    for value in np.unique(reference_ds.values[~np.isnan(reference_ds.values)]):\n",
    "        # get the pixels from Comparison corresponding to `value` in Reference\n",
    "        np_arr = comparison_ds.where(reference_ds == value).values\n",
    "        # drop nans from matching values\n",
    "        np_arr = np_arr[~np.isnan(np_arr)]\n",
    "        # calculate the number of group_1 pixels\n",
    "        counts = np.unique(np_arr, return_counts=True)\n",
    "        unique_counts[value] = dict(zip(counts[0], counts[1]))\n",
    "\n",
    "    return unique_counts\n",
    "\n",
    "\n",
    "def convert_counts_dict_to_dataframe(unique_counts: dict) -> pd.DataFrame:\n",
    "    \"\"\"create long format dataframe from counts in unique_counts\"\"\"\n",
    "    df = pd.DataFrame(unique_counts)  # rows = group_1_values, cols = group_0_values\n",
    "    df.columns = df.columns.rename('group_0')\n",
    "    df.index = df.index.rename('group_1')\n",
    "    # 2D -> 1D idx, group_0, group_1, count\n",
    "    df = df.unstack().reset_index().rename(columns={0:'count'})\n",
    "\n",
    "    counts = df.groupby('group_1')['count'].sum()\n",
    "    df['pct'] = df.apply(lamba x: x['count'] / counts.iloc[x.group_1], axis=1)\n",
    "    assert False\n",
    "\n",
    "    return df\n",
    "\n",
    "\n",
    "def get_max_count_row(df: pd.DataFrame) -> pd.Series:\n",
    "    \"\"\"Get the row with the largest count from df\"\"\"\n",
    "    return df.loc[df['count'].idxmax()]\n",
    "\n",
    "\n",
    "def drop_already_assigned_values(\n",
    "    df: pd.DataFrame,\n",
    "    assigned_group_values: List[float],\n",
    ") -> pd.DataFrame:\n",
    "    \"\"\"drop the values that have been assigned (added to the lists)\n",
    "    \"\"\"\n",
    "    # remove the matches from group_1\n",
    "    df = df.loc[~np.isin(df.group_1, assigned_group_values)]\n",
    "    # remove the matches from group_0\n",
    "#     df = df.loc[~np.isin(df.group_0, assigned_group_values)]\n",
    "    return df\n",
    "\n",
    "\n",
    "def calculate_remap_dict(group_0_list: List[float], group_1_list: List[float]) -> Dict[float, float]:\n",
    "    \"\"\"create dictionary object containing the mapping from reference_group -> comparison_group\"\"\"\n",
    "    remap_dict = dict()\n",
    "    # TODO: THis assumption is not true it's not symmetrical\n",
    "    # remap dict is symmetrical:\n",
    "    # values in group_0->group_1 are the same mapping as group_1-> group_0\n",
    "    remap_dict.update(dict(zip(group_0_list, group_1_list)))\n",
    "    remap_dict.update(dict(zip(remap_dict.values(), remap_dict.keys())))\n",
    "\n",
    "    # sort the remap_dict\n",
    "    remap_dict = {k :remap_dict[k]  for k in sorted(remap_dict)}\n",
    "\n",
    "    return remap_dict\n",
    "\n",
    "\n",
    "def most_overlapping_pixels_algorithm(df: pd.DataFrame) -> Dict[float, float]:\n",
    "    \"\"\"match the 'closest' group from group_0 in group_1\"\"\"\n",
    "    assert all(np.isin([\"group_0\", \"group_1\"], [c for c in df.columns])), f\"Need columns group_0 group_1. Found: {df.columns}\"\n",
    "    # get the counts of each pixel value/group (excl. nans) and select the most cross-overs\n",
    "    # order is important so we do the BEST match first\n",
    "    # get the largest first\n",
    "    group_0_list = []\n",
    "    group_1_list = []\n",
    "\n",
    "    # match each reference_group to closest matching comparison_group\n",
    "    # track progress by removing the matches that have already been made\n",
    "    # from the dataframe\n",
    "    while df.shape[0] > 0:\n",
    "        # IF only one group-value left, assign it to the final remaining group (itself)\n",
    "        if len(df.group_1.unique()) == 1:\n",
    "            # final value is itself\n",
    "            # remap_dict[df.group_1.unique()[0]] = df.group_1.unique()[0]\n",
    "            group_0_list.append(df.group_1.unique()[0])\n",
    "            group_1_list.append(df.group_1.unique()[0])\n",
    "            df = drop_already_assigned_values(\n",
    "                df, group_1_list + group_0_list\n",
    "            )\n",
    "\n",
    "        else:\n",
    "            # otherwise match to the closest remaining match (most overlapping pixels)\n",
    "            max_count_row = get_max_count_row(df)\n",
    "            group_0_list.append(\n",
    "                max_count_row.group_0\n",
    "            )\n",
    "            group_1_list.append(\n",
    "                max_count_row.group_1\n",
    "            )\n",
    "\n",
    "            # drop_already_assigned_values\n",
    "            df = drop_already_assigned_values(\n",
    "                df, group_1_list+group_0_list\n",
    "            )\n",
    "\n",
    "    remap_dict = calculate_remap_dict(group_0_list, group_1_list)\n",
    "\n",
    "    return remap_dict\n",
    "\n",
    "\n",
    "# Plotting helper functions\n",
    "def plot_colors_remapping(colors, remap_dict) -> None:\n",
    "    colors_remapped = [[int(v) for v in remap_dict.values()]]\n",
    "    sns.palplot(colors)\n",
    "    sns.palplot(colors_remapped)\n",
    "\n",
    "\n",
    "def replace_with_dict2(ar: np.array, dic: Dict) -> np.array:\n",
    "    \"\"\"Replace the values in an np.ndarray with a dictionary\n",
    "\n",
    "    https://stackoverflow.com/a/47171600/9940782\n",
    "    \"\"\"\n",
    "    # Extract out keys and values\n",
    "    k = np.array(list(dic.keys()))\n",
    "    v = np.array(list(dic.values()))\n",
    "\n",
    "    # Get argsort indices\n",
    "    sidx = k.argsort()\n",
    "\n",
    "    ks = k[sidx]\n",
    "    vs = v[sidx]\n",
    "    warnings.warn(\"We are taking one from the index. need to check this is true!!!\")\n",
    "    return vs[np.searchsorted(ks, ar) - 1]\n",
    "\n",
    "\n",
    "def remap_xarray_values(\n",
    "    xr_obj: Union[xr.Dataset, xr.DataArray],\n",
    "    lookup_dict: Dict,\n",
    "    new_variable: str,\n",
    "    overwrite: bool = True,\n",
    "    variable: Optional[str] = None,\n",
    ") -> Union[xr.Dataset, xr.DataArray]:\n",
    "    \"\"\" remap values in xr_obj using lookup_dict.\n",
    "    Arguments:\n",
    "    ---------\n",
    "    : xr_obj (xr.Dataset, xr.DataArray)\n",
    "        the xarray object we want to look values up from\n",
    "    : variable (str)\n",
    "        the INPUT variable we are hoping to look the values up from (the dictionary keys)\n",
    "    : new_variable (str)\n",
    "        the name of the OUTPUT variable we want to put the dictionary values in\n",
    "    : lookup_dict (dict)\n",
    "        the dictionary we want to lookup the values of 'variable' in to return values to 'new_variable'\n",
    "    : overwrite (bool)\n",
    "        True = return a new xr_obj with the remapped values\n",
    "        False = Assign a new Variable to the xr_obj\n",
    "    \"\"\"\n",
    "    # get the values as a numpy array\n",
    "    if isinstance(xr_obj, xr.Dataset):\n",
    "        assert variable is not None\n",
    "        assert variable in list(ds.data_vars), f\"variable is not in {list(ds.data_vars)}\"\n",
    "        ar = xr_obj[variable].values\n",
    "    elif isinstance(xr_obj, xr.DataArray):\n",
    "        ar = xr_obj.values\n",
    "    else:\n",
    "        assert (\n",
    "            False\n",
    "        ), \"This function only works with xarray objects.\" \\\n",
    "        f\"Currently xr_obj is type: {type(xr_obj)}\"\n",
    "\n",
    "    assert isinstance(ar, np.ndarray), f\"ar should be a numpy array!\"\n",
    "    assert isinstance(lookup_dict, dict), f\"lookup_dict should be a dictionary object!\"\n",
    "\n",
    "    # replace values in a numpy array with the values from the lookup_dict\n",
    "    new_ar = replace_with_dict2(ar, lookup_dict)\n",
    "\n",
    "    # assign the values looked up from the dictionary to a new variable in the xr_obj\n",
    "    new_da = xr.DataArray(new_ar, coords=[xr_obj.lat, xr_obj.lon], dims=[\"lat\", \"lon\"])\n",
    "    if new_variable is not None:\n",
    "        new_da.name = new_variable\n",
    "    if not overwrite:\n",
    "        new_da = xr.merge([xr_obj, new_da])\n",
    "\n",
    "    return new_da\n",
    "\n",
    "\n",
    "remap_dict, matches_df = get_matching_groups(reference_ds, comparison_ds)\n",
    "\n",
    "print(remap_dict)\n",
    "\n",
    "# remap_xarray_values(\n",
    "#     comparison_ds, new_variable='cluster_5',\n",
    "#     lookup_dict=remap_dict,\n",
    "#     overwrite=True\n",
    "# )"
   ]
  },
  {
   "cell_type": "code",
   "execution_count": null,
   "metadata": {},
   "outputs": [],
   "source": [
    "assigned_group_values = []\n",
    "display(matches_df.head(7))\n",
    "display(matches_df.groupby('group_1')['count'].sum())\n",
    "\n",
    "# 1.\n",
    "# get matches\n",
    "max_row = get_max_count_row(matches_df)\n",
    "assigned_group_values += [max_row.group_1]\n",
    "# drop_already_assigned_values\n",
    "df = matches_df.loc[~np.isin(matches_df.group_1, assigned_group_values)]\n",
    "\n",
    "# 2.\n",
    "max_row = get_max_count_row(df)\n",
    "assigned_group_values += [max_row.group_1]"
   ]
  },
  {
   "cell_type": "code",
   "execution_count": null,
   "metadata": {},
   "outputs": [],
   "source": [
    "colors_remapped"
   ]
  },
  {
   "cell_type": "code",
   "execution_count": 373,
   "metadata": {},
   "outputs": [
    {
     "data": {
      "text/plain": [
       "<matplotlib.image.AxesImage at 0x7fd0de520090>"
      ]
     },
     "execution_count": 373,
     "metadata": {},
     "output_type": "execute_result"
    },
    {
     "data": {
      "image/png": "[encoded data removed]",
      "text/plain": [
       "<Figure size 360x72 with 1 Axes>"
      ]
     },
     "metadata": {
      "needs_background": "light"
     },
     "output_type": "display_data"
    },
    {
     "data": {
      "image/png": "[encoded data removed]",
      "text/plain": [
       "<Figure size 360x72 with 1 Axes>"
      ]
     },
     "metadata": {
      "needs_background": "light"
     },
     "output_type": "display_data"
    },
    {
     "data": {
      "image/png": "[encoded data removed]",
      "text/plain": [
       "<Figure size 432x288 with 2 Axes>"
      ]
     },
     "metadata": {
      "needs_background": "light"
     },
     "output_type": "display_data"
    },
    {
     "data": {
      "image/png": "[encoded data removed]",
      "text/plain": [
       "<Figure size 432x288 with 1 Axes>"
      ]
     },
     "metadata": {
      "needs_background": "light"
     },
     "output_type": "display_data"
    }
   ],
   "source": [
    "comparison_i = 2\n",
    "\n",
    "_rm_dict = {0.0: 0.0, 1.0: 3.0, 2.0: 1.0, 3.0: 2.0, 4.0: 4.0}\n",
    "colors_remapped = np.array(colors)[[int(v) for v in _rm_dict.values()]]\n",
    "\n",
    "def plot_colormap(colors: List[str]):\n",
    "    sns.palplot(colors)\n",
    "    ax = plt.gca()\n",
    "    ax.set_xticks(np.arange(5))\n",
    "    ax.set_xticklabels(np.arange(5))\n",
    "    \n",
    "plot_colormap(colors)\n",
    "plot_colormap(colors_remapped)\n",
    "\n",
    "# 0->4, 1->2, 2->1, 3=3, 4->4\n",
    "new_cmap = ListedColormap(colors_remapped)\n",
    "\n",
    "fig, axs = plt.subplots(1, 2)\n",
    "axs[0].imshow(cluster_ds.isel(time=0).cluster_5.values[::-1, :], cmap=cmap)\n",
    "axs[1].imshow(cluster_ds.isel(time=comparison_i).cluster_5.values[::-1, :], cmap=cmap)\n",
    "\n",
    "fig, ax = plt.subplots()\n",
    "ax.imshow(cluster_ds.isel(time=comparison_i).cluster_5.values[::-1, :], cmap=new_cmap)"
   ]
  },
  {
   "cell_type": "code",
   "execution_count": null,
   "metadata": {},
   "outputs": [],
   "source": [
    "## harcoding my best guess\n",
    "remap_dicts = [\n",
    "    {0.0: 0.0, 1.0: 1.0, 2.0: 2.0, 3.0: 3.0, 4.0: 4.0},\n",
    "    {0.0: 4.0, 1.0: 2.0, 2.0: 1.0, 3.0: 3.0, 4.0: 0.0},\n",
    "    {0.0: 0.0, 1.0: 3.0, 2.0: 1.0, 3.0: 2.0, 4.0: 4.0},\n",
    "    {0.0: 0.0, 1.0: 2.0, 2.0: 1.0, 3.0: 3.0, 4.0: 4.0},\n",
    "    {0.0: 0.0, 1.0: 2.0, 2.0: 1.0, 3.0: 3.0, 4.0: 4.0},\n",
    "    {0.0: 0.0, 1.0: 2.0, 2.0: 1.0, 3.0: 3.0, 4.0: 4.0},\n",
    "    {0.0: 0.0, 1.0: 2.0, 2.0: 1.0, 3.0: 3.0, 4.0: 4.0},\n",
    "    {0.0: 0.0, 1.0: 2.0, 2.0: 1.0, 3.0: 3.0, 4.0: 4.0},\n",
    "    {0.0: 0.0, 1.0: 2.0, 2.0: 1.0, 3.0: 3.0, 4.0: 4.0},\n",
    "    {0.0: 0.0, 1.0: 2.0, 2.0: 1.0, 3.0: 3.0, 4.0: 4.0},\n",
    "    {0.0: 0.0, 1.0: 2.0, 2.0: 1.0, 3.0: 3.0, 4.0: 4.0},\n",
    "    {0.0: 0.0, 1.0: 2.0, 2.0: 1.0, 3.0: 3.0, 4.0: 4.0},\n",
    "]"
   ]
  },
  {
   "cell_type": "code",
   "execution_count": 353,
   "metadata": {},
   "outputs": [
    {
     "data": {
      "image/png": "[encoded data removed]",
      "text/plain": [
       "<Figure size 432x288 with 2 Axes>"
      ]
     },
     "metadata": {
      "needs_background": "light"
     },
     "output_type": "display_data"
    },
    {
     "data": {
      "image/png": "[encoded data removed]",
      "text/plain": [
       "<Figure size 432x288 with 2 Axes>"
      ]
     },
     "metadata": {
      "needs_background": "light"
     },
     "output_type": "display_data"
    },
    {
     "data": {
      "image/png": "[encoded data removed]",
      "text/plain": [
       "<Figure size 432x288 with 2 Axes>"
      ]
     },
     "metadata": {
      "needs_background": "light"
     },
     "output_type": "display_data"
    },
    {
     "data": {
      "image/png": "[encoded data removed]",
      "text/plain": [
       "<Figure size 432x288 with 2 Axes>"
      ]
     },
     "metadata": {
      "needs_background": "light"
     },
     "output_type": "display_data"
    },
    {
     "data": {
      "image/png": "[encoded data removed]",
      "text/plain": [
       "<Figure size 432x288 with 2 Axes>"
      ]
     },
     "metadata": {
      "needs_background": "light"
     },
     "output_type": "display_data"
    },
    {
     "data": {
      "image/png": "[encoded data removed]",
      "text/plain": [
       "<Figure size 432x288 with 2 Axes>"
      ]
     },
     "metadata": {
      "needs_background": "light"
     },
     "output_type": "display_data"
    },
    {
     "data": {
      "image/png": "[encoded data removed]",
      "text/plain": [
       "<Figure size 432x288 with 2 Axes>"
      ]
     },
     "metadata": {
      "needs_background": "light"
     },
     "output_type": "display_data"
    },
    {
     "data": {
      "image/png": "[encoded data removed]",
      "text/plain": [
       "<Figure size 432x288 with 2 Axes>"
      ]
     },
     "metadata": {
      "needs_background": "light"
     },
     "output_type": "display_data"
    },
    {
     "data": {
      "image/png": "[encoded data removed]",
      "text/plain": [
       "<Figure size 432x288 with 2 Axes>"
      ]
     },
     "metadata": {
      "needs_background": "light"
     },
     "output_type": "display_data"
    },
    {
     "data": {
      "image/png": "[encoded data removed]",
      "text/plain": [
       "<Figure size 432x288 with 2 Axes>"
      ]
     },
     "metadata": {
      "needs_background": "light"
     },
     "output_type": "display_data"
    },
    {
     "data": {
      "image/png": "[encoded data removed]",
      "text/plain": [
       "<Figure size 432x288 with 2 Axes>"
      ]
     },
     "metadata": {
      "needs_background": "light"
     },
     "output_type": "display_data"
    },
    {
     "data": {
      "image/png": "[encoded data removed]",
      "text/plain": [
       "<Figure size 432x288 with 2 Axes>"
      ]
     },
     "metadata": {
      "needs_background": "light"
     },
     "output_type": "display_data"
    }
   ],
   "source": [
    "m_abbrs = [m for m in calendar.month_abbr]\n",
    "\n",
    "# month_abbr = m_abbrs[1]\n",
    "reference_ds = cluster_ds.isel(time=2).cluster_5\n",
    "# plot_cluster_ds([5], reference_ds, month_abbr=month_abbr)\n",
    "\n",
    "for time in cluster_ds.time.values:\n",
    "    month_abbr = m_abbrs[time]\n",
    "    comparison_ds = cluster_ds.isel(time=time).cluster_5\n",
    "    \n",
    "    remap_dict, _ = get_matching_groups(reference_ds, comparison_ds)\n",
    "    \n",
    "    colors_remapped = np.array(colors)[[int(v) for v in remap_dict.values()]]\n",
    "    new_cmap = ListedColormap(colors_remapped)\n",
    "#     print(remap_dict)\n",
    "    \n",
    "    fig, ax = plt.subplots()\n",
    "    comparison_ds.plot(cmap=cmap, ax=ax)\n",
    "    \n",
    "#     remap_comparison = remap_xarray_values(\n",
    "#         comparison_ds, lookup_dict=remap_dict, new_variable='cluster_5'\n",
    "#     )\n",
    "#     remap_comparison.plot(cmap=cmap, ax=ax)\n",
    "    \n",
    "#     plot_cluster_ds([5], comparison_ds, month_abbr=month_abbr, cmap=cmap)"
   ]
  },
  {
   "cell_type": "code",
   "execution_count": 336,
   "metadata": {},
   "outputs": [
    {
     "data": {
      "text/plain": [
       "<matplotlib.image.AxesImage at 0x7fd0ddf22390>"
      ]
     },
     "execution_count": 336,
     "metadata": {},
     "output_type": "execute_result"
    },
    {
     "data": {
      "image/png": "[encoded data removed]",
      "text/plain": [
       "<Figure size 360x72 with 1 Axes>"
      ]
     },
     "metadata": {
      "needs_background": "light"
     },
     "output_type": "display_data"
    },
    {
     "data": {
      "image/png": "[encoded data removed]",
      "text/plain": [
       "<Figure size 360x72 with 1 Axes>"
      ]
     },
     "metadata": {
      "needs_background": "light"
     },
     "output_type": "display_data"
    },
    {
     "data": {
      "image/png": "[encoded data removed]",
      "text/plain": [
       "<Figure size 432x288 with 2 Axes>"
      ]
     },
     "metadata": {
      "needs_background": "light"
     },
     "output_type": "display_data"
    }
   ],
   "source": [
    "colors_remapped = np.array(colors)[[int(v) for v in remap_dict.values()]]\n",
    "sns.palplot(colors)\n",
    "sns.palplot(colors_remapped)\n",
    "\n",
    "# 0->4, 1->2, 2->1, 3=3, 4->0\n",
    "new_cmap = ListedColormap(colors_remapped)\n",
    "\n",
    "fig, axs = plt.subplots(1, 2)\n",
    "axs[0].imshow(cluster_ds.isel(time=0).cluster_5.values[::-1, :], cmap=cmap)\n",
    "axs[1].imshow(cluster_ds.isel(time=1).cluster_5.values[::-1, :], cmap=new_cmap)"
   ]
  },
  {
   "cell_type": "code",
   "execution_count": 274,
   "metadata": {},
   "outputs": [
    {
     "name": "stdout",
     "output_type": "stream",
     "text": [
      "{0.0: 4.0, 1.0: 2.0, 2.0: 1.0, 4.0: 0.0}\n"
     ]
    },
    {
     "data": {
      "text/html": [
       "<div>\n",
       "<style scoped>\n",
       "    .dataframe tbody tr th:only-of-type {\n",
       "        vertical-align: middle;\n",
       "    }\n",
       "\n",
       "    .dataframe tbody tr th {\n",
       "        vertical-align: top;\n",
       "    }\n",
       "\n",
       "    .dataframe thead th {\n",
       "        text-align: right;\n",
       "    }\n",
       "</style>\n",
       "<table border=\"1\" class=\"dataframe\">\n",
       "  <thead>\n",
       "    <tr style=\"text-align: right;\">\n",
       "      <th></th>\n",
       "      <th>group_0</th>\n",
       "      <th>group_1</th>\n",
       "      <th>count</th>\n",
       "    </tr>\n",
       "  </thead>\n",
       "  <tbody>\n",
       "    <tr>\n",
       "      <th>18</th>\n",
       "      <td>3.0</td>\n",
       "      <td>3.0</td>\n",
       "      <td>160.0</td>\n",
       "    </tr>\n",
       "  </tbody>\n",
       "</table>\n",
       "</div>"
      ],
      "text/plain": [
       "    group_0  group_1  count\n",
       "18      3.0      3.0  160.0"
      ]
     },
     "execution_count": 274,
     "metadata": {},
     "output_type": "execute_result"
    }
   ],
   "source": [
    "# # {group_0: {group_1_value: group_1_count}}\n",
    "# unique_counts = dict()\n",
    "# for value in np.unique(jan[~np.isnan(jan)]):\n",
    "#     # count the number of matching pixels in each group\n",
    "#     counts = np.unique(feb[jan == value], return_counts=True)\n",
    "#     unique_counts[value] = dict(zip(counts[0], counts[1]))\n",
    "\n",
    "               \n",
    "# d = pd.DataFrame(unique_counts)  # rows = group_1_values, cols = group_0_values\n",
    "# d.columns = d.columns.rename('group_0')\n",
    "# d.index = d.index.rename('group_1')\n",
    "# # 2D -> 1D idx, group_0, group_1, count\n",
    "# d = d.unstack().reset_index().rename(columns={0: 'count'})\n",
    "\n",
    "unique_counts = count_matching_pixels(reference_ds, comparison_ds)\n",
    "df = convert_counts_dict_to_dataframe(unique_counts)\n",
    "\n",
    "# get the counts of each pixel value/group (excl. nans) and select the most cross-overs\n",
    "# order is important so we do the BEST match first\n",
    "# get the largest first\n",
    "group_0_list = []\n",
    "group_1_list = []\n",
    "\n",
    "max_count_row = get_max_count_row(df)\n",
    "group_0_list.append(\n",
    "    max_count_row.group_0\n",
    ")\n",
    "group_1_list.append(\n",
    "    max_count_row.group_1\n",
    ")\n",
    "\n",
    "# drop_already_assigned_values\n",
    "df = drop_already_assigned_values(\n",
    "    df, group_1_list+group_0_list\n",
    ")\n",
    "# get_max_count_row\n",
    "max_count_row = get_max_count_row(df)\n",
    "\n",
    "group_0_list.append(\n",
    "    max_count_row.group_0\n",
    ")\n",
    "group_1_list.append(\n",
    "    max_count_row.group_1\n",
    ")\n",
    "\n",
    "# # drop_already_assigned_values\n",
    "df = drop_already_assigned_values(\n",
    "    df, group_1_list+group_0_list\n",
    ")\n",
    "df\n",
    "\n",
    "\n",
    "def most_overlapping_pixels_algorithm() -> Dict Tuple[List[float], List[float]]:\n",
    "    # get the counts of each pixel value/group (excl. nans) and select the most cross-overs\n",
    "    # order is important so we do the BEST match first\n",
    "    # get the largest first\n",
    "    group_0_list = []\n",
    "    group_1_list = []\n",
    "\n",
    "    # match each reference_group to closest matching comparison_group\n",
    "    # track progress by removing the matches that have already been made\n",
    "    # from the dataframe\n",
    "    while df.shape[0] > 0:\n",
    "        # IF only one group-value left, assign it to the final remaining group (itself)\n",
    "        if len(df.group_1.unique()) == 1:\n",
    "            # final value is itself \n",
    "            # remap_dict[df.group_1.unique()[0]] = df.group_1.unique()[0]\n",
    "            group_0_list.append(df.group_1.unique()[0])\n",
    "            group_1_list.append(df.group_1.unique()[0])\n",
    "            df = drop_already_assigned_values(\n",
    "                df, group_1_list + group_0_list]\n",
    "            )\n",
    "\n",
    "        else:\n",
    "            # otherwise match to the closest remaining match (most overlapping pixels)\n",
    "            max_count_row = get_max_count_row(df)\n",
    "            group_0_list.append(\n",
    "                max_count_row.group_0\n",
    "            )\n",
    "            group_1_list.append(\n",
    "                max_count_row.group_1\n",
    "            )\n",
    "\n",
    "            # drop_already_assigned_values\n",
    "            df = drop_already_assigned_values(\n",
    "                df, group_1_list+group_0_list\n",
    "            )\n",
    "            \n",
    "    remap_dict = calculate_remap_dict(group_0_list, group_1_list)\n",
    "    \n",
    "    return remap_dict\n",
    "\n",
    "\n",
    "def \n",
    "# def calculate_remap_dict(group_1_list):\n",
    "#     \n",
    "\n",
    "remap_dict = dict()\n",
    "# remap dict is symmetrical: \n",
    "# values in group_0->group_1 are the same mapping as group_1-> group_0\n",
    "remap_dict.update(dict(zip(group_0_list, group_1_list)))\n",
    "remap_dict.update(dict(zip(remap_dict.values(), remap_dict.keys())))\n",
    "\n",
    "# sort the remap_dict\n",
    "remap_dict = {k :remap_dict[k]  for k in sorted(remap_dict)}\n",
    "\n",
    "print(remap_dict)\n",
    "df"
   ]
  },
  {
   "cell_type": "code",
   "execution_count": 272,
   "metadata": {},
   "outputs": [
    {
     "data": {
      "text/plain": [
       "False"
      ]
     },
     "execution_count": 272,
     "metadata": {},
     "output_type": "execute_result"
    }
   ],
   "source": []
  },
  {
   "cell_type": "code",
   "execution_count": 249,
   "metadata": {},
   "outputs": [
    {
     "data": {
      "text/plain": [
       "{0.0: 4.0, 1.0: 2.0, 2.0: 1.0, 3.0: 3.0, 4.0: 0.0}"
      ]
     },
     "execution_count": 249,
     "metadata": {},
     "output_type": "execute_result"
    }
   ],
   "source": [
    "from collections import OrderedDict\n",
    "\n",
    "remap_dict = dict()\n",
    "\n",
    "# final value is itself \n",
    "remap_dict[new_d2.group_1.unique()[0]] = new_d2.group_1.unique()[0]\n",
    "\n",
    "# remap dict is symmetrical: \n",
    "# values in group_0->group_1 are the same mapping as group_1-> group_0\n",
    "remap_dict.update(dict(zip(group_0_list, group_1_list)))\n",
    "remap_dict.update(dict(zip(remap_dict.values(), remap_dict.keys())))\n",
    "\n",
    "# sort the remap_dict\n",
    "remap_dict = {k :remap_dict[k]  for k in sorted(remap_dict)}\n",
    "\n",
    "remap_dict"
   ]
  },
  {
   "cell_type": "code",
   "execution_count": null,
   "metadata": {},
   "outputs": [],
   "source": []
  },
  {
   "cell_type": "code",
   "execution_count": 181,
   "metadata": {},
   "outputs": [
    {
     "data": {
      "text/html": [
       "<div>\n",
       "<style scoped>\n",
       "    .dataframe tbody tr th:only-of-type {\n",
       "        vertical-align: middle;\n",
       "    }\n",
       "\n",
       "    .dataframe tbody tr th {\n",
       "        vertical-align: top;\n",
       "    }\n",
       "\n",
       "    .dataframe thead th {\n",
       "        text-align: right;\n",
       "    }\n",
       "</style>\n",
       "<table border=\"1\" class=\"dataframe\">\n",
       "  <thead>\n",
       "    <tr style=\"text-align: right;\">\n",
       "      <th></th>\n",
       "      <th>group_0</th>\n",
       "      <th>group_1</th>\n",
       "      <th>count</th>\n",
       "    </tr>\n",
       "  </thead>\n",
       "  <tbody>\n",
       "    <tr>\n",
       "      <th>0</th>\n",
       "      <td>0.0</td>\n",
       "      <td>0.0</td>\n",
       "      <td>1.0</td>\n",
       "    </tr>\n",
       "    <tr>\n",
       "      <th>1</th>\n",
       "      <td>0.0</td>\n",
       "      <td>1.0</td>\n",
       "      <td>183.0</td>\n",
       "    </tr>\n",
       "    <tr>\n",
       "      <th>2</th>\n",
       "      <td>0.0</td>\n",
       "      <td>2.0</td>\n",
       "      <td>11.0</td>\n",
       "    </tr>\n",
       "    <tr>\n",
       "      <th>3</th>\n",
       "      <td>0.0</td>\n",
       "      <td>3.0</td>\n",
       "      <td>1.0</td>\n",
       "    </tr>\n",
       "    <tr>\n",
       "      <th>4</th>\n",
       "      <td>0.0</td>\n",
       "      <td>4.0</td>\n",
       "      <td>98.0</td>\n",
       "    </tr>\n",
       "    <tr>\n",
       "      <th>5</th>\n",
       "      <td>1.0</td>\n",
       "      <td>0.0</td>\n",
       "      <td>NaN</td>\n",
       "    </tr>\n",
       "    <tr>\n",
       "      <th>6</th>\n",
       "      <td>1.0</td>\n",
       "      <td>1.0</td>\n",
       "      <td>33.0</td>\n",
       "    </tr>\n",
       "    <tr>\n",
       "      <th>7</th>\n",
       "      <td>1.0</td>\n",
       "      <td>2.0</td>\n",
       "      <td>205.0</td>\n",
       "    </tr>\n",
       "    <tr>\n",
       "      <th>8</th>\n",
       "      <td>1.0</td>\n",
       "      <td>3.0</td>\n",
       "      <td>NaN</td>\n",
       "    </tr>\n",
       "    <tr>\n",
       "      <th>9</th>\n",
       "      <td>1.0</td>\n",
       "      <td>4.0</td>\n",
       "      <td>1.0</td>\n",
       "    </tr>\n",
       "    <tr>\n",
       "      <th>10</th>\n",
       "      <td>2.0</td>\n",
       "      <td>0.0</td>\n",
       "      <td>167.0</td>\n",
       "    </tr>\n",
       "    <tr>\n",
       "      <th>11</th>\n",
       "      <td>2.0</td>\n",
       "      <td>1.0</td>\n",
       "      <td>105.0</td>\n",
       "    </tr>\n",
       "    <tr>\n",
       "      <th>12</th>\n",
       "      <td>2.0</td>\n",
       "      <td>2.0</td>\n",
       "      <td>NaN</td>\n",
       "    </tr>\n",
       "    <tr>\n",
       "      <th>13</th>\n",
       "      <td>2.0</td>\n",
       "      <td>3.0</td>\n",
       "      <td>2.0</td>\n",
       "    </tr>\n",
       "    <tr>\n",
       "      <th>14</th>\n",
       "      <td>2.0</td>\n",
       "      <td>4.0</td>\n",
       "      <td>NaN</td>\n",
       "    </tr>\n",
       "    <tr>\n",
       "      <th>15</th>\n",
       "      <td>3.0</td>\n",
       "      <td>0.0</td>\n",
       "      <td>NaN</td>\n",
       "    </tr>\n",
       "    <tr>\n",
       "      <th>16</th>\n",
       "      <td>3.0</td>\n",
       "      <td>1.0</td>\n",
       "      <td>12.0</td>\n",
       "    </tr>\n",
       "    <tr>\n",
       "      <th>17</th>\n",
       "      <td>3.0</td>\n",
       "      <td>2.0</td>\n",
       "      <td>11.0</td>\n",
       "    </tr>\n",
       "    <tr>\n",
       "      <th>18</th>\n",
       "      <td>3.0</td>\n",
       "      <td>3.0</td>\n",
       "      <td>160.0</td>\n",
       "    </tr>\n",
       "    <tr>\n",
       "      <th>19</th>\n",
       "      <td>3.0</td>\n",
       "      <td>4.0</td>\n",
       "      <td>3.0</td>\n",
       "    </tr>\n",
       "    <tr>\n",
       "      <th>20</th>\n",
       "      <td>4.0</td>\n",
       "      <td>0.0</td>\n",
       "      <td>409.0</td>\n",
       "    </tr>\n",
       "    <tr>\n",
       "      <th>21</th>\n",
       "      <td>4.0</td>\n",
       "      <td>1.0</td>\n",
       "      <td>NaN</td>\n",
       "    </tr>\n",
       "    <tr>\n",
       "      <th>22</th>\n",
       "      <td>4.0</td>\n",
       "      <td>2.0</td>\n",
       "      <td>NaN</td>\n",
       "    </tr>\n",
       "    <tr>\n",
       "      <th>23</th>\n",
       "      <td>4.0</td>\n",
       "      <td>3.0</td>\n",
       "      <td>2.0</td>\n",
       "    </tr>\n",
       "    <tr>\n",
       "      <th>24</th>\n",
       "      <td>4.0</td>\n",
       "      <td>4.0</td>\n",
       "      <td>NaN</td>\n",
       "    </tr>\n",
       "  </tbody>\n",
       "</table>\n",
       "</div>"
      ],
      "text/plain": [
       "    group_0  group_1  count\n",
       "0       0.0      0.0    1.0\n",
       "1       0.0      1.0  183.0\n",
       "2       0.0      2.0   11.0\n",
       "3       0.0      3.0    1.0\n",
       "4       0.0      4.0   98.0\n",
       "5       1.0      0.0    NaN\n",
       "6       1.0      1.0   33.0\n",
       "7       1.0      2.0  205.0\n",
       "8       1.0      3.0    NaN\n",
       "9       1.0      4.0    1.0\n",
       "10      2.0      0.0  167.0\n",
       "11      2.0      1.0  105.0\n",
       "12      2.0      2.0    NaN\n",
       "13      2.0      3.0    2.0\n",
       "14      2.0      4.0    NaN\n",
       "15      3.0      0.0    NaN\n",
       "16      3.0      1.0   12.0\n",
       "17      3.0      2.0   11.0\n",
       "18      3.0      3.0  160.0\n",
       "19      3.0      4.0    3.0\n",
       "20      4.0      0.0  409.0\n",
       "21      4.0      1.0    NaN\n",
       "22      4.0      2.0    NaN\n",
       "23      4.0      3.0    2.0\n",
       "24      4.0      4.0    NaN"
      ]
     },
     "execution_count": 181,
     "metadata": {},
     "output_type": "execute_result"
    }
   ],
   "source": [
    "new_d2"
   ]
  },
  {
   "cell_type": "code",
   "execution_count": null,
   "metadata": {},
   "outputs": [],
   "source": []
  },
  {
   "cell_type": "code",
   "execution_count": null,
   "metadata": {},
   "outputs": [],
   "source": [
    "def calculate_new_order() -> np.array:\n",
    "    new_order = None\n",
    "    return new_order\n",
    "\n",
    "def create_new_cmap(colors: np.array, new_order: np.array) -> ListedColormap:\n",
    "    \"\"\"Reorder the colors by new_order and return a valid matplotlib colormap\"\"\"\n",
    "    return ListedColormap(colors[new_order])"
   ]
  },
  {
   "cell_type": "code",
   "execution_count": 76,
   "metadata": {},
   "outputs": [
    {
     "data": {
      "text/plain": [
       "array([0, 1, 2, 3, 4])"
      ]
     },
     "execution_count": 76,
     "metadata": {},
     "output_type": "execute_result"
    }
   ],
   "source": [
    "np.arange(0, 5)"
   ]
  },
  {
   "cell_type": "code",
   "execution_count": null,
   "metadata": {},
   "outputs": [],
   "source": []
  },
  {
   "cell_type": "code",
   "execution_count": null,
   "metadata": {},
   "outputs": [],
   "source": []
  },
  {
   "cell_type": "markdown",
   "metadata": {},
   "source": [
    "# MARGINALIA"
   ]
  },
  {
   "cell_type": "code",
   "execution_count": null,
   "metadata": {},
   "outputs": [],
   "source": [
    "latitudes = latlons_data[:, 0]\n",
    "longitudes = latlons_data[:, 1]\n",
    "pixels = latlons\n",
    "\n",
    "out = []\n",
    "for k in ks:\n",
    "    cluster = np.array([v for v in static_clusters[k].values()])\n",
    "    coords = {'pixel': pixels}\n",
    "    dims = ['pixel']\n",
    "    cluster_ds = xr.Dataset({f'cluster_{k}': (dims, cluster), 'lat': (dims, latitudes), 'lon': (dims, longitudes),})\n",
    "    out.append(cluster_ds)\n",
    "\n",
    "static_cluster_ds = xr.auto_combine(out)\n",
    "static_cluster_ds = static_cluster_ds.to_dataframe().set_index(['lat','lon']).to_xarray()"
   ]
  },
  {
   "cell_type": "code",
   "execution_count": null,
   "metadata": {},
   "outputs": [],
   "source": [
    "# latitudes = latlons_data[:, 0]\n",
    "# longitudes = latlons_data[:, 1]\n",
    "pixels = latlons\n",
    "convert_clusters_to_ds(ks, static_clusters=static_clusters, pixels=pixels)\n",
    "pixels"
   ]
  },
  {
   "cell_type": "markdown",
   "metadata": {},
   "source": [
    "### [UNNECESSARY] which of these neurons actually vary?"
   ]
  },
  {
   "cell_type": "code",
   "execution_count": null,
   "metadata": {},
   "outputs": [],
   "source": [
    "threshold = 0.01\n",
    "\n",
    "embedding = all_embeddings[0]\n",
    "mask_same = np.all(np.isclose(embedding, embedding[0,:], threshold), axis=0)\n",
    "print(f\"How many neurons have the same values (thresh {threshold}): \".ljust(58), mask_same.sum())\n",
    "print(f\"How many neurons are left: \".ljust(58), len(mask_same) - mask_same.sum())\n",
    "remove_constants = embedding[:, ~mask_same]"
   ]
  },
  {
   "cell_type": "code",
   "execution_count": null,
   "metadata": {},
   "outputs": [],
   "source": [
    "fig, ax = plt.subplots(figsize=(12, 8))\n",
    "pd.DataFrame({'std': np.std(embedding, axis=0)}, index=np.arange(0, 64)).plot.bar(ax=ax)\n",
    "\n",
    "plt.legend(fontsize=16)\n",
    "ax.set_title('Variability of the Static Embedding')\n",
    "ax.set_ylabel('Standard Deviation')\n",
    "ax.set_xlabel('Neuron')\n",
    "\n",
    "for item in ([ax.title, ax.xaxis.label, ax.yaxis.label] # + ax.get_xticklabels()\n",
    "              + ax.get_yticklabels()):\n",
    "    item.set_fontsize(20)"
   ]
  },
  {
   "cell_type": "markdown",
   "metadata": {},
   "source": [
    "### Remove the Non-Varying neurons"
   ]
  },
  {
   "cell_type": "code",
   "execution_count": null,
   "metadata": {},
   "outputs": [],
   "source": [
    "fig, ax = plt.subplots(figsize=(12,5))\n",
    "img = ax.pcolor(remove_constants.T, cmap='plasma')\n",
    "ax.set_xlabel(\"Pixels\")\n",
    "ax.set_ylabel(\"Input gate neuron\")\n",
    "ax.set_title(\"Input gate activations\")\n",
    "cbar = plt.colorbar(img, ax=ax)\n",
    "cbar.ax.set_ylabel(\"Activation\")"
   ]
  },
  {
   "cell_type": "markdown",
   "metadata": {},
   "source": [
    "# KMeans on the Embeddings"
   ]
  },
  {
   "cell_type": "code",
   "execution_count": null,
   "metadata": {},
   "outputs": [],
   "source": [
    "from sklearn.cluster import KMeans"
   ]
  },
  {
   "cell_type": "code",
   "execution_count": null,
   "metadata": {},
   "outputs": [],
   "source": [
    "# Taken directly from Kratzert et al (2019) \n",
    "# https://github.com/kratzert/ealstm_regional_modeling/blob/master/papercode/clusterutils.py\n",
    "from collections import defaultdict\n",
    "\n",
    "ks = [3, 4, 5, 8]\n",
    "clusters = {k: {} for k in ks}\n",
    "for k in ks:\n",
    "    clusterer = KMeans(n_clusters=k, random_state=0, init='k-means++',\n",
    "                       n_init=200).fit(embedding)\n",
    "\n",
    "    for pixel in range(embedding.shape[0]):\n",
    "        emb = embedding[pixel, :]\n",
    "        clusters[k][pixel] = clusterer.predict(emb.reshape(1, -1))[0]"
   ]
  },
  {
   "cell_type": "code",
   "execution_count": null,
   "metadata": {},
   "outputs": [],
   "source": [
    "np.array([v for v in clusters[5].values()]).shape"
   ]
  },
  {
   "cell_type": "code",
   "execution_count": null,
   "metadata": {},
   "outputs": [],
   "source": [
    "latitudes = latlons_data[:, 0]\n",
    "longitudes = latlons_data[:, 1]\n",
    "pixels = latlons\n",
    "\n",
    "out = []\n",
    "for k in ks:\n",
    "    cluster = np.array([v for v in clusters[k].values()])\n",
    "    coords = {'pixel': pixels}\n",
    "    dims = ['pixel']\n",
    "    cluster_ds = xr.Dataset({f'cluster_{k}': (dims, cluster), 'lat': (dims, latitudes), 'lon': (dims, longitudes),})\n",
    "    out.append(cluster_ds)\n",
    "\n",
    "cluster_ds = xr.auto_combine(out)\n",
    "cluster_ds = cluster_ds.to_dataframe().set_index(['lat','lon']).to_xarray()"
   ]
  },
  {
   "cell_type": "code",
   "execution_count": null,
   "metadata": {},
   "outputs": [],
   "source": [
    "for k in ks:\n",
    "    fig, ax = plt.subplots(figsize=(12,8))\n",
    "    cluster_ds[f'cluster_{k}'].plot(ax=ax)\n",
    "    ax.set_title(f'Output of Static Embedding Clustering [k={k}]');\n",
    "\n",
    "    for item in ([ax.title, ax.xaxis.label, ax.yaxis.label]): # + ax.get_xticklabels() + ax.get_yticklabels()):\n",
    "        item.set_fontsize(20)"
   ]
  },
  {
   "cell_type": "markdown",
   "metadata": {},
   "source": [
    "# Compare with the output of the raw static data \n",
    "(what info does the EALSTM embedding actually contribute?)"
   ]
  },
  {
   "cell_type": "code",
   "execution_count": null,
   "metadata": {},
   "outputs": [],
   "source": [
    "print(static_x.shape)\n",
    "print(embedding.shape)"
   ]
  },
  {
   "cell_type": "code",
   "execution_count": null,
   "metadata": {},
   "outputs": [],
   "source": [
    "# Taken directly from Kratzert et al (2019) \n",
    "# https://github.com/kratzert/ealstm_regional_modeling/blob/master/papercode/clusterutils.py\n",
    "from collections import defaultdict\n",
    "\n",
    "ks = [3, 4, 5, 8]\n",
    "# def fit_kmeans(array: np.array, ks: List[int] = [4]) -> Dict[int, Dict[int, int]]:\n",
    "static_clusters = {k: {} for k in ks}\n",
    "for k in ks:\n",
    "    clusterer = KMeans(n_clusters=k, random_state=0, init='k-means++',\n",
    "                       n_init=200).fit(static_x)\n",
    "\n",
    "    for pixel in range(embedding.shape[0]):\n",
    "        emb = static_x[pixel, :]\n",
    "        static_clusters[k][pixel] = clusterer.predict(emb.reshape(1, -1))[0]"
   ]
  },
  {
   "cell_type": "code",
   "execution_count": null,
   "metadata": {},
   "outputs": [],
   "source": [
    "np.array([v for v in static_clusters[5].values()]).shape"
   ]
  },
  {
   "cell_type": "code",
   "execution_count": null,
   "metadata": {},
   "outputs": [],
   "source": [
    "latitudes = latlons_data[:, 0]\n",
    "longitudes = latlons_data[:, 1]\n",
    "pixels = latlons\n",
    "\n",
    "out = []\n",
    "for k in ks:\n",
    "    cluster = np.array([v for v in static_clusters[k].values()])\n",
    "    coords = {'pixel': pixels}\n",
    "    dims = ['pixel']\n",
    "    cluster_ds = xr.Dataset({f'cluster_{k}': (dims, cluster), 'lat': (dims, latitudes), 'lon': (dims, longitudes),})\n",
    "    out.append(cluster_ds)\n",
    "\n",
    "static_cluster_ds = xr.auto_combine(out)\n",
    "static_cluster_ds = static_cluster_ds.to_dataframe().set_index(['lat','lon']).to_xarray()"
   ]
  },
  {
   "cell_type": "code",
   "execution_count": null,
   "metadata": {},
   "outputs": [],
   "source": [
    "for k in ks:\n",
    "    fig, ax = plt.subplots(figsize=(12,8))\n",
    "    static_cluster_ds[f'cluster_{k}'].plot(ax=ax)\n",
    "    ax.set_title(f'Output of RAW Static Data Clustering [k={k}]');\n",
    "\n",
    "    for item in ([ax.title, ax.xaxis.label, ax.yaxis.label]): # + ax.get_xticklabels() + ax.get_yticklabels()):\n",
    "        item.set_fontsize(20)"
   ]
  },
  {
   "cell_type": "markdown",
   "metadata": {},
   "source": [
    "# Get Morris Gradients"
   ]
  },
  {
   "cell_type": "code",
   "execution_count": null,
   "metadata": {},
   "outputs": [],
   "source": [
    "?ealstm.get_dataloader"
   ]
  },
  {
   "cell_type": "code",
   "execution_count": null,
   "metadata": {},
   "outputs": [],
   "source": [
    "ealstm.ignore_vars =[v for v in ealstm.ignore_vars if v not in ['VCI3M', 'modis_ndvi']]\n",
    "dl = ealstm.get_dataloader('train')\n",
    "x = [x for x in dl]"
   ]
  },
  {
   "cell_type": "code",
   "execution_count": null,
   "metadata": {},
   "outputs": [],
   "source": [
    "print(x[0][0][5][:10])\n",
    "print(x[1][0][5][:10])"
   ]
  },
  {
   "cell_type": "code",
   "execution_count": null,
   "metadata": {},
   "outputs": [],
   "source": [
    "test_arrays_loader = ealstm.get_dataloader(\n",
    "                mode=\"train\", batch_file_size=1, to_tensor=True\n",
    ")\n",
    "_, val = list(next(iter(test_arrays_loader)).items())[0]\n",
    "var_names = val.var_names\n",
    "x = val.x"
   ]
  },
  {
   "cell_type": "code",
   "execution_count": null,
   "metadata": {},
   "outputs": [],
   "source": [
    "?ealstm._get_morris_explanations"
   ]
  },
  {
   "cell_type": "code",
   "execution_count": null,
   "metadata": {},
   "outputs": [],
   "source": [
    "ealstm.explain(method='morris')"
   ]
  },
  {
   "cell_type": "code",
   "execution_count": null,
   "metadata": {},
   "outputs": [],
   "source": []
  }
 ],
 "metadata": {
  "kernelspec": {
   "display_name": "Python 3",
   "language": "python",
   "name": "python3"
  },
  "language_info": {
   "codemirror_mode": {
    "name": "ipython",
    "version": 3
   },
   "file_extension": ".py",
   "mimetype": "text/x-python",
   "name": "python",
   "nbconvert_exporter": "python",
   "pygments_lexer": "ipython3",
   "version": "3.7.6"
  }
 },
 "nbformat": 4,
 "nbformat_minor": 4
}
